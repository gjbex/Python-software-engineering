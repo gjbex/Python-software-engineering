{
 "cells": [
  {
   "cell_type": "markdown",
   "id": "eb6fefa2-936f-4ec3-9349-6640f1018bc8",
   "metadata": {},
   "source": [
    "# Requirements"
   ]
  },
  {
   "cell_type": "code",
   "execution_count": 40,
   "id": "f99916a9-9318-4b25-802c-66e3eb3a9189",
   "metadata": {},
   "outputs": [],
   "source": [
    "import sys"
   ]
  },
  {
   "cell_type": "markdown",
   "id": "6855a409-00e9-4cef-b498-cec8c64c8d03",
   "metadata": {},
   "source": [
    "# Problem setting"
   ]
  },
  {
   "cell_type": "markdown",
   "id": "b872f30d-9534-449a-98df-9585a28b5845",
   "metadata": {},
   "source": [
    "Python as a type `list` that works peerfectly well, and the implementation is well-optimized.  However, Python lists are ephemeral, not persistent, i.e., if you, e.g., append an element to a list, the original list no longer exists. In other words, the `append` method has side effects.\n",
    "\n",
    "While this is fine (and likely expected) for an imperative programming language, this is not acceptable in functional programming where you expect functions to be side effect-free.\n",
    "\n",
    "For persistent lists, some operations will have to copy part of the data structure, not the values stored in that data structure, but pats of the structure itself.  This will of course have a performance impact.  On the upside, this implies that persistent data structures can be used without hassle in parallel programs.\n",
    "\n",
    "Data structures can be made persistent, i.e., they support multiple versions.  Here this is illustrated by the implementation of a persistent list."
   ]
  },
  {
   "cell_type": "markdown",
   "id": "fcb6b300-65a3-42ae-baf9-3ed7519b4180",
   "metadata": {},
   "source": [
    "# Data structure"
   ]
  },
  {
   "cell_type": "markdown",
   "id": "e0fe5499-a915-46a0-92fb-edd9c3f7547c",
   "metadata": {},
   "source": [
    "A list will be represented using `tuple` and `None`.  The empty list is represented by `None`, a list with a single element the 2-tuple `('a', None)`, while a list with two elements is a 2-tuple that has the first element of the list as its first element, the second element of the list as its second, under the form of a tuple: `('a', ('b', None))`\n",
    "\n",
    "More generally, a list is represented by a tuple, the first element is the head of the list, the second the tail, i.e., all other elements in a list, so for a list with four elements:\n",
    "```\n",
    "('a', ('b', ('c', ('d', None))))\n",
    "```\n",
    "\n",
    "Since a `tuple` in Python is immutable, persistence is already partly guaranteed since once created, a tuple can not be modified."
   ]
  },
  {
   "cell_type": "markdown",
   "id": "809e00a1-95d7-4d6f-b329-03c0dfc16baa",
   "metadata": {},
   "source": [
    "# Basic operations"
   ]
  },
  {
   "cell_type": "markdown",
   "id": "b33cf5d3-59d0-48ea-a0cf-4b16d0649b48",
   "metadata": {},
   "source": [
    "You need three basic functions for persistence lists, and those will let you implement all other list operations:\n",
    "* `cons(x, xs)`: construct a list by prepending the element `x` to the list `xs`;\n",
    "* `head(xs)`: return the head of the list `xs`, i.e., its first element;\n",
    "* `tail(xs)`: return the tail of the list, i.e., a list containing all elements, except the first.\n",
    "\n",
    "Applying `head` or `tail` to an empty list should raise an exception, `ValueError` is appropriate.  For convenience, we also implement `is_empty(xs)` that checks whether a list is empty, as well as a function `empty()` that returns an empty list."
   ]
  },
  {
   "cell_type": "code",
   "execution_count": 75,
   "id": "e8e953f0-a9f3-42ec-bf6b-03b56bb2a94b",
   "metadata": {},
   "outputs": [],
   "source": [
    "def empty():\n",
    "    '''Create an empty list\n",
    "    \n",
    "    Returns\n",
    "    -------\n",
    "    None\n",
    "        empty list\n",
    "    '''\n",
    "    return None"
   ]
  },
  {
   "cell_type": "code",
   "execution_count": 73,
   "id": "f40627a1-e8e5-47e7-8fd8-5376b36c9891",
   "metadata": {},
   "outputs": [],
   "source": [
    "def is_empty(xs):\n",
    "    '''Returns True if the list is empty, false otherwise\n",
    "    \n",
    "    Parameters\n",
    "    ----------\n",
    "    xs: tuple[Any, tuple | None] | None\n",
    "        list to check for emptiness\n",
    "        \n",
    "    Returns\n",
    "    -------\n",
    "    bool\n",
    "        True if the list is empty, false otherwise\n",
    "    '''\n",
    "    return xs is None"
   ]
  },
  {
   "cell_type": "code",
   "execution_count": 77,
   "id": "152b2f47-87fb-4342-813e-4494f3c865c1",
   "metadata": {},
   "outputs": [],
   "source": [
    "def cons(x, xs):\n",
    "    '''Construct a list with x as head and xs as tail\n",
    "    \n",
    "    Parameters\n",
    "    ----------\n",
    "    x: Any\n",
    "        value to be the first element in the new list\n",
    "    xs: tuple[Any, tuple | None]\n",
    "        list that is the tail of the new list\n",
    "    \n",
    "    Returns\n",
    "    -------\n",
    "    tuple[Any, tuple | None]\n",
    "        new list\n",
    "    '''\n",
    "    return (x, xs)"
   ]
  },
  {
   "cell_type": "code",
   "execution_count": 78,
   "id": "1948bda8-010a-4460-8145-97dd399ec171",
   "metadata": {},
   "outputs": [],
   "source": [
    "def head(xs):\n",
    "    '''Return the head of the string\n",
    "    \n",
    "    Parameters\n",
    "    ----------\n",
    "    xs: tuple[Any, tuple | None] | None\n",
    "        list to get the first element of\n",
    "        \n",
    "    Returns\n",
    "    -------\n",
    "    Any\n",
    "        value of the first element in the list\n",
    "        \n",
    "    Raises\n",
    "    ------\n",
    "    ValueError\n",
    "        if the list is empty, i.e., xs == None\n",
    "    '''\n",
    "    if is_empty(xs):\n",
    "        raise ValueError('empty list')\n",
    "    return xs[0]"
   ]
  },
  {
   "cell_type": "code",
   "execution_count": 79,
   "id": "fd87734c-a79d-4ab6-829c-5a74d6d75ec8",
   "metadata": {},
   "outputs": [],
   "source": [
    "def tail(xs):\n",
    "    '''Return the tail of the string\n",
    "    \n",
    "    Parameters\n",
    "    ----------\n",
    "    xs: tuple[Any, tuple | None] | None\n",
    "        list to get the tail of as a list\n",
    "        \n",
    "    Returns\n",
    "    -------\n",
    "    tuple[Any, tuple | None] | None\n",
    "        tail of the list, note that the tail of a single-element list is the empty list,\n",
    "        so None\n",
    "        \n",
    "    Raises\n",
    "    ------\n",
    "    ValueError\n",
    "        if the list is empty, i.e., xs == None\n",
    "    '''\n",
    "\n",
    "    if is_empty(xs):\n",
    "        raise ValueError('empty list')\n",
    "    return xs[1]"
   ]
  },
  {
   "cell_type": "markdown",
   "id": "2eff2203-3850-40ec-91a7-a2edb43c520c",
   "metadata": {},
   "source": [
    "To test this, you can construct list of lengths up to some value.  However, lets first verify that the empty list is empty."
   ]
  },
  {
   "cell_type": "code",
   "execution_count": 86,
   "id": "19ab2a72-9264-4212-bc66-55174c941a56",
   "metadata": {},
   "outputs": [
    {
     "data": {
      "text/plain": [
       "True"
      ]
     },
     "execution_count": 86,
     "metadata": {},
     "output_type": "execute_result"
    }
   ],
   "source": [
    "is_empty(empty())"
   ]
  },
  {
   "cell_type": "code",
   "execution_count": 83,
   "id": "8079667d-75ec-4593-bc3b-e5816bd55b04",
   "metadata": {},
   "outputs": [
    {
     "name": "stdout",
     "output_type": "stream",
     "text": [
      "None empty\n",
      "(4, None)\n",
      "\thead = 4\n",
      "\ttail = None\n",
      "(3, (4, None))\n",
      "\thead = 3\n",
      "\ttail = (4, None)\n",
      "(2, (3, (4, None)))\n",
      "\thead = 2\n",
      "\ttail = (3, (4, None))\n",
      "(1, (2, (3, (4, None))))\n",
      "\thead = 1\n",
      "\ttail = (2, (3, (4, None)))\n"
     ]
    }
   ],
   "source": [
    "lists = [empty()]\n",
    "for i in range(4, 0, -1):\n",
    "    lists.append(cons(i, lists[-1]))\n",
    "for l in lists:\n",
    "    if is_empty(l):\n",
    "        print(f'{l} empty')\n",
    "    else:\n",
    "        print(f'{l}\\n\\thead = {head(l)}\\n\\ttail = {tail(l)}')"
   ]
  },
  {
   "cell_type": "markdown",
   "id": "a06f2370-2fd4-4323-a6d0-c1d28af201cd",
   "metadata": {},
   "source": [
    "Check that the expected exceptions are raised when `head` and `tail` are applied to empty lists."
   ]
  },
  {
   "cell_type": "code",
   "execution_count": 84,
   "id": "3f1f2dac-8239-4acd-948f-694b800ecffe",
   "metadata": {},
   "outputs": [
    {
     "name": "stdout",
     "output_type": "stream",
     "text": [
      "Expected exception raised: empty list\n"
     ]
    }
   ],
   "source": [
    "try:\n",
    "    head(empty())\n",
    "except ValueError as e:\n",
    "    print(f'Expected exception raised: {e}')"
   ]
  },
  {
   "cell_type": "code",
   "execution_count": 85,
   "id": "84745ae1-0051-42bd-9078-f024b4d87adb",
   "metadata": {},
   "outputs": [
    {
     "name": "stdout",
     "output_type": "stream",
     "text": [
      "Expected exception raised: empty list\n"
     ]
    }
   ],
   "source": [
    "try:\n",
    "    tail(empty())\n",
    "except ValueError as e:\n",
    "    print(f'Expected exception raised: {e}')"
   ]
  },
  {
   "cell_type": "markdown",
   "id": "7053a6d2-7b62-4afa-a243-f39e7e95839c",
   "metadata": {},
   "source": [
    "Note that although the elements were \"inserted\" in the previous list, those lists were not modified, hence they are persistent, as required."
   ]
  },
  {
   "cell_type": "markdown",
   "id": "5c5a2b87-9c73-47a7-a302-3daa8538283e",
   "metadata": {},
   "source": [
    "# None basic operations"
   ]
  },
  {
   "cell_type": "markdown",
   "id": "5daa95aa-fe3d-4279-9562-88bed8e55729",
   "metadata": {},
   "source": [
    "Using `empty`, `is_empty`, `cons`, `head` and `tail`, we can define every list operation we like.  We define a few lists that we can use to test the implementations."
   ]
  },
  {
   "cell_type": "code",
   "execution_count": 89,
   "id": "f72bfaf8-60c4-49fe-8727-d6fd2596971f",
   "metadata": {},
   "outputs": [],
   "source": [
    "l1 = cons(1, cons(2, cons(3, cons(4, empty()))))"
   ]
  },
  {
   "cell_type": "code",
   "execution_count": 90,
   "id": "339d32f5-1339-4dfa-b0dd-aa827c237bbc",
   "metadata": {},
   "outputs": [],
   "source": [
    "l2 = cons('a', cons('b', cons('c', empty())))"
   ]
  },
  {
   "cell_type": "markdown",
   "id": "0d38503b-2333-46f5-8aa6-26ae9349d7c1",
   "metadata": {},
   "source": [
    "## Iterator"
   ]
  },
  {
   "cell_type": "markdown",
   "id": "272e2d81-04fc-47ed-adf7-84c028a8d532",
   "metadata": {},
   "source": [
    "Let's first implement an iterator over the elements of the list since this makes some operations more convenient."
   ]
  },
  {
   "cell_type": "code",
   "execution_count": 88,
   "id": "6494d582-e2a9-47c9-b224-379187622609",
   "metadata": {},
   "outputs": [],
   "source": [
    "def elements(xs):\n",
    "    '''Iterate over the elements of a list\n",
    "    \n",
    "    Parameters\n",
    "    ----------\n",
    "    xs: tuple[Any, tuple | None] | None\n",
    "    \n",
    "    Returns\n",
    "    -------\n",
    "    Any | None\n",
    "        elements of the list, None when all elements were returned\n",
    "    '''\n",
    "    if not is_empty(xs):\n",
    "        yield xs[0]\n",
    "        yield from elements(tail(xs))"
   ]
  },
  {
   "cell_type": "code",
   "execution_count": 91,
   "id": "5d73b59b-7983-4cdf-944e-212de58c2728",
   "metadata": {},
   "outputs": [
    {
     "name": "stdout",
     "output_type": "stream",
     "text": [
      "1\n",
      "2\n",
      "3\n",
      "4\n"
     ]
    }
   ],
   "source": [
    "for element in elements(l1):\n",
    "    print(element)"
   ]
  },
  {
   "cell_type": "markdown",
   "id": "1fe85dd4-8ef9-4fac-98f6-6e6fa3e66c05",
   "metadata": {},
   "source": [
    "## Flatten"
   ]
  },
  {
   "cell_type": "markdown",
   "id": "228650a9-f635-4c97-8ffd-077af2a973a6",
   "metadata": {},
   "source": [
    "This is a function that can be used to simplify testing and visualization, it will convert a persistent list of $N$ elements into an $N$-tuple that has the same elements in the same order."
   ]
  },
  {
   "cell_type": "code",
   "execution_count": 92,
   "id": "af5154b5-3faf-4bc6-82ad-2f38d83b0f94",
   "metadata": {},
   "outputs": [],
   "source": [
    "def flatten(xs):\n",
    "    '''Flatten a list into a tuple\n",
    "    \n",
    "    Parameeters\n",
    "    -----------\n",
    "    xs: tuple[Any, tuple | None] | None\n",
    "        list to flatten\n",
    "        \n",
    "    Returns\n",
    "    -------\n",
    "    tuple[Any] | None\n",
    "        tuple representing the list or an empty list if the original list was empty\n",
    "    '''\n",
    "    if is_empty(xs):\n",
    "        return xs\n",
    "    return tuple(x for x in elements(xs))"
   ]
  },
  {
   "cell_type": "code",
   "execution_count": 93,
   "id": "99d2b45c-f0d0-4a06-9a0c-fa60c32bdea3",
   "metadata": {},
   "outputs": [
    {
     "data": {
      "text/plain": [
       "(1, 2, 3, 4)"
      ]
     },
     "execution_count": 93,
     "metadata": {},
     "output_type": "execute_result"
    }
   ],
   "source": [
    "flatten(l1)"
   ]
  },
  {
   "cell_type": "code",
   "execution_count": 21,
   "id": "689d10ba-00e3-42e9-b087-e21b1012b6f5",
   "metadata": {},
   "outputs": [],
   "source": [
    "def element_at(xs, i):\n",
    "    if xs is None:\n",
    "        raise ValueError('empty list')\n",
    "    if i == 0:\n",
    "        return head(xs)\n",
    "    return element_at(tail(xs), i - 1)"
   ]
  },
  {
   "cell_type": "code",
   "execution_count": 22,
   "id": "64c31f4e-45a9-4fbc-9d18-02a16c98e9e1",
   "metadata": {},
   "outputs": [
    {
     "data": {
      "text/plain": [
       "4"
      ]
     },
     "execution_count": 22,
     "metadata": {},
     "output_type": "execute_result"
    }
   ],
   "source": [
    "element_at(l, 3)"
   ]
  },
  {
   "cell_type": "code",
   "execution_count": 26,
   "id": "c2db41c9-6fe5-427c-b646-18e71c9a8be6",
   "metadata": {},
   "outputs": [],
   "source": [
    "def contains(xs, x):\n",
    "    if xs is None:\n",
    "        return False\n",
    "    if x == head(xs):\n",
    "        return True\n",
    "    return contains(tail(xs), x)"
   ]
  },
  {
   "cell_type": "code",
   "execution_count": 27,
   "id": "8f8a32e7-c528-4e0b-ab81-d28f0c0e89b9",
   "metadata": {},
   "outputs": [
    {
     "data": {
      "text/plain": [
       "True"
      ]
     },
     "execution_count": 27,
     "metadata": {},
     "output_type": "execute_result"
    }
   ],
   "source": [
    "contains(l, 2)"
   ]
  },
  {
   "cell_type": "code",
   "execution_count": 28,
   "id": "8cd77164-2208-4a97-8b27-25be8ea0e0a8",
   "metadata": {},
   "outputs": [
    {
     "data": {
      "text/plain": [
       "False"
      ]
     },
     "execution_count": 28,
     "metadata": {},
     "output_type": "execute_result"
    }
   ],
   "source": [
    "contains(l, 5)"
   ]
  },
  {
   "cell_type": "code",
   "execution_count": 29,
   "id": "f2eb4408-fb61-49d4-ab2d-1a1b04f718de",
   "metadata": {},
   "outputs": [],
   "source": [
    "def length(xs):\n",
    "    if xs is None:\n",
    "        return 0\n",
    "    return 1 + length(tail(xs))"
   ]
  },
  {
   "cell_type": "code",
   "execution_count": 30,
   "id": "801b8544-e5b1-4552-bc4c-504776378ebb",
   "metadata": {},
   "outputs": [
    {
     "data": {
      "text/plain": [
       "4"
      ]
     },
     "execution_count": 30,
     "metadata": {},
     "output_type": "execute_result"
    }
   ],
   "source": [
    "length(l)"
   ]
  },
  {
   "cell_type": "code",
   "execution_count": 32,
   "id": "f9b0196f-83c8-43bf-b2ac-23471ccf0cf5",
   "metadata": {},
   "outputs": [],
   "source": [
    "def insert_at(xs, x, i):\n",
    "    if i == 0:\n",
    "        return cons(x, xs)\n",
    "    if xs is None or i < 0:\n",
    "        raise ValueError('index out of bounds')\n",
    "    return cons(head(xs), insert_at(tail(xs), x, i - 1))"
   ]
  },
  {
   "cell_type": "code",
   "execution_count": 33,
   "id": "f3ecd84b-2ba4-4991-9b27-3b5dddd2fb9d",
   "metadata": {},
   "outputs": [],
   "source": [
    "l1 = insert_at(l, 13, 2)"
   ]
  },
  {
   "cell_type": "code",
   "execution_count": 34,
   "id": "792f5bb2-958e-4428-8b54-4d5282a71d90",
   "metadata": {},
   "outputs": [
    {
     "data": {
      "text/plain": [
       "(1, (2, (13, (3, (4, None)))))"
      ]
     },
     "execution_count": 34,
     "metadata": {},
     "output_type": "execute_result"
    }
   ],
   "source": [
    "l1"
   ]
  },
  {
   "cell_type": "code",
   "execution_count": 35,
   "id": "fc06a5f5-9a58-4c41-920e-97f2375799a1",
   "metadata": {},
   "outputs": [
    {
     "data": {
      "text/plain": [
       "(1, (2, (3, (4, None))))"
      ]
     },
     "execution_count": 35,
     "metadata": {},
     "output_type": "execute_result"
    }
   ],
   "source": [
    "l"
   ]
  },
  {
   "cell_type": "code",
   "execution_count": 37,
   "id": "0ace431a-31a0-461e-a074-e609211a5df9",
   "metadata": {},
   "outputs": [
    {
     "data": {
      "text/plain": [
       "(1, (2, (3, (4, (13, None)))))"
      ]
     },
     "execution_count": 37,
     "metadata": {},
     "output_type": "execute_result"
    }
   ],
   "source": [
    "insert_at(l, 13, 4)"
   ]
  },
  {
   "cell_type": "code",
   "execution_count": 42,
   "id": "a0e95986-d316-4b90-a495-76ef718c65d6",
   "metadata": {},
   "outputs": [
    {
     "name": "stderr",
     "output_type": "stream",
     "text": [
      "error: index out of bounds\n"
     ]
    }
   ],
   "source": [
    "try:\n",
    "    insert_at(l, 13, 5)\n",
    "except ValueError as e:\n",
    "    print(f'error: {str(e)}', file=sys.stderr)"
   ]
  },
  {
   "cell_type": "code",
   "execution_count": 50,
   "id": "1d50853e-3a24-496d-b44a-fe8712a0cbaa",
   "metadata": {},
   "outputs": [],
   "source": [
    "def remove_at(xs, i):\n",
    "    if xs is None:\n",
    "        raise ValueError('index out of bounds')\n",
    "    if i == 0:\n",
    "        return tail(xs)\n",
    "    return cons(head(xs), remove_at(tail(xs), i - 1))"
   ]
  },
  {
   "cell_type": "code",
   "execution_count": 44,
   "id": "bb67d1eb-4b6f-453e-87ac-cf7facab4200",
   "metadata": {},
   "outputs": [
    {
     "data": {
      "text/plain": [
       "(1, (3, (4, None)))"
      ]
     },
     "execution_count": 44,
     "metadata": {},
     "output_type": "execute_result"
    }
   ],
   "source": [
    "remove_at(l, 1)"
   ]
  },
  {
   "cell_type": "code",
   "execution_count": 46,
   "id": "ee268ff2-ce97-44ef-b0a4-8ca9ba16c562",
   "metadata": {},
   "outputs": [
    {
     "data": {
      "text/plain": [
       "(2, (3, (4, None)))"
      ]
     },
     "execution_count": 46,
     "metadata": {},
     "output_type": "execute_result"
    }
   ],
   "source": [
    "remove_at(l, 0)"
   ]
  },
  {
   "cell_type": "code",
   "execution_count": 48,
   "id": "9a51e49f-c83c-49d8-a170-1be35db5b9a4",
   "metadata": {},
   "outputs": [
    {
     "data": {
      "text/plain": [
       "(1, (2, (3, None)))"
      ]
     },
     "execution_count": 48,
     "metadata": {},
     "output_type": "execute_result"
    }
   ],
   "source": [
    "remove_at(l, 3)"
   ]
  },
  {
   "cell_type": "code",
   "execution_count": 51,
   "id": "89594115-7d68-4c18-b630-e2e9306b1ff9",
   "metadata": {},
   "outputs": [
    {
     "name": "stderr",
     "output_type": "stream",
     "text": [
      "error: index out of bounds\n"
     ]
    }
   ],
   "source": [
    "try:\n",
    "    remove_at(l, 4)\n",
    "except ValueError as e:\n",
    "    print(f'error: {str(e)}', file=sys.stderr)"
   ]
  },
  {
   "cell_type": "code",
   "execution_count": 53,
   "id": "bb4cd3a6-eeba-465f-8d8d-f1f2927bb5b0",
   "metadata": {},
   "outputs": [],
   "source": [
    "def concat(xs, ys):\n",
    "    if xs is None:\n",
    "        return ys\n",
    "    return cons(head(xs), concat(tail(xs), ys))"
   ]
  },
  {
   "cell_type": "code",
   "execution_count": 59,
   "id": "6ff4b80b-bb28-437b-9f45-c3c958c35b08",
   "metadata": {},
   "outputs": [],
   "source": [
    "l2 = cons('a', cons('b', cons('c')))"
   ]
  },
  {
   "cell_type": "code",
   "execution_count": 60,
   "id": "0a8f8b3e-8e62-4a79-8f7c-2478a5aeeaf4",
   "metadata": {},
   "outputs": [
    {
     "data": {
      "text/plain": [
       "(1, (2, (3, (4, ('a', ('b', ('c', None)))))))"
      ]
     },
     "execution_count": 60,
     "metadata": {},
     "output_type": "execute_result"
    }
   ],
   "source": [
    "concat(l, l2)"
   ]
  },
  {
   "cell_type": "code",
   "execution_count": 61,
   "id": "d897a19d-d7ce-4760-ae5d-789a6c776232",
   "metadata": {},
   "outputs": [
    {
     "data": {
      "text/plain": [
       "(1, (2, (3, (4, None))))"
      ]
     },
     "execution_count": 61,
     "metadata": {},
     "output_type": "execute_result"
    }
   ],
   "source": [
    "l"
   ]
  },
  {
   "cell_type": "code",
   "execution_count": 64,
   "id": "112c41a3-26fe-4696-a4c6-c72aa8a3f43a",
   "metadata": {},
   "outputs": [],
   "source": [
    "def reverse(xs):\n",
    "    if xs is None:\n",
    "        return None\n",
    "    return concat(reverse(tail(xs)), cons(head(xs)))"
   ]
  },
  {
   "cell_type": "code",
   "execution_count": 65,
   "id": "45206ed0-9d70-43ee-a398-b8e69b9d0a2b",
   "metadata": {},
   "outputs": [
    {
     "data": {
      "text/plain": [
       "(4, (3, (2, (1, None))))"
      ]
     },
     "execution_count": 65,
     "metadata": {},
     "output_type": "execute_result"
    }
   ],
   "source": [
    "reverse(l)"
   ]
  },
  {
   "cell_type": "code",
   "execution_count": null,
   "id": "4c20f9d9-61e1-4dda-a753-9be3e67fb118",
   "metadata": {},
   "outputs": [],
   "source": []
  }
 ],
 "metadata": {
  "kernelspec": {
   "display_name": "Python 3 (ipykernel)",
   "language": "python",
   "name": "python3"
  },
  "language_info": {
   "codemirror_mode": {
    "name": "ipython",
    "version": 3
   },
   "file_extension": ".py",
   "mimetype": "text/x-python",
   "name": "python",
   "nbconvert_exporter": "python",
   "pygments_lexer": "ipython3",
   "version": "3.11.2"
  }
 },
 "nbformat": 4,
 "nbformat_minor": 5
}
