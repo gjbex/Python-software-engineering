{
 "cells": [
  {
   "cell_type": "markdown",
   "id": "24b711ca-e117-4cdd-8278-eba14afd4e3c",
   "metadata": {},
   "source": [
    "In Python, you can create classes dynmically.  Since classes are objects, they can be constructed at runtime.  There are several approaches to accomplish this.  The simplest way is by creating a `dataclass`, a more general by using the `type` function creatively."
   ]
  },
  {
   "cell_type": "markdown",
   "id": "cef04246-2f01-4214-804c-8aea2c19934b",
   "metadata": {},
   "source": [
    "## Dynamic data classes"
   ]
  },
  {
   "cell_type": "code",
   "execution_count": 1,
   "id": "babecc09-0727-4808-9431-94e21d06072e",
   "metadata": {},
   "outputs": [],
   "source": [
    "from dataclasses import make_dataclass\n",
    "import typing"
   ]
  },
  {
   "cell_type": "markdown",
   "id": "5990b31a-4b7b-4f95-87c1-0da0ada39db3",
   "metadata": {},
   "source": [
    "The `dataclasses` module defines the `make_dataclass` function that allows you to create data classes on the fly in a very straightforward way.\n",
    "\n",
    "As a first example, you can create the class `Animal` that we will use as a base class for other classes."
   ]
  },
  {
   "cell_type": "code",
   "execution_count": 2,
   "id": "c1301efe-bfbb-4e4f-98ca-06680f3a1a68",
   "metadata": {},
   "outputs": [],
   "source": [
    "Animal = make_dataclass('Animal', [('name', str), ('nr_legs', int), ('species', str)])"
   ]
  },
  {
   "cell_type": "markdown",
   "id": "b3cf53b3-111e-4bdc-981c-b4593af1c688",
   "metadata": {},
   "source": [
    "As this is a concrete class, it can be used to instantiate objects of the type `types.Animal`."
   ]
  },
  {
   "cell_type": "code",
   "execution_count": 3,
   "id": "4227a2f0-0a09-4e3c-843a-80002dd78ed5",
   "metadata": {},
   "outputs": [],
   "source": [
    "nyx = Animal(name='Nyx', species='cat', nr_legs=4)"
   ]
  },
  {
   "cell_type": "code",
   "execution_count": 4,
   "id": "d96f2516-9dbe-462a-ae50-9d9147dcb50c",
   "metadata": {},
   "outputs": [
    {
     "data": {
      "text/plain": [
       "types.Animal"
      ]
     },
     "execution_count": 4,
     "metadata": {},
     "output_type": "execute_result"
    }
   ],
   "source": [
    "type(nyx)"
   ]
  },
  {
   "cell_type": "code",
   "execution_count": 5,
   "id": "40d0e230-532d-472b-885d-7a44aff81b3a",
   "metadata": {},
   "outputs": [],
   "source": [
    "del nyx"
   ]
  },
  {
   "cell_type": "markdown",
   "id": "6013ab73-856c-49ac-a707-a58727d99d40",
   "metadata": {},
   "source": [
    "### Derived classes"
   ]
  },
  {
   "cell_type": "markdown",
   "id": "5c91c975-0c4c-40a1-88e2-e8d6196e8e22",
   "metadata": {},
   "source": [
    "You can also use `Animal` as a base class for other classes, in this case `Cat` and `Dog`."
   ]
  },
  {
   "cell_type": "code",
   "execution_count": 6,
   "id": "db20ad4b-f590-4849-a440-a4caec3685b5",
   "metadata": {},
   "outputs": [],
   "source": [
    "Cat = make_dataclass('Cat', [('species', str, 'cat'), ('nr_legs', int, 4), ('sound', str, 'meow')], bases=(Animal, ))"
   ]
  },
  {
   "cell_type": "code",
   "execution_count": 7,
   "id": "15426a3a-3df0-42e7-ab41-ded7eb1d4d3b",
   "metadata": {},
   "outputs": [],
   "source": [
    "nyx = Cat(name='Nyx')"
   ]
  },
  {
   "cell_type": "code",
   "execution_count": 8,
   "id": "68328db4-df0e-4f34-b98e-3f7fe1ae54ed",
   "metadata": {},
   "outputs": [
    {
     "data": {
      "text/plain": [
       "'meow'"
      ]
     },
     "execution_count": 8,
     "metadata": {},
     "output_type": "execute_result"
    }
   ],
   "source": [
    "nyx.sound"
   ]
  },
  {
   "cell_type": "code",
   "execution_count": 9,
   "id": "15cccc2c-8d0d-471b-953a-fc53c20df6ae",
   "metadata": {},
   "outputs": [
    {
     "data": {
      "text/plain": [
       "'cat'"
      ]
     },
     "execution_count": 9,
     "metadata": {},
     "output_type": "execute_result"
    }
   ],
   "source": [
    "nyx.species"
   ]
  },
  {
   "cell_type": "code",
   "execution_count": 10,
   "id": "90172fe3-1d3a-4452-a224-a4889e359e12",
   "metadata": {},
   "outputs": [
    {
     "data": {
      "text/plain": [
       "4"
      ]
     },
     "execution_count": 10,
     "metadata": {},
     "output_type": "execute_result"
    }
   ],
   "source": [
    "nyx.nr_legs"
   ]
  },
  {
   "cell_type": "code",
   "execution_count": 11,
   "id": "6f853a5e-f0b3-4945-8628-83a08f1aae5e",
   "metadata": {},
   "outputs": [],
   "source": [
    "Dog = make_dataclass('Dog', [('nr_legs', int, 4), ('species', str, 'dog'), ('sound', str, 'woof')], bases=(Animal, ))"
   ]
  },
  {
   "cell_type": "code",
   "execution_count": 12,
   "id": "77588332-8dbd-443f-bbcc-ef51285f72b2",
   "metadata": {},
   "outputs": [],
   "source": [
    "pluto = Dog(name='Pluto')"
   ]
  },
  {
   "cell_type": "code",
   "execution_count": 13,
   "id": "3106dbe3-bd91-480f-922d-364ef3e8dbca",
   "metadata": {},
   "outputs": [
    {
     "data": {
      "text/plain": [
       "'dog'"
      ]
     },
     "execution_count": 13,
     "metadata": {},
     "output_type": "execute_result"
    }
   ],
   "source": [
    "pluto.species"
   ]
  },
  {
   "cell_type": "code",
   "execution_count": 14,
   "id": "0097e760-a74c-406f-a7ce-c88e23c49701",
   "metadata": {},
   "outputs": [
    {
     "data": {
      "text/plain": [
       "'Pluto'"
      ]
     },
     "execution_count": 14,
     "metadata": {},
     "output_type": "execute_result"
    }
   ],
   "source": [
    "pluto.name"
   ]
  },
  {
   "cell_type": "code",
   "execution_count": 15,
   "id": "2cc48e39-bee0-4b61-8585-37f18e2ae3b5",
   "metadata": {},
   "outputs": [
    {
     "data": {
      "text/plain": [
       "types.Dog"
      ]
     },
     "execution_count": 15,
     "metadata": {},
     "output_type": "execute_result"
    }
   ],
   "source": [
    "type(pluto)"
   ]
  },
  {
   "cell_type": "code",
   "execution_count": 16,
   "id": "e13ff794-824e-4d7d-8cd0-727108080a5a",
   "metadata": {},
   "outputs": [
    {
     "data": {
      "text/plain": [
       "True"
      ]
     },
     "execution_count": 16,
     "metadata": {},
     "output_type": "execute_result"
    }
   ],
   "source": [
    "isinstance(pluto, Animal)"
   ]
  },
  {
   "cell_type": "code",
   "execution_count": 17,
   "id": "25a99c5e-ca4a-4824-88e6-fec1573a1656",
   "metadata": {},
   "outputs": [],
   "source": [
    "del nyx, pluto"
   ]
  },
  {
   "cell_type": "markdown",
   "id": "1d22e297-3f10-4f1f-af2e-55467d20613d",
   "metadata": {},
   "source": [
    "### Adding methods"
   ]
  },
  {
   "cell_type": "code",
   "execution_count": 18,
   "id": "1bd44008-5e52-4e89-9271-ebe74891ed81",
   "metadata": {},
   "outputs": [],
   "source": [
    "def make_sound(self):\n",
    "    print('woof')"
   ]
  },
  {
   "cell_type": "code",
   "execution_count": 19,
   "id": "66973115-f58a-4e45-ba01-b89a0bf7baff",
   "metadata": {},
   "outputs": [],
   "source": [
    "setattr(Dog, 'make_sound', make_sound)"
   ]
  },
  {
   "cell_type": "code",
   "execution_count": 20,
   "id": "a021fef6-7325-4d01-81d4-23ad1df549c8",
   "metadata": {},
   "outputs": [],
   "source": [
    "lassie = Dog(name='Lassie')"
   ]
  },
  {
   "cell_type": "code",
   "execution_count": 21,
   "id": "2dd4e9fa-d400-40e5-977c-9c45aa9fae5e",
   "metadata": {},
   "outputs": [
    {
     "name": "stdout",
     "output_type": "stream",
     "text": [
      "woof\n"
     ]
    }
   ],
   "source": [
    "lassie.make_sound()"
   ]
  },
  {
   "cell_type": "code",
   "execution_count": 22,
   "id": "2aa0b67b-2a1d-4fbb-8fd7-31de4e105002",
   "metadata": {},
   "outputs": [],
   "source": [
    "del lassie\n",
    "del Animal, Cat"
   ]
  },
  {
   "cell_type": "markdown",
   "id": "6c4e67ac-5a80-4a11-94a1-aa1cee241fca",
   "metadata": {},
   "source": [
    "## Using `type`"
   ]
  },
  {
   "cell_type": "markdown",
   "id": "3d009602-c67c-4060-8626-f6ba4dc7be8a",
   "metadata": {},
   "source": [
    "Using the `type` function to create new classes is slightly more involved, but offers  more flexibility.  Specifically, it is possible to add methods to classes easily.\n",
    "\n",
    "The function bedow will serve as the `__init__` function for a class you can construcut using `type`.  Whereas `__init__` is automatically generated when you use data classes, for classes generated using `type` this has to be done manually."
   ]
  },
  {
   "cell_type": "code",
   "execution_count": 23,
   "id": "db5fa234-df38-4d23-87d9-063f785a5f48",
   "metadata": {},
   "outputs": [],
   "source": [
    "def animal_init(self, name, species=None, nr_legs=None):\n",
    "    self.name = name\n",
    "    self.species = species\n",
    "    self.nr_legs = nr_legs"
   ]
  },
  {
   "cell_type": "markdown",
   "id": "88849de0-edb7-4c1b-b943-c657f3da64bd",
   "metadata": {},
   "source": [
    "The class `Animal` below is similar to that created using `make_dataclass`, but without the autogeneraed dunder methods."
   ]
  },
  {
   "cell_type": "code",
   "execution_count": 24,
   "id": "e04467fe-d374-4997-a53e-729371f32f97",
   "metadata": {},
   "outputs": [],
   "source": [
    "Animal = type('Animal', tuple(), {'name': None, 'species': None, 'nr_legs': None, '__init__': animal_init})"
   ]
  },
  {
   "cell_type": "code",
   "execution_count": 25,
   "id": "21c0be0d-1bb6-40c8-bb01-36376d79ce15",
   "metadata": {},
   "outputs": [],
   "source": [
    "nyx = Animal(name='Nyx')"
   ]
  },
  {
   "cell_type": "code",
   "execution_count": 26,
   "id": "6e00f5f8-48e7-4723-ac2e-c7d4f10444dd",
   "metadata": {},
   "outputs": [
    {
     "data": {
      "text/plain": [
       "'Nyx'"
      ]
     },
     "execution_count": 26,
     "metadata": {},
     "output_type": "execute_result"
    }
   ],
   "source": [
    "nyx.name"
   ]
  },
  {
   "cell_type": "code",
   "execution_count": 27,
   "id": "3791588f-32bf-474a-a4f2-856a1beba885",
   "metadata": {},
   "outputs": [
    {
     "data": {
      "text/plain": [
       "<__main__.Animal at 0x7fadf042ecd0>"
      ]
     },
     "execution_count": 27,
     "metadata": {},
     "output_type": "execute_result"
    }
   ],
   "source": [
    "nyx"
   ]
  },
  {
   "cell_type": "markdown",
   "id": "04da0027-4d30-416f-b38c-7bbf5d8db7f6",
   "metadata": {},
   "source": [
    "Note that the `Animal` class generating using `type` doesn't have a `__repr__` method as opposed to a data class."
   ]
  },
  {
   "cell_type": "code",
   "execution_count": 28,
   "id": "2d3a2f95-e258-4a4d-bd83-edde99d98311",
   "metadata": {},
   "outputs": [],
   "source": [
    "def animal_repr(self):\n",
    "    return '(' + ', '.join(f'{key}={val}' for key, val in self.__dict__.items()) + ')'"
   ]
  },
  {
   "cell_type": "code",
   "execution_count": 29,
   "id": "e7bd0fc1-9f79-4220-986c-5ee929fbc049",
   "metadata": {},
   "outputs": [],
   "source": [
    "setattr(Animal, '__repr__', animal_repr)"
   ]
  },
  {
   "cell_type": "code",
   "execution_count": 30,
   "id": "9bc1344a-706e-4826-a2b2-4cf9fc901ac0",
   "metadata": {},
   "outputs": [],
   "source": [
    "seth = Animal(name='Seth', species='cat', nr_legs=4)"
   ]
  },
  {
   "cell_type": "code",
   "execution_count": 31,
   "id": "b72e68c1-4e23-44d8-b06e-c979ab669ba2",
   "metadata": {},
   "outputs": [
    {
     "data": {
      "text/plain": [
       "(name=Seth, species=cat, nr_legs=4)"
      ]
     },
     "execution_count": 31,
     "metadata": {},
     "output_type": "execute_result"
    }
   ],
   "source": [
    "seth"
   ]
  },
  {
   "cell_type": "markdown",
   "id": "bf447535-fc6b-4dd2-bd6e-137733d04703",
   "metadata": {},
   "source": [
    "This method will show all the object attributes, so those defined in the objects `__dict__` attribute, not those defined as class attributes."
   ]
  },
  {
   "cell_type": "code",
   "execution_count": 32,
   "id": "5595617b-2b4e-49b2-b33e-295d8259b337",
   "metadata": {},
   "outputs": [],
   "source": [
    "del nyx, seth"
   ]
  },
  {
   "cell_type": "markdown",
   "id": "d6c223d1-64a7-4fcb-a3c4-5f91976bbf97",
   "metadata": {},
   "source": [
    "### Derived classes"
   ]
  },
  {
   "cell_type": "markdown",
   "id": "92db0094-48c3-422d-ad1d-58d19549a6e2",
   "metadata": {},
   "source": [
    "As with data classes, you can create a subclass of `Animal` by mentioning it as a base class in the call to `type`.  You can also define additional class attributes, e.g., `sound`."
   ]
  },
  {
   "cell_type": "code",
   "execution_count": 33,
   "id": "a0a0923b-355f-4e15-aae2-08f679e28249",
   "metadata": {},
   "outputs": [],
   "source": [
    "Cat = type('Cat', (Animal, ), {'name': None, 'species': 'cat', 'nr_legs': 4, 'sound': 'meow'})"
   ]
  },
  {
   "cell_type": "code",
   "execution_count": 34,
   "id": "5c55ea64-9c1d-44c5-80cf-a225b1207995",
   "metadata": {},
   "outputs": [],
   "source": [
    "nyx = Cat(name='Seth')"
   ]
  },
  {
   "cell_type": "code",
   "execution_count": 35,
   "id": "f420c7f3-206f-4905-9e38-e3eb72fe046c",
   "metadata": {},
   "outputs": [
    {
     "data": {
      "text/plain": [
       "'meow'"
      ]
     },
     "execution_count": 35,
     "metadata": {},
     "output_type": "execute_result"
    }
   ],
   "source": [
    "nyx.sound"
   ]
  },
  {
   "cell_type": "code",
   "execution_count": 36,
   "id": "5f061e00-30c3-4507-993c-c5de3c49f110",
   "metadata": {},
   "outputs": [
    {
     "data": {
      "text/plain": [
       "(name=Seth, species=None, nr_legs=None)"
      ]
     },
     "execution_count": 36,
     "metadata": {},
     "output_type": "execute_result"
    }
   ],
   "source": [
    "nyx"
   ]
  },
  {
   "cell_type": "markdown",
   "id": "bc705699-5735-4064-841d-7d444ff4ad09",
   "metadata": {},
   "source": [
    "Note that although you specified the number of legs as a class attribute, this will be overridden in `Animal`s `__init__` method.  Hence you can define an `__init__` method that calls the one defined in the parent class to initializes the object's attributes it inherits from the parent class.  The attributes specific to the `Cat` class are initialized from the class attribute, `sound` in this case."
   ]
  },
  {
   "cell_type": "code",
   "execution_count": 37,
   "id": "4c3faf31-65d6-4ccb-9c8e-c5f2072fe67d",
   "metadata": {},
   "outputs": [],
   "source": [
    "def cat_init(self, name):\n",
    "    attrs = {key: val for key, val in Cat.__dict__.items() if not key.startswith('__') and\n",
    "             val is not None and key in Animal.__dict__}\n",
    "    Animal.__init__(self, name=name, **attrs)\n",
    "    self.sound = self.__class__.sound"
   ]
  },
  {
   "cell_type": "code",
   "execution_count": 38,
   "id": "0a4f47be-d2b8-4042-b5fc-267aa3931d77",
   "metadata": {},
   "outputs": [],
   "source": [
    "setattr(Cat, '__init__', cat_init)"
   ]
  },
  {
   "cell_type": "code",
   "execution_count": 39,
   "id": "7c8a1a23-90be-4f64-8290-fbb407328b5f",
   "metadata": {},
   "outputs": [],
   "source": [
    "seth = Cat(name='Nyx')"
   ]
  },
  {
   "cell_type": "code",
   "execution_count": 40,
   "id": "562d0233-11ba-4910-b5b3-2ff53d7a58dd",
   "metadata": {},
   "outputs": [
    {
     "data": {
      "text/plain": [
       "(name=Nyx, species=cat, nr_legs=4, sound=meow)"
      ]
     },
     "execution_count": 40,
     "metadata": {},
     "output_type": "execute_result"
    }
   ],
   "source": [
    "seth"
   ]
  },
  {
   "cell_type": "code",
   "execution_count": 41,
   "id": "552e0d04-948d-4cfa-811f-2ccde83d70db",
   "metadata": {},
   "outputs": [],
   "source": [
    "del nyx, seth"
   ]
  },
  {
   "cell_type": "markdown",
   "id": "ffce08e3-ff60-480b-8087-37955b848ec2",
   "metadata": {},
   "source": [
    "### Adding methods"
   ]
  },
  {
   "cell_type": "code",
   "execution_count": 42,
   "id": "571d3bba-33b0-4717-aedd-40999ec51ebb",
   "metadata": {},
   "outputs": [],
   "source": [
    "nyx = Cat(name='Nyx')"
   ]
  },
  {
   "cell_type": "code",
   "execution_count": 43,
   "id": "a40914b6-267c-4803-9edf-202165e739ba",
   "metadata": {},
   "outputs": [
    {
     "data": {
      "text/plain": [
       "'meow'"
      ]
     },
     "execution_count": 43,
     "metadata": {},
     "output_type": "execute_result"
    }
   ],
   "source": [
    "nyx.sound"
   ]
  },
  {
   "cell_type": "markdown",
   "id": "6d144b60-30d0-4b98-8551-71996bfd4f26",
   "metadata": {},
   "source": [
    "As before, we can add a method to the class."
   ]
  },
  {
   "cell_type": "code",
   "execution_count": 44,
   "id": "5a2c87bf-b6c5-489d-a2ec-5b66b8d7d007",
   "metadata": {},
   "outputs": [],
   "source": [
    "def cat_sound(self):\n",
    "    print(f'cat says {self.sound}')"
   ]
  },
  {
   "cell_type": "code",
   "execution_count": 45,
   "id": "cc29476d-c087-4653-bebb-1391894fe5a5",
   "metadata": {},
   "outputs": [],
   "source": [
    "setattr(Cat, 'make_sound', cat_sound)"
   ]
  },
  {
   "cell_type": "code",
   "execution_count": 46,
   "id": "f95b9702-4423-4276-a010-02c1cac1b538",
   "metadata": {},
   "outputs": [
    {
     "name": "stdout",
     "output_type": "stream",
     "text": [
      "cat says meow\n"
     ]
    }
   ],
   "source": [
    "nyx.make_sound()"
   ]
  },
  {
   "cell_type": "markdown",
   "id": "ae932cf9-cf38-4776-b704-c6d8501eee37",
   "metadata": {},
   "source": [
    "It is also possbile to add a method to a specific object, rather than a class."
   ]
  },
  {
   "cell_type": "code",
   "execution_count": 47,
   "id": "af645fac-dfec-4eb9-8ddc-d23ecf169976",
   "metadata": {},
   "outputs": [],
   "source": [
    "seth = Cat(name='seth')"
   ]
  },
  {
   "cell_type": "code",
   "execution_count": 54,
   "id": "3ce6eab4-d171-4d18-b845-9aadbabfcd3b",
   "metadata": {},
   "outputs": [],
   "source": [
    "def seth_sound(self=seth):\n",
    "    print(f'{self.name} says mraw')"
   ]
  },
  {
   "cell_type": "code",
   "execution_count": 55,
   "id": "e71a9b64-350a-47ab-abe2-4ee94ca955f7",
   "metadata": {},
   "outputs": [],
   "source": [
    "setattr(seth, 'make_sound', seth_sound)"
   ]
  },
  {
   "cell_type": "code",
   "execution_count": 56,
   "id": "f0b0510c-45f8-4a40-9d1a-15ae90422f4b",
   "metadata": {},
   "outputs": [
    {
     "name": "stdout",
     "output_type": "stream",
     "text": [
      "seth says mraw\n"
     ]
    }
   ],
   "source": [
    "seth.make_sound()"
   ]
  },
  {
   "cell_type": "code",
   "execution_count": 57,
   "id": "46d1dfe1-e1c9-411a-b400-beeacb186b70",
   "metadata": {},
   "outputs": [
    {
     "name": "stdout",
     "output_type": "stream",
     "text": [
      "cat says meow\n"
     ]
    }
   ],
   "source": [
    "nyx.make_sound()"
   ]
  },
  {
   "cell_type": "markdown",
   "id": "d5c3b060-0eab-43fa-82d4-26c213fb5bbf",
   "metadata": {},
   "source": [
    "Note that the `seth_sound` function has a default argument set to the object it will be added to.  This can be generalized by defining a higher order function."
   ]
  },
  {
   "cell_type": "code",
   "execution_count": 62,
   "id": "d6ba90b6-fc6f-4cfe-99a6-2adafa16a4d5",
   "metadata": {},
   "outputs": [],
   "source": [
    "def add_sound(obj):\n",
    "    def sound_func():\n",
    "        print(f'{obj.name} says meow as well')\n",
    "    setattr(obj, 'make_sound', sound_func)"
   ]
  },
  {
   "cell_type": "code",
   "execution_count": 63,
   "id": "6a9cc89c-38cc-4b8c-94ba-bc68e764e1f2",
   "metadata": {},
   "outputs": [],
   "source": [
    "isis = Cat(name='Isis')"
   ]
  },
  {
   "cell_type": "code",
   "execution_count": 64,
   "id": "5bcf1dc3-3e69-411f-a505-256b9a16c1a9",
   "metadata": {},
   "outputs": [
    {
     "name": "stdout",
     "output_type": "stream",
     "text": [
      "cat says meow\n"
     ]
    }
   ],
   "source": [
    "isis.make_sound()"
   ]
  },
  {
   "cell_type": "code",
   "execution_count": 65,
   "id": "029431e1-6339-4678-bcce-c7138cfc0cda",
   "metadata": {},
   "outputs": [],
   "source": [
    "add_sound(isis)"
   ]
  },
  {
   "cell_type": "code",
   "execution_count": 66,
   "id": "f59ad106-091b-47bb-8eae-16bd9927a9af",
   "metadata": {},
   "outputs": [
    {
     "name": "stdout",
     "output_type": "stream",
     "text": [
      "Isis says meow as well\n"
     ]
    }
   ],
   "source": [
    "isis.make_sound()"
   ]
  },
  {
   "cell_type": "markdown",
   "id": "81fb5d55-b427-45ff-af00-293cfc3fc46d",
   "metadata": {},
   "source": [
    "Obviously, methods can dynamically be added to any Python class or object, this is often referred to as monkey pathcing."
   ]
  }
 ],
 "metadata": {
  "kernelspec": {
   "display_name": "Python 3 (ipykernel)",
   "language": "python",
   "name": "python3"
  },
  "language_info": {
   "codemirror_mode": {
    "name": "ipython",
    "version": 3
   },
   "file_extension": ".py",
   "mimetype": "text/x-python",
   "name": "python",
   "nbconvert_exporter": "python",
   "pygments_lexer": "ipython3",
   "version": "3.9.7"
  }
 },
 "nbformat": 4,
 "nbformat_minor": 5
}
