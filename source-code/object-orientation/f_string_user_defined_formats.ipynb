{
 "cells": [
  {
   "cell_type": "markdown",
   "id": "ad6c5210-ff2a-459b-b246-e7d3bd4f56aa",
   "metadata": {
    "tags": []
   },
   "source": [
    "## Prerequisites"
   ]
  },
  {
   "cell_type": "code",
   "execution_count": 1,
   "id": "a032de58-47f5-42a3-8924-1c7b76828b16",
   "metadata": {
    "tags": []
   },
   "outputs": [],
   "source": [
    "import re\n",
    "import sys"
   ]
  },
  {
   "cell_type": "markdown",
   "id": "f2948bd9-f1a7-443b-b630-77a823e3d189",
   "metadata": {},
   "source": [
    "## Temperature in Kelvin"
   ]
  },
  {
   "cell_type": "markdown",
   "id": "3891ef95-a68b-4e5a-b729-7a100ecd2025",
   "metadata": {},
   "source": [
    "We want a class to represent temperatures in Kelvin.  Since this is an abolute temperature, it can not have a negative value. We can use the `__new__` function to ensure that if a `Temperature` object is created with a negative value, a `ValueError` is raised."
   ]
  },
  {
   "cell_type": "code",
   "execution_count": 2,
   "id": "9eee53e8-dece-4e5c-99ad-42f7cb3c5d08",
   "metadata": {
    "tags": []
   },
   "outputs": [],
   "source": [
    "class Temperature(float):\n",
    "    \n",
    "    def __new__(cls, value):\n",
    "        if value < 0:\n",
    "            raise ValueError('Temperature must be positive')\n",
    "        return super().__new__(cls, value)"
   ]
  },
  {
   "cell_type": "code",
   "execution_count": 3,
   "id": "ab6c5b51-3c5e-4a06-9e07-827e75ee1424",
   "metadata": {
    "tags": []
   },
   "outputs": [
    {
     "data": {
      "text/plain": [
       "273.15"
      ]
     },
     "execution_count": 3,
     "metadata": {},
     "output_type": "execute_result"
    }
   ],
   "source": [
    "T1 = Temperature(273.15)\n",
    "T1"
   ]
  },
  {
   "cell_type": "code",
   "execution_count": 4,
   "id": "0ab1ab55-b2b3-452d-a630-2b92a8ede96e",
   "metadata": {
    "tags": []
   },
   "outputs": [
    {
     "name": "stderr",
     "output_type": "stream",
     "text": [
      "Temperature must be positive\n"
     ]
    }
   ],
   "source": [
    "try:\n",
    "    _ = Temperature(-0.5)\n",
    "except ValueError as error:\n",
    "    print(error, file=sys.stderr)"
   ]
  },
  {
   "cell_type": "markdown",
   "id": "54c7ef26-a9a9-44ee-8b01-3f2d4ba05030",
   "metadata": {},
   "source": [
    "This works as expected and is a nice illustration of `__new__`."
   ]
  },
  {
   "cell_type": "markdown",
   "id": "95f1f703-bebc-4748-b686-71014b41d67d",
   "metadata": {},
   "source": [
    "## Temperature formatting"
   ]
  },
  {
   "cell_type": "markdown",
   "id": "fbb5055d-86f2-4197-a7ea-7f8fa96fa243",
   "metadata": {},
   "source": [
    "We can override `float`'s `__format__` method for our `Temperature` class such that we can specify f-string formatters such as `'K.3f'`, `'C.3f'`, `'F.3f'` or just `'.3f'`.  Here, `K`, `C` and `F` specify units, Kelvin, degrees Celsius and degrees Fahrenheit respectively.\n",
    "\n",
    "Using the appropriate f-string format, a `Tempearture` object's string representation will show that temperature converted to the unit specified, and adds the unit to the string representation.\n",
    "\n",
    "If the f-string format has no unit, the temperature is represented as a `float` in Kelvin, but without the unit appended."
   ]
  },
  {
   "cell_type": "code",
   "execution_count": 5,
   "id": "afbc882d-e2c0-4785-a360-d51aa06ce8f0",
   "metadata": {
    "tags": []
   },
   "outputs": [],
   "source": [
    "class Temperature(float):\n",
    "    \n",
    "    T_0: float = 273.15\n",
    "    convert = {\n",
    "        '': lambda T: float(T),\n",
    "        'K': lambda T: float(T),\n",
    "        'C': lambda T: T - Temperature.T_0,\n",
    "        'F': lambda T: (T - Temperature.T_0)*9.0/5.0 + 32.0\n",
    "    }\n",
    "    \n",
    "    def __new__(cls, value):\n",
    "        if value < 0:\n",
    "            raise ValueError('Temperature must be positive')\n",
    "        return super().__new__(cls, value)\n",
    "\n",
    "    def __format__(self, format):\n",
    "        m = re.match(r'^([CFK]?)(.*)$', format)\n",
    "        unit, float_format = m[1], m[2]\n",
    "        T = self.convert[unit](self)\n",
    "        return f'{T.__format__(float_format)}{unit}'"
   ]
  },
  {
   "cell_type": "code",
   "execution_count": 6,
   "id": "1b558a70-32b4-40ea-8def-7812edc5c476",
   "metadata": {
    "tags": []
   },
   "outputs": [],
   "source": [
    "T = Temperature(293.15)"
   ]
  },
  {
   "cell_type": "code",
   "execution_count": 7,
   "id": "d1f4f4ec-1c5d-47ad-a6aa-663b452a614a",
   "metadata": {
    "tags": []
   },
   "outputs": [
    {
     "name": "stdout",
     "output_type": "stream",
     "text": [
      "293.15\n"
     ]
    }
   ],
   "source": [
    "print(f'{T}')"
   ]
  },
  {
   "cell_type": "markdown",
   "id": "6a6fd3c6-30a4-49d6-934a-c9dc81659d72",
   "metadata": {},
   "source": [
    "We can format as for a float."
   ]
  },
  {
   "cell_type": "code",
   "execution_count": 8,
   "id": "3b9975ac-4482-4f0b-8779-983f6fc07d29",
   "metadata": {
    "tags": []
   },
   "outputs": [
    {
     "name": "stdout",
     "output_type": "stream",
     "text": [
      "293.1\n"
     ]
    }
   ],
   "source": [
    "print(f'{T:0.1f}')"
   ]
  },
  {
   "cell_type": "markdown",
   "id": "5e2669a1-6da3-4fdf-910e-eb75ff958739",
   "metadata": {},
   "source": [
    "We can add the unit."
   ]
  },
  {
   "cell_type": "code",
   "execution_count": 9,
   "id": "d8a2efa1-1078-4b2c-95b1-a4a9559b698c",
   "metadata": {
    "tags": []
   },
   "outputs": [
    {
     "name": "stdout",
     "output_type": "stream",
     "text": [
      "293.15K\n"
     ]
    }
   ],
   "source": [
    "print(f'{T:K}')"
   ]
  },
  {
   "cell_type": "markdown",
   "id": "d4ab7dc6-5064-4958-ad9e-a9a18864afef",
   "metadata": {
    "tags": []
   },
   "source": [
    "We can add the unit and format."
   ]
  },
  {
   "cell_type": "code",
   "execution_count": 10,
   "id": "b987e85b-8a87-4c3f-91f5-7e04fee58e0c",
   "metadata": {
    "tags": []
   },
   "outputs": [
    {
     "name": "stdout",
     "output_type": "stream",
     "text": [
      "293.1K\n"
     ]
    }
   ],
   "source": [
    "print(f'{T:K.1f}')"
   ]
  },
  {
   "cell_type": "markdown",
   "id": "7015cecf-c2bb-4590-a15e-13a52a1f9394",
   "metadata": {},
   "source": [
    "We can use degrees Celsius."
   ]
  },
  {
   "cell_type": "code",
   "execution_count": 11,
   "id": "f0ed1a96-8dbe-410e-9009-56bb4a609742",
   "metadata": {
    "tags": []
   },
   "outputs": [
    {
     "name": "stdout",
     "output_type": "stream",
     "text": [
      "20.0C\n"
     ]
    }
   ],
   "source": [
    "print(f'{T:C}')"
   ]
  },
  {
   "cell_type": "code",
   "execution_count": 12,
   "id": "bafa59ca-04e9-4bd9-a514-e6d2420451e7",
   "metadata": {
    "tags": []
   },
   "outputs": [
    {
     "name": "stdout",
     "output_type": "stream",
     "text": [
      "2.000e+01C\n"
     ]
    }
   ],
   "source": [
    "print(f'{T:C.3e}')"
   ]
  },
  {
   "cell_type": "markdown",
   "id": "da3c16ee-332f-40af-b4d2-379037a3e031",
   "metadata": {},
   "source": [
    "We can use degrees Fahrenheit."
   ]
  },
  {
   "cell_type": "code",
   "execution_count": 13,
   "id": "faa8c68c-4f93-45c7-a167-7b5b66d16218",
   "metadata": {
    "tags": []
   },
   "outputs": [
    {
     "name": "stdout",
     "output_type": "stream",
     "text": [
      "68.0F\n"
     ]
    }
   ],
   "source": [
    "print(f'{T:F}')"
   ]
  },
  {
   "cell_type": "code",
   "execution_count": 14,
   "id": "28576e9a-883f-43cd-9fb3-d9db070d0653",
   "metadata": {
    "tags": []
   },
   "outputs": [
    {
     "name": "stdout",
     "output_type": "stream",
     "text": [
      "      6.800e+01F\n"
     ]
    }
   ],
   "source": [
    "print(f'{T:F15.3e}')"
   ]
  }
 ],
 "metadata": {
  "kernelspec": {
   "display_name": "Python 3 (ipykernel)",
   "language": "python",
   "name": "python3"
  },
  "language_info": {
   "codemirror_mode": {
    "name": "ipython",
    "version": 3
   },
   "file_extension": ".py",
   "mimetype": "text/x-python",
   "name": "python",
   "nbconvert_exporter": "python",
   "pygments_lexer": "ipython3",
   "version": "3.11.4"
  }
 },
 "nbformat": 4,
 "nbformat_minor": 5
}
