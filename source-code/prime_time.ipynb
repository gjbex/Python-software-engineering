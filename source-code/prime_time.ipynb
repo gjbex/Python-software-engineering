{
 "cells": [
  {
   "cell_type": "markdown",
   "id": "fc3b2761-8665-477a-8bfc-58bdf2ac4f7a",
   "metadata": {},
   "source": [
    "# Requirements"
   ]
  },
  {
   "cell_type": "code",
   "execution_count": 1,
   "id": "47182c93-a8f7-4772-9a9c-e58a433d02ba",
   "metadata": {},
   "outputs": [],
   "source": [
    "import itertools\n",
    "import math"
   ]
  },
  {
   "cell_type": "markdown",
   "id": "4e0adefe-f566-4a81-a0df-0b5d0c7604cf",
   "metadata": {},
   "source": [
    "# Precomputed sieve"
   ]
  },
  {
   "cell_type": "markdown",
   "id": "0f0a2be6-515a-4d25-a5c8-67b9dfefe69a",
   "metadata": {},
   "source": [
    "The sieve of Eratosthenes is computed and stored in a list.  The overall implementation is a generator for convenience."
   ]
  },
  {
   "cell_type": "code",
   "execution_count": 2,
   "id": "b6c3ba8e-e5c5-4a3a-b059-02fa0283776a",
   "metadata": {},
   "outputs": [],
   "source": [
    "def prime_numbers_precomputed(max_n):\n",
    "    sieve = [True]*(max_n + 1)\n",
    "    sieve[0], sieve[1] = False, False\n",
    "    for n in range(2, math.isqrt(max_n) + 1):\n",
    "        if sieve[n]:\n",
    "            for non_prime in range(2*n, max_n + 1, n):\n",
    "                sieve[non_prime] = False\n",
    "    yield from (n for n, is_prime in enumerate(sieve) if is_prime)"
   ]
  },
  {
   "cell_type": "markdown",
   "id": "3ad4ec7f-303b-4980-8405-db68f8e86339",
   "metadata": {},
   "source": [
    "Generate prime numbers upto 50."
   ]
  },
  {
   "cell_type": "code",
   "execution_count": 4,
   "id": "a1ee6b85-5af0-4f4a-9a70-e1f08d177349",
   "metadata": {},
   "outputs": [
    {
     "name": "stdout",
     "output_type": "stream",
     "text": [
      "2\n",
      "3\n",
      "5\n",
      "7\n",
      "11\n",
      "13\n",
      "17\n",
      "19\n",
      "23\n",
      "29\n",
      "31\n",
      "37\n",
      "41\n",
      "43\n",
      "47\n"
     ]
    }
   ],
   "source": [
    "for prime in prime_numbers_precomputed(50):\n",
    "    print(prime)"
   ]
  },
  {
   "cell_type": "markdown",
   "id": "6eef26fa-d00d-4fab-a8d7-08ffc52590bd",
   "metadata": {},
   "source": [
    "# Sieve using generators"
   ]
  },
  {
   "cell_type": "markdown",
   "id": "54049286-713e-48fa-a1fb-44078942d348",
   "metadata": {},
   "source": [
    "Implementation using generators, entirely lazy."
   ]
  },
  {
   "cell_type": "code",
   "execution_count": 5,
   "id": "ab70534d-688f-46f4-8b30-44bf1e34ab5b",
   "metadata": {},
   "outputs": [],
   "source": [
    "def prime_numbers():\n",
    "    def prime_number_sieve(numbers):\n",
    "        prime = next(numbers)\n",
    "        yield prime\n",
    "        yield from (n for n in numbers if n % prime != 0)\n",
    "    yield 2\n",
    "    yield from prime_number_sieve(itertools.count(3, 2))"
   ]
  },
  {
   "cell_type": "markdown",
   "id": "b54d4fd3-4e5a-4556-9bac-85da2ceb9e19",
   "metadata": {},
   "source": [
    "Again, generating the prime numbers up to 50."
   ]
  },
  {
   "cell_type": "code",
   "execution_count": 7,
   "id": "d67bb1fe-8e55-45b0-aace-36ab4397acb0",
   "metadata": {},
   "outputs": [
    {
     "name": "stdout",
     "output_type": "stream",
     "text": [
      "2\n",
      "3\n",
      "5\n",
      "7\n",
      "11\n",
      "13\n",
      "17\n",
      "19\n",
      "23\n",
      "25\n",
      "29\n",
      "31\n",
      "35\n",
      "37\n",
      "41\n",
      "43\n",
      "47\n",
      "49\n"
     ]
    }
   ],
   "source": [
    "for prime in prime_numbers():\n",
    "    if prime <= 50:\n",
    "        print(prime)\n",
    "    else:\n",
    "        break"
   ]
  },
  {
   "cell_type": "markdown",
   "id": "edf1943a-31b2-4a4e-bf96-47ea2875b567",
   "metadata": {},
   "source": [
    "# Comparing performance"
   ]
  },
  {
   "cell_type": "code",
   "execution_count": 10,
   "id": "83d6696e-b31c-4dbc-9b0c-702c9aedc4a9",
   "metadata": {},
   "outputs": [],
   "source": [
    "max_n = 1_000_000"
   ]
  },
  {
   "cell_type": "code",
   "execution_count": 11,
   "id": "bbea5e94-d82a-4be9-b4f4-152a8136c608",
   "metadata": {},
   "outputs": [
    {
     "name": "stdout",
     "output_type": "stream",
     "text": [
      "80.4 ms ± 2.83 ms per loop (mean ± std. dev. of 7 runs, 10 loops each)\n"
     ]
    }
   ],
   "source": [
    "%%timeit\n",
    "numbers = []\n",
    "for prime in prime_numbers_precomputed(max_n):\n",
    "    if prime <= max_n:\n",
    "        numbers.append(prime)\n",
    "    else:\n",
    "        break"
   ]
  },
  {
   "cell_type": "code",
   "execution_count": 12,
   "id": "351d9f27-6d04-4d70-b8e3-451d223f64a4",
   "metadata": {},
   "outputs": [
    {
     "name": "stdout",
     "output_type": "stream",
     "text": [
      "46.9 ms ± 1.48 ms per loop (mean ± std. dev. of 7 runs, 10 loops each)\n"
     ]
    }
   ],
   "source": [
    "%%timeit\n",
    "numbers = []\n",
    "for prime in prime_numbers():\n",
    "    if prime <= max_n:\n",
    "        numbers.append(prime)\n",
    "    else:\n",
    "        break"
   ]
  },
  {
   "cell_type": "markdown",
   "id": "1111d621-2f13-456c-ba62-a493df7fdc64",
   "metadata": {},
   "source": [
    "Interestingly, the lazy implementation is faster by a substantial factor, perhaps this could be improved by using a different data representation for the precomputed sieve."
   ]
  }
 ],
 "metadata": {
  "kernelspec": {
   "display_name": "Python 3 (ipykernel)",
   "language": "python",
   "name": "python3"
  },
  "language_info": {
   "codemirror_mode": {
    "name": "ipython",
    "version": 3
   },
   "file_extension": ".py",
   "mimetype": "text/x-python",
   "name": "python",
   "nbconvert_exporter": "python",
   "pygments_lexer": "ipython3",
   "version": "3.9.7"
  }
 },
 "nbformat": 4,
 "nbformat_minor": 5
}
