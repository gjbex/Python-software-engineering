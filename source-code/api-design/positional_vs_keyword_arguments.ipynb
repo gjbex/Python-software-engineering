{
 "cells": [
  {
   "cell_type": "markdown",
   "id": "e73cc316-f6f2-4500-bff7-3cdc66356acd",
   "metadata": {},
   "source": [
    "# Requirements"
   ]
  },
  {
   "cell_type": "code",
   "execution_count": 26,
   "id": "6f977737-a1e1-400e-bca2-9835456af1cb",
   "metadata": {},
   "outputs": [],
   "source": [
    "import sys"
   ]
  },
  {
   "cell_type": "markdown",
   "id": "760030f1-f18e-4f5d-b999-6e686f6a99ba",
   "metadata": {},
   "source": [
    "# Classic functions"
   ]
  },
  {
   "cell_type": "markdown",
   "id": "0b94ad8e-805a-4096-8dee-673bae6ef28c",
   "metadata": {},
   "source": [
    "Python 3.10+ offers more control over how arguments should be passed to a function using the `*` and `/` argument modifiers.\n",
    "\n",
    "Traditionally, Python functions can be called with keyword arguments, even if n default values are specified."
   ]
  },
  {
   "cell_type": "code",
   "execution_count": 1,
   "id": "69cea873-c962-415d-bb1f-9f46549df01f",
   "metadata": {},
   "outputs": [],
   "source": [
    "def func_classic(a, b):\n",
    "    return a + b"
   ]
  },
  {
   "cell_type": "code",
   "execution_count": 20,
   "id": "a87ab8a1-da1d-49b8-9a26-fb55d37d4657",
   "metadata": {},
   "outputs": [
    {
     "name": "stdout",
     "output_type": "stream",
     "text": [
      "30\n",
      "30\n",
      "30\n"
     ]
    }
   ],
   "source": [
    "print(func_classic(27, 3))\n",
    "print(func_classic(a=27, b=3))\n",
    "print(func_classic(b=3, a=27))"
   ]
  },
  {
   "cell_type": "markdown",
   "id": "ba98b7db-46bb-4371-b5f2-96fcdf5d8850",
   "metadata": {},
   "source": [
    "Note that when calling any function in Python, keyword arguments can *never* preceed positional arguments."
   ]
  },
  {
   "cell_type": "markdown",
   "id": "9c4044f8-ad64-46bc-85e5-807af26ebefb",
   "metadata": {},
   "source": [
    "# Forcing positional arguments"
   ]
  },
  {
   "cell_type": "markdown",
   "id": "1ce68c32-e20f-4157-8f51-919ec18294ba",
   "metadata": {},
   "source": [
    "However, function arguments that precede a `/` can *only* be positional."
   ]
  },
  {
   "cell_type": "code",
   "execution_count": 21,
   "id": "c13d4a3d-10a4-4191-9092-237faf714e05",
   "metadata": {},
   "outputs": [],
   "source": [
    "def func_positional_only(a, b, /):\n",
    "    return a + b"
   ]
  },
  {
   "cell_type": "code",
   "execution_count": 28,
   "id": "a284bec3-637f-4152-b97b-7c1259814bd1",
   "metadata": {},
   "outputs": [
    {
     "name": "stdout",
     "output_type": "stream",
     "text": [
      "30\n"
     ]
    },
    {
     "name": "stderr",
     "output_type": "stream",
     "text": [
      "func_positional_only() got some positional-only arguments passed as keyword arguments: 'a, b'\n"
     ]
    }
   ],
   "source": [
    "print(func_positional_only(27, 3))\n",
    "try:\n",
    "    print(func_positional_only(a=27, b=3))\n",
    "except Exception as e:\n",
    "    print(e, file=sys.stderr)"
   ]
  },
  {
   "cell_type": "markdown",
   "id": "1f1cd9f3-aec3-46c5-a94f-69a6fa35ced4",
   "metadata": {},
   "source": [
    "Arguments following a `/` *can* be keyword arguments, e.g.,"
   ]
  },
  {
   "cell_type": "code",
   "execution_count": 30,
   "id": "3482caa5-3513-4dea-8d2e-dc50dae7ae5e",
   "metadata": {},
   "outputs": [],
   "source": [
    "def func_mixed(a, b, /, c, d):\n",
    "    return a + b + c/d"
   ]
  },
  {
   "cell_type": "code",
   "execution_count": 32,
   "id": "d7d6464d-c0f4-4b1c-9ca6-7eefb7165d00",
   "metadata": {},
   "outputs": [
    {
     "name": "stdout",
     "output_type": "stream",
     "text": [
      "30.833333333333332\n",
      "30.833333333333332\n",
      "30.833333333333332\n"
     ]
    }
   ],
   "source": [
    "print(func_mixed(27, 3, 5, 6))\n",
    "print(func_mixed(27, 3, c=5, d=6))\n",
    "print(func_mixed(27, 3, d=6, c=5))"
   ]
  },
  {
   "cell_type": "markdown",
   "id": "0b8eef96-cb71-4175-9a69-bd7feb69affb",
   "metadata": {},
   "source": [
    "# Forcing keyword arguments"
   ]
  },
  {
   "cell_type": "markdown",
   "id": "68a87869-0ce5-4c7e-a3a6-1d57ef3d6063",
   "metadata": {},
   "source": [
    "On the other hand, function arguments following a `*` have to be keyword arguments."
   ]
  },
  {
   "cell_type": "code",
   "execution_count": 33,
   "id": "9480e57a-4625-4871-8891-450c82f5f75d",
   "metadata": {},
   "outputs": [],
   "source": [
    "def func_keyword_only(*, a, b):\n",
    "    return a + b"
   ]
  },
  {
   "cell_type": "code",
   "execution_count": 34,
   "id": "0d14dc45-5e7c-4d8f-ac6a-5a7cde1bd840",
   "metadata": {},
   "outputs": [
    {
     "name": "stdout",
     "output_type": "stream",
     "text": [
      "30\n",
      "30\n"
     ]
    },
    {
     "name": "stderr",
     "output_type": "stream",
     "text": [
      "func_keyword_only() takes 0 positional arguments but 2 were given\n"
     ]
    }
   ],
   "source": [
    "print(func_keyword_only(a=27, b=3))\n",
    "print(func_keyword_only(b=3, a=27))\n",
    "try:\n",
    "    print(func_keyword_only(27, 3))\n",
    "except Exception as e:\n",
    "    print(e, file=sys.stderr)"
   ]
  },
  {
   "cell_type": "markdown",
   "id": "09d7f826-3732-4f73-bc52-919daad597b4",
   "metadata": {},
   "source": [
    "# Combining `/` and `*`"
   ]
  },
  {
   "cell_type": "markdown",
   "id": "4b55bd78-2066-4b38-848e-3063a7eef67b",
   "metadata": {},
   "source": [
    "The `/` and `*` can be used in the same function definition, e.g.,"
   ]
  },
  {
   "cell_type": "code",
   "execution_count": 35,
   "id": "fdaea153-3d0f-446a-8a05-ea9a84e91ff3",
   "metadata": {},
   "outputs": [],
   "source": [
    "def func_mix_slash_asterisk(a, b, /, *, c, d):\n",
    "    return a + b + c/d"
   ]
  },
  {
   "cell_type": "code",
   "execution_count": 36,
   "id": "3876157d-d088-4a06-8f40-7dd7363613d3",
   "metadata": {},
   "outputs": [
    {
     "name": "stdout",
     "output_type": "stream",
     "text": [
      "31.2\n"
     ]
    },
    {
     "name": "stderr",
     "output_type": "stream",
     "text": [
      "func_mix_slash_asterisk() takes 2 positional arguments but 3 positional arguments (and 1 keyword-only argument) were given\n"
     ]
    }
   ],
   "source": [
    "print(func_mix_slash_asterisk(27, 3, d=5, c=6))\n",
    "try:\n",
    "    print(func_mix_slash_asterisk(27, 3, 6, d=5))\n",
    "except Exception as e:\n",
    "    print(e, file=sys.stderr)"
   ]
  },
  {
   "cell_type": "markdown",
   "id": "d43b6793-063f-4378-9fd7-be6fa014921b",
   "metadata": {},
   "source": [
    "You can make this even more complicated, e.g., for the following function\n",
    "* `a` and `b` must be positional;\n",
    "* `c` can be either positional, or keyword;\n",
    "* `d` must be keyword."
   ]
  },
  {
   "cell_type": "code",
   "execution_count": 37,
   "id": "0b263d84-a296-4725-83da-0d145aae09ff",
   "metadata": {},
   "outputs": [],
   "source": [
    "def func_more_mixed(a, b, /, c, *, d):\n",
    "    return a + b + c/d"
   ]
  },
  {
   "cell_type": "code",
   "execution_count": 38,
   "id": "61faf8f4-116e-474b-9f82-de727647684f",
   "metadata": {},
   "outputs": [
    {
     "name": "stdout",
     "output_type": "stream",
     "text": [
      "30.833333333333332\n",
      "30.833333333333332\n"
     ]
    },
    {
     "name": "stderr",
     "output_type": "stream",
     "text": [
      "func_more_mixed() takes 3 positional arguments but 4 were given\n"
     ]
    }
   ],
   "source": [
    "print(func_more_mixed(27, 3, 5, d=6))\n",
    "print(func_more_mixed(27, 3, c=5, d=6))\n",
    "try:\n",
    "    print(func_more_mixed(27, 3, 5, 6))\n",
    "except Exception as e:\n",
    "    print(e, file=sys.stderr)"
   ]
  },
  {
   "cell_type": "markdown",
   "id": "82cc6225-6017-4b39-84af-43e2b5754ec4",
   "metadata": {},
   "source": [
    "# Why bother?"
   ]
  },
  {
   "cell_type": "markdown",
   "id": "9ebb6221-2685-442d-8f7b-c362f755672d",
   "metadata": {},
   "source": [
    "Indeed, why would you bother?  Essentially, there are two reasons:\n",
    "1. overhead of function calls, and\n",
    "1. maintenance."
   ]
  },
  {
   "cell_type": "markdown",
   "id": "9c096ce3-42c9-4244-bb2f-f52d7cfcfe12",
   "metadata": {},
   "source": [
    "## Overhead"
   ]
  },
  {
   "cell_type": "markdown",
   "id": "f08a6028-76e5-486d-a492-191f32815021",
   "metadata": {},
   "source": [
    "The overhead of calling a function with keyword arguments is higher than without, as illustrated below."
   ]
  },
  {
   "cell_type": "code",
   "execution_count": 14,
   "id": "f4ca5da1-9fc4-41f2-ac54-655e27f6ae33",
   "metadata": {},
   "outputs": [
    {
     "name": "stdout",
     "output_type": "stream",
     "text": [
      "31.8 ns ± 1.2 ns per loop (mean ± std. dev. of 7 runs, 10,000,000 loops each)\n"
     ]
    }
   ],
   "source": [
    "%timeit func_classic(27, 3)"
   ]
  },
  {
   "cell_type": "code",
   "execution_count": 15,
   "id": "9145c82f-55c2-4af9-811b-857af1877a1b",
   "metadata": {},
   "outputs": [
    {
     "name": "stdout",
     "output_type": "stream",
     "text": [
      "40.1 ns ± 2.5 ns per loop (mean ± std. dev. of 7 runs, 10,000,000 loops each)\n"
     ]
    }
   ],
   "source": [
    "%timeit func_classic(a=27, b=3)"
   ]
  },
  {
   "cell_type": "code",
   "execution_count": 16,
   "id": "04a7e089-4b2c-4fce-b403-3126b6dc997a",
   "metadata": {},
   "outputs": [
    {
     "name": "stdout",
     "output_type": "stream",
     "text": [
      "30.6 ns ± 1.18 ns per loop (mean ± std. dev. of 7 runs, 10,000,000 loops each)\n"
     ]
    }
   ],
   "source": [
    "%timeit func_positional_only(27, 3)"
   ]
  },
  {
   "cell_type": "code",
   "execution_count": 17,
   "id": "9bb6332f-dc83-4e06-aa0d-1d79ba5afbda",
   "metadata": {},
   "outputs": [
    {
     "name": "stdout",
     "output_type": "stream",
     "text": [
      "40.5 ns ± 1.11 ns per loop (mean ± std. dev. of 7 runs, 10,000,000 loops each)\n"
     ]
    }
   ],
   "source": [
    "%timeit func_keyword_only(a=27, b=3)"
   ]
  },
  {
   "cell_type": "markdown",
   "id": "778982ef-db05-4a22-a658-b1f9595d8917",
   "metadata": {},
   "source": [
    "## Maintenance"
   ]
  },
  {
   "cell_type": "markdown",
   "id": "56567790-2973-49bb-ab43-ce2e01d6464c",
   "metadata": {},
   "source": [
    "Although keyword arguments are convenient and can make your code more robust since using them reduces the probability of mixing up arguments since you don't have to remember the order, this approach amkes maintaining the functions themselves a bit harder.\n",
    "\n",
    "If the caller of the function uses keyword arguments and you change the name of a function argument, the function call will result in a runtime error.  The caller will have to adapt her code according to the changes you made.\n",
    "\n",
    "Calling a function with positional arguments where possible avoids this issue.\n",
    "\n",
    "Clearly, both approaches have advantages and disadvantages, and there is no silver bullet."
   ]
  }
 ],
 "metadata": {
  "kernelspec": {
   "display_name": "Python 3 (ipykernel)",
   "language": "python",
   "name": "python3"
  },
  "language_info": {
   "codemirror_mode": {
    "name": "ipython",
    "version": 3
   },
   "file_extension": ".py",
   "mimetype": "text/x-python",
   "name": "python",
   "nbconvert_exporter": "python",
   "pygments_lexer": "ipython3",
   "version": "3.12.3"
  }
 },
 "nbformat": 4,
 "nbformat_minor": 5
}
