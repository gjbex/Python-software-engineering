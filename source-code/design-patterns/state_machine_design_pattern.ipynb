{
 "cells": [
  {
   "cell_type": "markdown",
   "id": "c0e6a9ce-b797-4fbd-bac0-5291cedcf69f",
   "metadata": {},
   "source": [
    "# State machine design pattern"
   ]
  },
  {
   "cell_type": "markdown",
   "id": "43663659-34d7-4386-854b-7633d960514d",
   "metadata": {},
   "source": [
    "## Requirements"
   ]
  },
  {
   "cell_type": "code",
   "execution_count": 96,
   "id": "f8cd43d5-9ae5-4aac-a48a-bb34d034bd98",
   "metadata": {},
   "outputs": [],
   "source": [
    "import abc\n",
    "import enum\n",
    "import io\n",
    "import re\n",
    "import sys"
   ]
  },
  {
   "cell_type": "markdown",
   "id": "15a3f465-e42e-44c1-b813-4eea4f0b8bd0",
   "metadata": {},
   "source": [
    "## Problem specification"
   ]
  },
  {
   "cell_type": "markdown",
   "id": "f737e94d-5592-4e35-9dc1-38908647dcfa",
   "metadata": {},
   "source": [
    "You want to parse the following data format.  It consists of potentially many experiments.  Each experiment has a name and defines a number of parameters.  Below is an example of such a file.\n",
    "\n",
    "```\n",
    "begin experiment basic\n",
    "    n: int = 100\n",
    "    # comment 1\n",
    "    T: float = 317.0\n",
    "    description = particle simulation, test\n",
    "end experiment\n",
    "# comment 2\n",
    "begin experiment large\n",
    "    n: int = 1000\n",
    "    T: float = 347.0\n",
    "    charge: bool = True\n",
    "    description: str = particle simulation, production\n",
    "end experiment\n",
    "```"
   ]
  },
  {
   "cell_type": "markdown",
   "id": "43154a1e-3938-42cf-b988-8dfebcd0f095",
   "metadata": {},
   "source": [
    "Note that this file format is not intended as an example of how such a specification should be defined.  It would be far better to use a standard file format such as JSON, YAML or XML.  This is only intended to illustrate how the state machine design pattern can help you implement a parser for such a file format."
   ]
  },
  {
   "cell_type": "markdown",
   "id": "e13ad672-b973-4155-aeb1-3dc017a98c9a",
   "metadata": {},
   "source": [
    "## Implementation"
   ]
  },
  {
   "cell_type": "markdown",
   "id": "878f53b0-edb6-4acf-affa-be715698cb51",
   "metadata": {},
   "source": [
    "### Exceptions"
   ]
  },
  {
   "cell_type": "markdown",
   "id": "e43ff767-437f-4d10-b4ef-d205be93a284",
   "metadata": {},
   "source": [
    "Since a lot of things can go wrong, it is useful to define a number of exceptions.  The are all derived from an abstract base class `ExperimentException` to ensure that they can be captured easily."
   ]
  },
  {
   "cell_type": "code",
   "execution_count": 112,
   "id": "f7fb8b64-62e7-4855-a15f-c508aabb0b2f",
   "metadata": {},
   "outputs": [],
   "source": [
    "class ExperimentException(abc.ABC, Exception):\n",
    "    '''Base class for experiment parser exceptions'''\n",
    "    pass\n",
    "\n",
    "class ParameterNameError(ExperimentException):\n",
    "    '''Error to be raised when the name of a parameter is invalic'''\n",
    "    pass\n",
    "\n",
    "class ParameterTypeError(ExperimentException):\n",
    "    '''Error to be raised when the type of a parameter is invalic'''\n",
    "    pass\n",
    "\n",
    "class ExperimentFormatError(ExperimentException):\n",
    "    '''Error to be raised when the experiment file's format is invalid'''\n",
    "    pass"
   ]
  },
  {
   "cell_type": "markdown",
   "id": "ca3fd75e-eb4e-4459-9713-17e5ee2e6063",
   "metadata": {},
   "source": [
    "### Experiment class"
   ]
  },
  {
   "cell_type": "markdown",
   "id": "aa0a9f53-b786-46e8-a6e3-ec4f9b4cdb65",
   "metadata": {},
   "source": [
    "Next, you need a class to represent experiments."
   ]
  },
  {
   "cell_type": "code",
   "execution_count": 107,
   "id": "6e390fbc-efea-463f-ac6f-1ac2b7859538",
   "metadata": {},
   "outputs": [],
   "source": [
    "class Experiment:\n",
    "    '''Class that represents an experiment.\n",
    "    \n",
    "    Experiments can have arbitrary attributes that can be accessed Pythonically.\n",
    "    Note that objects of this class should not be constructed directly, but are\n",
    "    constructed by the Parser class.\n",
    "    \n",
    "    >>> e = Experiment('test')\n",
    "    >>> e._add_attr('T', 273.15)\n",
    "    >>> print(e.T)\n",
    "    273.15\n",
    "    >>> type(e.T)\n",
    "    float\n",
    "    '''\n",
    "    \n",
    "    def __init__(self, name):\n",
    "        '''Initialize an experiment.\n",
    "        \n",
    "        Parameters\n",
    "        ----------\n",
    "        name: str\n",
    "            name of the experiment\n",
    "        '''\n",
    "        self._name = name\n",
    "\n",
    "    @property\n",
    "    def experiment_name(self):\n",
    "        '''Get the experiment's name\n",
    "\n",
    "        Returns\n",
    "        -------\n",
    "        str\n",
    "            name of the experiment\n",
    "        '''\n",
    "        return self._name\n",
    "\n",
    "    def _add_attr(self, name, value):\n",
    "        '''Add a new parameter to the experiment\n",
    "        \n",
    "        Parameters\n",
    "        ----------\n",
    "        name: str\n",
    "            name of the  parameter to add\n",
    "        value: str | int | float | complex | bool\n",
    "            value of the parameter to add\n",
    "        \n",
    "        Returns\n",
    "        -------\n",
    "        Experiment\n",
    "            object for chaining calls to _add_attr (builder design pattern)\n",
    "\n",
    "        Raises\n",
    "        ------\n",
    "        ParameterNameError\n",
    "            if the name of the attribute is invalid\n",
    "        ParameterTypeError\n",
    "            if the type of the parameter is invalid\n",
    "        '''\n",
    "        if hasattr(self, name):\n",
    "            raise ParameterNameError(f\"invalid parameter name '{name}'\")\n",
    "        if not isinstance(value, (str, int, float, complex, bool)):\n",
    "            raise ParameterTypeError(f\"invalid parameter type '{type(value)}'\")\n",
    "        self.__dict__[name] = value\n",
    "        return self\n",
    "\n",
    "    def __str__(self):\n",
    "        '''String representation of the experiment\n",
    "        \n",
    "        Returns\n",
    "        -------\n",
    "        str\n",
    "            human readable string representation of the experiment\n",
    "        '''\n",
    "        repr = f'experiment {self.experiment_name}'\n",
    "        for name, value in self.__dict__.items():\n",
    "            if name in ('_name', ):\n",
    "                continue\n",
    "            repr += f'\\n  {name}: {type(value).__name__} = {value}'\n",
    "        return repr"
   ]
  },
  {
   "cell_type": "markdown",
   "id": "532b8b24-b09d-48a2-8b51-24cef980198d",
   "metadata": {},
   "source": [
    "### Parser"
   ]
  },
  {
   "cell_type": "markdown",
   "id": "3d7084ea-a944-4cdd-ad66-0232c3b608b6",
   "metadata": {},
   "source": [
    "The actual parsing of the file is done by instances of the `ExperimentParser` class."
   ]
  },
  {
   "cell_type": "code",
   "execution_count": 211,
   "id": "e7333aa7-1e18-4619-b7be-23b3180b852b",
   "metadata": {
    "scrolled": true
   },
   "outputs": [],
   "source": [
    "class ExperimentParser:\n",
    "    '''Parser for experiment description files.\n",
    "    \n",
    "    The following is an example of an experiment definition file:\n",
    "    begin experiment basic\n",
    "        n: int = 100\n",
    "        # comment 1\n",
    "        T: float = 317.0\n",
    "        description = particle simulation, test\n",
    "    end experiment\n",
    "    # comment 2\n",
    "    begin experiment large\n",
    "        n: int = 1000\n",
    "        T: float = 347.0\n",
    "        charge: bool = True\n",
    "        description: str = particle simulation, production\n",
    "    end experiment\n",
    "    '''\n",
    "\n",
    "    class State(enum.Enum):\n",
    "        '''Inner class to represent the parser state.\n",
    "        '''\n",
    "        START = enum.auto()\n",
    "        IN_BLOCK = enum.auto()\n",
    "        OUT_OF_BLOCK = enum.auto()\n",
    "    \n",
    "    def __init__(self, verbose=False):\n",
    "        '''Initialize parser.\n",
    "        \n",
    "        Parameters\n",
    "        ----------\n",
    "        verbose: bool\n",
    "            if True, provide verbose output to sys.stderr, default is False\n",
    "        '''\n",
    "        self.clear()\n",
    "        self._verbose = verbose\n",
    "\n",
    "    def clear(self):\n",
    "        '''Clear list of experiments.\n",
    "        '''\n",
    "        self._experiments = []\n",
    "\n",
    "    @property\n",
    "    def is_verbose(self):\n",
    "        '''Check whether parser is in verbose mode.\n",
    "        \n",
    "        Returns\n",
    "        -------\n",
    "        bool\n",
    "            True if parser is in verbose mode, False otherwise\n",
    "        '''\n",
    "        return self._verbose\n",
    "        \n",
    "    @property\n",
    "    def experiments(self):\n",
    "        '''Return the list of experiments.\n",
    "        \n",
    "        Returns\n",
    "        -------\n",
    "        list[Experiment]\n",
    "            list of experiments parsed so far\n",
    "        '''\n",
    "        return self._experiments\n",
    "\n",
    "    def _parse_header(self, line, line_nr):\n",
    "        '''Parser a begin experiment line.\n",
    "        \n",
    "        Parameters\n",
    "        ----------\n",
    "        line: str\n",
    "            line to parse\n",
    "        line_nr: int\n",
    "            line number to provide feedback on errors\n",
    "\n",
    "        Raises\n",
    "        ------\n",
    "        ExperimentFormatError\n",
    "            if experiment begin line format is invalid\n",
    "        '''\n",
    "        regex_str = r'^begin\\s+experiment\\s+(?P<experiment_name>\\w+)$'\n",
    "        if match := re.match(regex_str, line):\n",
    "            self._experiments.append(Experiment(match.group('experiment_name')))\n",
    "            return match.group('experiment_name')\n",
    "        else:\n",
    "            raise ExperimentFormatError(f'invalid line {line_nr}: {line}')\n",
    "\n",
    "    def _parse_parameter_definition(self, line, line_nr):\n",
    "        '''Parser a parameter definition line.\n",
    "\n",
    "        Note that an invalid type error will raise an ExperimentFormatError rather\n",
    "        than a ParameterTypeError since this method uses eval, and hence the type is\n",
    "        checked using the regular expression.\n",
    "        \n",
    "        Parameters\n",
    "        ----------\n",
    "        line: str\n",
    "            line to parse\n",
    "        line_nr: int\n",
    "            line number to provide feedback on errors\n",
    "\n",
    "        Raises\n",
    "        ------\n",
    "        ExperimentFormatError\n",
    "            if parameter definition format is invalid\n",
    "        ParameterNameError\n",
    "            if a parameter has an invalid name\n",
    "        '''\n",
    "        regex_str = r'''\n",
    "            ^\n",
    "            (?P<var_name>\\w+)                                       # variable name\n",
    "            (?:\\s*:\\s*(?P<var_type>str|int|float|complex|bool))?    # optional data type\n",
    "            \\s*=\\s*                                                 # assignment operator\n",
    "            (?P<var_value>.+)                                       # variable value\n",
    "            $'''\n",
    "        if match := re.match(regex_str, line.strip(), re.VERBOSE):\n",
    "            if match.group('var_type'):\n",
    "                var_type = eval(match.group('var_type'))\n",
    "                var_value = var_type(match.group('var_value'))\n",
    "            else:\n",
    "                var_value = match.group('var_value')\n",
    "            self._experiments[-1]._add_attr(match.group('var_name'), var_value)\n",
    "        else:\n",
    "            raise ExperimentFormatError(f'invalid line {line_nr}: {line}')\n",
    "\n",
    "    @staticmethod\n",
    "    def _is_blank(line):\n",
    "        '''Check whether a line is blank.\n",
    "        \n",
    "        Returns\n",
    "        -------\n",
    "        bool\n",
    "            True if line is blank, False otherwise\n",
    "        '''\n",
    "        return re.match(r'^\\s*$', line)\n",
    "        \n",
    "    @staticmethod\n",
    "    def _is_comment(line):\n",
    "        '''Check whether a line is a comment.\n",
    "        \n",
    "        Returns\n",
    "        -------\n",
    "        bool:\n",
    "            True if line is a comment, False otherwise\n",
    "        '''\n",
    "        return re.match(r'^\\s*#', line)\n",
    "\n",
    "    @staticmethod\n",
    "    def _is_block_begin(line):\n",
    "        '''Check whether a line is a begin experiment.\n",
    "        \n",
    "        Returns\n",
    "        -------\n",
    "        bool:\n",
    "            True if line is a begin experiment, False otherwise\n",
    "        '''\n",
    "        return re.match(r'^\\s*begin\\s+experiment', line)\n",
    "\n",
    "    @staticmethod\n",
    "    def _is_block_end(line):\n",
    "        '''Check whether a line is an end experiment.\n",
    "        \n",
    "        Returns\n",
    "        -------\n",
    "        bool:\n",
    "            True if line is an end experiment, False otherwise\n",
    "        '''\n",
    "        return re.match(r'^\\s*end\\s+experiment', line)\n",
    "\n",
    "    @property\n",
    "    def _is_in_block(self):\n",
    "        '''Check whether the parser is in an experiment definition block\n",
    "        \n",
    "        Returns\n",
    "        -------\n",
    "        bool:\n",
    "            True if the parser is in a definition block, False otherwise\n",
    "        '''\n",
    "        return self._state == self.State.IN_BLOCK\n",
    "\n",
    "    def _check_block_begin_end_match(self, line, line_nr):\n",
    "        '''Verify that name of experiment matches at begin and and markers.\n",
    "        Parameters\n",
    "        ----------\n",
    "        line: str\n",
    "            line to parse\n",
    "        line_nr: int\n",
    "            line number to provide feedback on errors\n",
    "\n",
    "        Raises\n",
    "        ------\n",
    "        ExperimentFormatError\n",
    "            if parameter definition format is invalid\n",
    "        '''\n",
    "        regex_str = r'^end\\s+experiment\\s+(?P<experiment_name>\\w+)$'\n",
    "        if match := re.match(regex_str, line):\n",
    "            if match.group('experiment_name') != self._experiments[-1].experiment_name:\n",
    "                raise ExperimentFormatError(f\"begin and end experiment names do not match on line {line_nr}: '{line}'\")            \n",
    "        \n",
    "    @property\n",
    "    def _is_done(self):\n",
    "        '''Chack whether parsing is done.\n",
    "        \n",
    "        The parser's state is either START or OUT_OF_BLOCK.\n",
    "\n",
    "        Returns\n",
    "        -------\n",
    "        bool:\n",
    "            True if the parser is one, False otherwise\n",
    "        '''\n",
    "        return self._state in (self.State.START, self.State.OUT_OF_BLOCK)\n",
    "        \n",
    "    def parse(self, file):\n",
    "        '''Parse an experiment definition file.\n",
    "        \n",
    "        Parameters\n",
    "        ----------\n",
    "        file: typing.TextIO\n",
    "            file-like object to parse\n",
    "            \n",
    "        Raises\n",
    "        ------\n",
    "        ExperimentFormatError\n",
    "            if the experiment file is not correctly formatted\n",
    "        ParameterNameError\n",
    "            if a parameter has an invalid name\n",
    "        '''\n",
    "        self._state = self.State.START\n",
    "        for line_nr, line in enumerate(file, 1):\n",
    "            line = line.rstrip()\n",
    "            if ExperimentParser._is_blank(line):\n",
    "                continue\n",
    "            elif ExperimentParser._is_comment(line):\n",
    "                continue\n",
    "            elif ExperimentParser._is_block_begin(line):\n",
    "                if self._is_in_block:\n",
    "                    raise ExperimentFormatError(f\"missing end experiment for '{self._experiments[-1].experiment_name}'\")\n",
    "                name = self._parse_header(line, line_nr)\n",
    "                if self.is_verbose:\n",
    "                    print(f'start parsing {name}', file=sys.stderr)\n",
    "                self._state = self.State.IN_BLOCK\n",
    "            elif ExperimentParser._is_block_end(line):\n",
    "                if not self._is_in_block:\n",
    "                    raise ExperimentFormatError(f\"end experiment without begin on line {line_nr}: '{line}'\")\n",
    "                self._check_block_begin_end_match(line, line_nr)\n",
    "                if self.is_verbose:\n",
    "                    print(f'end parsing {self._experiments[-1].experiment_name}', file=sys.stderr)\n",
    "                self._state = self.State.OUT_OF_BLOCK\n",
    "            elif self._is_in_block:\n",
    "                self._parse_parameter_definition(line, line_nr)\n",
    "            else:\n",
    "                raise ExperimentFormatError(f\"invalid line {line_nr}: '{line}'\")\n",
    "        if not self._is_done:\n",
    "            raise ExperimentFormatError(f'invalid experiments file, no end for experiment {self._experiments[-1].experiment_name}')"
   ]
  },
  {
   "cell_type": "markdown",
   "id": "9a739eca-ac39-4d94-8632-c9b204f342a5",
   "metadata": {},
   "source": [
    "## Testing"
   ]
  },
  {
   "cell_type": "markdown",
   "id": "f0f78b8e-9fed-4bd2-9574-184383fddc76",
   "metadata": {},
   "source": [
    "Clearly, you should use unit testing, e.g., pytest for proper testing, this is only intended to illustrate the behavior of the parser."
   ]
  },
  {
   "cell_type": "markdown",
   "id": "21ee91b2-d09f-4543-bd60-fda37ba79296",
   "metadata": {},
   "source": [
    "### Valid data"
   ]
  },
  {
   "cell_type": "markdown",
   "id": "6c9ad5f1-2534-430b-9f25-a1f9db6c3b89",
   "metadata": {},
   "source": [
    "First, start off with a valid experiment file."
   ]
  },
  {
   "cell_type": "code",
   "execution_count": 212,
   "id": "fe3f1e82-2373-49b1-a094-dcf205c9baa0",
   "metadata": {},
   "outputs": [],
   "source": [
    "valid_experiments = '''\n",
    "begin experiment basic\n",
    "    n: int = 100\n",
    "    # comment 1\n",
    "    T: float = 317.0\n",
    "    description = particle simulation, test\n",
    "end experiment\n",
    "# comment 2\n",
    "begin experiment large\n",
    "    n: int = 1000\n",
    "    T: float = 347.0\n",
    "    charge: bool = True\n",
    "    description: str = particle simulation, production\n",
    "end experiment\n",
    "'''"
   ]
  },
  {
   "cell_type": "code",
   "execution_count": 213,
   "id": "84b3619d-d871-4e19-9690-49b2e131da32",
   "metadata": {},
   "outputs": [],
   "source": [
    "parser = ExperimentParser()"
   ]
  },
  {
   "cell_type": "code",
   "execution_count": 214,
   "id": "b420b42b-29c1-43e8-8c5b-01d51f138018",
   "metadata": {},
   "outputs": [],
   "source": [
    "parser.parse(io.StringIO(valid_experiments))"
   ]
  },
  {
   "cell_type": "code",
   "execution_count": 215,
   "id": "a728ba04-33f7-4eed-bcfc-dfef42badde0",
   "metadata": {},
   "outputs": [
    {
     "name": "stdout",
     "output_type": "stream",
     "text": [
      "experiment basic\n",
      "  n: int = 100\n",
      "  T: float = 317.0\n",
      "  description: str = particle simulation, test\n",
      "experiment large\n",
      "  n: int = 1000\n",
      "  T: float = 347.0\n",
      "  charge: bool = True\n",
      "  description: str = particle simulation, production\n"
     ]
    }
   ],
   "source": [
    "for experiment in parser.experiments:\n",
    "    print(experiment)"
   ]
  },
  {
   "cell_type": "markdown",
   "id": "3eed42e7-dcd1-4a1d-87e2-d739f5f264cd",
   "metadata": {},
   "source": [
    "### Invalid parameter name"
   ]
  },
  {
   "cell_type": "markdown",
   "id": "a37164cb-0b0e-46c4-8eed-6990ef8148e4",
   "metadata": {},
   "source": [
    "Next, try with a file that has an invalid parameter name."
   ]
  },
  {
   "cell_type": "code",
   "execution_count": 216,
   "id": "70d607dc-72b2-47a9-bbab-22b452d4c50f",
   "metadata": {},
   "outputs": [],
   "source": [
    "invalid_parameter_name_experiments = '''\n",
    "begin experiment basic\n",
    "    n: int = 100\n",
    "    # comment 1\n",
    "    T: float = 317.0\n",
    "    description = particle simulation, test\n",
    "end experiment\n",
    "# comment 2\n",
    "begin experiment large\n",
    "    n: int = 1000\n",
    "    T: float = 347.0\n",
    "    charge: bool = True\n",
    "    _name: str = particle simulation, production\n",
    "end experiment\n",
    "'''"
   ]
  },
  {
   "cell_type": "code",
   "execution_count": 217,
   "id": "49c6c5a1-41dd-4a23-8c46-11330d1ace95",
   "metadata": {},
   "outputs": [],
   "source": [
    "parser = ExperimentParser()"
   ]
  },
  {
   "cell_type": "code",
   "execution_count": 218,
   "id": "c945e051-34fe-4598-a9b5-525473e0e078",
   "metadata": {
    "scrolled": true
   },
   "outputs": [
    {
     "name": "stdout",
     "output_type": "stream",
     "text": [
      "invalid parameter name '_name'\n"
     ]
    }
   ],
   "source": [
    "try:\n",
    "    parser.parse(io.StringIO(invalid_parameter_name_experiments))\n",
    "except ParameterNameError as e:\n",
    "    print(e)"
   ]
  },
  {
   "cell_type": "markdown",
   "id": "792c7dde-1179-4059-a666-0dadd36dee5c",
   "metadata": {},
   "source": [
    "### Invalid parameter type"
   ]
  },
  {
   "cell_type": "markdown",
   "id": "e29b8117-4938-40bd-aadb-71c941126c5e",
   "metadata": {},
   "source": [
    "Try a parameter with an invalid type."
   ]
  },
  {
   "cell_type": "code",
   "execution_count": 219,
   "id": "69f22603-d45b-4da6-b471-6ff0deb00701",
   "metadata": {},
   "outputs": [],
   "source": [
    "invalid_parameter_type_experiments = '''\n",
    "begin experiment basic\n",
    "    n: int = 100\n",
    "    # comment 1\n",
    "    T: float = 317.0\n",
    "    description = particle simulation, test\n",
    "    values: list = 2, 3, 5, 7\n",
    "end experiment\n",
    "# comment 2\n",
    "begin experiment large\n",
    "    n: int = 1000\n",
    "    T: float = 347.0\n",
    "    charge: bool = True\n",
    "    descripton: str = particle simulation, production\n",
    "end experiment\n",
    "'''"
   ]
  },
  {
   "cell_type": "code",
   "execution_count": 220,
   "id": "d06460ea-75de-475d-87f4-387d55df794f",
   "metadata": {},
   "outputs": [],
   "source": [
    "parser = ExperimentParser()"
   ]
  },
  {
   "cell_type": "code",
   "execution_count": 221,
   "id": "618c3daa-407b-4b82-bb27-82d1b0ad2bd2",
   "metadata": {},
   "outputs": [
    {
     "name": "stdout",
     "output_type": "stream",
     "text": [
      "invalid line 7:     values: list = 2, 3, 5, 7\n"
     ]
    }
   ],
   "source": [
    "try:\n",
    "    parser.parse(io.StringIO(invalid_parameter_type_experiments))\n",
    "except ExperimentFormatError as e:\n",
    "    print(e)"
   ]
  },
  {
   "cell_type": "markdown",
   "id": "1588726c-6193-4e59-85a7-89b98bfa4daf",
   "metadata": {},
   "source": [
    "### Missing end experiment"
   ]
  },
  {
   "cell_type": "markdown",
   "id": "e12b31a0-b196-4b24-a55a-566ee469d17f",
   "metadata": {},
   "source": [
    "Try an experiment definition without and end marker."
   ]
  },
  {
   "cell_type": "code",
   "execution_count": 222,
   "id": "3716a4b9-e55d-42be-b1e8-be7b34ffb61f",
   "metadata": {},
   "outputs": [],
   "source": [
    "missing_end_experiments = '''\n",
    "begin experiment basic\n",
    "    n: int = 100\n",
    "    # comment 1\n",
    "    T: float = 317.0\n",
    "    description = particle simulation, test\n",
    "# comment 2\n",
    "begin experiment large\n",
    "    n: int = 1000\n",
    "    T: float = 347.0\n",
    "    charge: bool = True\n",
    "    descripton: str = particle simulation, production\n",
    "end experiment\n",
    "'''"
   ]
  },
  {
   "cell_type": "code",
   "execution_count": 223,
   "id": "fe8fe30e-4b4b-48f7-9f6e-5df9fb12496d",
   "metadata": {},
   "outputs": [],
   "source": [
    "parser = ExperimentParser()"
   ]
  },
  {
   "cell_type": "code",
   "execution_count": 224,
   "id": "c8c90315-26f4-47cb-806e-82c32d0934a1",
   "metadata": {},
   "outputs": [
    {
     "name": "stdout",
     "output_type": "stream",
     "text": [
      "missing end experiment for 'basic'\n"
     ]
    }
   ],
   "source": [
    "try:\n",
    "    parser.parse(io.StringIO(missing_end_experiments))\n",
    "except ExperimentFormatError as e:\n",
    "    print(e)"
   ]
  },
  {
   "cell_type": "markdown",
   "id": "23a76817-0711-4f8b-9c9d-421d234153ac",
   "metadata": {},
   "source": [
    "### Non-matching begin and end"
   ]
  },
  {
   "cell_type": "markdown",
   "id": "cf446ad4-59ad-47d1-b39d-b312aa03649a",
   "metadata": {},
   "source": [
    "Try an experiment with a non-matching begin and end."
   ]
  },
  {
   "cell_type": "code",
   "execution_count": 225,
   "id": "790e3731-0112-4a2b-85a0-f02134676904",
   "metadata": {},
   "outputs": [],
   "source": [
    "non_matching_begin_end_experiments = '''\n",
    "begin experiment basic\n",
    "    n: int = 100\n",
    "    # comment 1\n",
    "    T: float = 317.0\n",
    "    description = particle simulation, test\n",
    "end experiment nonbasic\n",
    "# comment 2\n",
    "begin experiment large\n",
    "    n: int = 1000\n",
    "    T: float = 347.0\n",
    "    charge: bool = True\n",
    "    descripton: str = particle simulation, production\n",
    "end experiment\n",
    "'''"
   ]
  },
  {
   "cell_type": "code",
   "execution_count": 226,
   "id": "6cf722b0-0cf6-4f72-ba54-71d57fb139c1",
   "metadata": {},
   "outputs": [],
   "source": [
    "parser = ExperimentParser()"
   ]
  },
  {
   "cell_type": "code",
   "execution_count": 227,
   "id": "05593aef-bb07-4363-95e0-5287548716ea",
   "metadata": {},
   "outputs": [
    {
     "name": "stdout",
     "output_type": "stream",
     "text": [
      "begin and end experiment names do not match on line 7: 'end experiment nonbasic'\n"
     ]
    }
   ],
   "source": [
    "try:\n",
    "    parser.parse(io.StringIO(non_matching_begin_end_experiments))\n",
    "except ExperimentFormatError as e:\n",
    "    print(e)"
   ]
  },
  {
   "cell_type": "markdown",
   "id": "6591969b-1047-45f6-a5d2-362c6897a87e",
   "metadata": {},
   "source": [
    "### Invalid experiment definition"
   ]
  },
  {
   "cell_type": "markdown",
   "id": "30c98a4b-eabb-4e2b-a6c2-fda7bc5ef568",
   "metadata": {},
   "source": [
    "Try an experiment with an invalid name."
   ]
  },
  {
   "cell_type": "code",
   "execution_count": 228,
   "id": "a3b286fb-7f96-40c4-8cf5-e2003318bd8d",
   "metadata": {},
   "outputs": [],
   "source": [
    "invalid_experiment_definition_experiments = '''\n",
    "begin experiment basic\n",
    "    n: int = 100\n",
    "    # comment 1\n",
    "    T: float = 317.0\n",
    "    description = particle simulation, test\n",
    "end experiment basic\n",
    "# comment 2\n",
    "begin experiment large scale run\n",
    "    n: int = 1000\n",
    "    T: float = 347.0\n",
    "    charge: bool = True\n",
    "    descripton: str = particle simulation, production\n",
    "end experiment\n",
    "'''"
   ]
  },
  {
   "cell_type": "code",
   "execution_count": 229,
   "id": "41884119-d023-4c26-bdd6-4da140f16447",
   "metadata": {},
   "outputs": [],
   "source": [
    "parser = ExperimentParser()"
   ]
  },
  {
   "cell_type": "code",
   "execution_count": 230,
   "id": "3c6786ec-2f63-4e79-bc3d-805406351f87",
   "metadata": {},
   "outputs": [
    {
     "name": "stdout",
     "output_type": "stream",
     "text": [
      "invalid line 9: begin experiment large scale run\n"
     ]
    }
   ],
   "source": [
    "try:\n",
    "    parser.parse(io.StringIO(invalid_experiment_definition_experiments))\n",
    "except ExperimentFormatError as e:\n",
    "    print(e)"
   ]
  }
 ],
 "metadata": {
  "kernelspec": {
   "display_name": "Python 3 (ipykernel)",
   "language": "python",
   "name": "python3"
  },
  "language_info": {
   "codemirror_mode": {
    "name": "ipython",
    "version": 3
   },
   "file_extension": ".py",
   "mimetype": "text/x-python",
   "name": "python",
   "nbconvert_exporter": "python",
   "pygments_lexer": "ipython3",
   "version": "3.12.3"
  }
 },
 "nbformat": 4,
 "nbformat_minor": 5
}
