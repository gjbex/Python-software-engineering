{
 "cells": [
  {
   "cell_type": "markdown",
   "id": "ffa8cd96-724d-4683-9a59-6c1e53d1b462",
   "metadata": {},
   "source": [
    "# Required modules"
   ]
  },
  {
   "cell_type": "code",
   "execution_count": 1,
   "id": "ef9a778a-06a2-4dc0-941b-23c84b7c6418",
   "metadata": {},
   "outputs": [],
   "source": [
    "import attr\n",
    "import random\n",
    "import typing"
   ]
  },
  {
   "cell_type": "markdown",
   "id": "abb0ebc4-7cae-4530-8ea7-a01fcb5348c7",
   "metadata": {},
   "source": [
    "# Basics"
   ]
  },
  {
   "cell_type": "markdown",
   "id": "42bef0fa-177e-4ece-85b1-4789b31cb03b",
   "metadata": {},
   "source": [
    "In its most basic form, `attr` resembles the standard Python `dataclass`."
   ]
  },
  {
   "cell_type": "code",
   "execution_count": 2,
   "id": "1452407c-47d6-4944-9d11-e4e736595a89",
   "metadata": {},
   "outputs": [],
   "source": [
    "@attr.s\n",
    "class Person():\n",
    "    id = attr.ib()\n",
    "    first_name = attr.ib()\n",
    "    last_name = attr.ib()\n",
    "    age = attr.ib()"
   ]
  },
  {
   "cell_type": "markdown",
   "id": "b5ba28a7-695c-47c5-b57e-217eedeea409",
   "metadata": {},
   "source": [
    "Objects of this class have four attributes.  They can be initialized by using keyword arguments in the constructor."
   ]
  },
  {
   "cell_type": "code",
   "execution_count": 3,
   "id": "6faca179-33c8-45df-ac95-d342098c90f9",
   "metadata": {},
   "outputs": [],
   "source": [
    "p1 = Person(id=123, first_name='Albert', last_name='Einstein', age=67)"
   ]
  },
  {
   "cell_type": "markdown",
   "id": "e55953e2-5d97-4ca1-b796-48e03e3a63db",
   "metadata": {},
   "source": [
    "`attr` automatically generates a nice `__repr__` for you."
   ]
  },
  {
   "cell_type": "code",
   "execution_count": 4,
   "id": "72821db8-4c91-401f-9c93-ccf97cc6090d",
   "metadata": {},
   "outputs": [
    {
     "data": {
      "text/plain": [
       "Person(id=123, first_name='Albert', last_name='Einstein', age=67)"
      ]
     },
     "execution_count": 4,
     "metadata": {},
     "output_type": "execute_result"
    }
   ],
   "source": [
    "p1"
   ]
  },
  {
   "cell_type": "markdown",
   "id": "8b93bbf2-eae6-48b9-8aa3-2764e9eba83f",
   "metadata": {},
   "source": [
    "Attributes behave as if they were defined through Python's standard decorators."
   ]
  },
  {
   "cell_type": "code",
   "execution_count": 5,
   "id": "0ff67224-7d33-4836-bf3a-b5fd9835e719",
   "metadata": {},
   "outputs": [
    {
     "data": {
      "text/plain": [
       "67"
      ]
     },
     "execution_count": 5,
     "metadata": {},
     "output_type": "execute_result"
    }
   ],
   "source": [
    "p1.age"
   ]
  },
  {
   "cell_type": "code",
   "execution_count": 6,
   "id": "915ac342-d365-4972-b833-83ff4beead08",
   "metadata": {},
   "outputs": [],
   "source": [
    "p1.age = 48"
   ]
  },
  {
   "cell_type": "code",
   "execution_count": 7,
   "id": "5582b4c9-b96a-4a0b-b454-ae243423b0a1",
   "metadata": {},
   "outputs": [
    {
     "data": {
      "text/plain": [
       "48"
      ]
     },
     "execution_count": 7,
     "metadata": {},
     "output_type": "execute_result"
    }
   ],
   "source": [
    "p1.age"
   ]
  },
  {
   "cell_type": "markdown",
   "id": "2e2a720b-0fc8-45a1-a3b3-addfca233b9a",
   "metadata": {},
   "source": [
    "## Private attributes"
   ]
  },
  {
   "cell_type": "code",
   "execution_count": 8,
   "id": "a120c2c8-4a52-4e4d-8708-75a1edbc6f7b",
   "metadata": {},
   "outputs": [],
   "source": [
    "@attr.s\n",
    "class PublicPrivate():\n",
    "    value = attr.ib()\n",
    "    _mine = attr.ib()"
   ]
  },
  {
   "cell_type": "markdown",
   "id": "82e2d832-61fa-4fe0-896b-01d604e43bab",
   "metadata": {},
   "source": [
    "Note that to initialize the private attribute `_mine`, you can leave off the leading underscore."
   ]
  },
  {
   "cell_type": "code",
   "execution_count": 9,
   "id": "64e3b8cd-4381-4f83-9113-a5b30560f2ce",
   "metadata": {},
   "outputs": [],
   "source": [
    "obj = PublicPrivate(value=17, mine=12)"
   ]
  },
  {
   "cell_type": "code",
   "execution_count": 10,
   "id": "62a8eecc-1c7d-435e-b83a-4acf74cd8fe8",
   "metadata": {},
   "outputs": [
    {
     "data": {
      "text/plain": [
       "PublicPrivate(value=17, _mine=12)"
      ]
     },
     "execution_count": 10,
     "metadata": {},
     "output_type": "execute_result"
    }
   ],
   "source": [
    "obj"
   ]
  },
  {
   "cell_type": "markdown",
   "id": "64317bda-b47f-49c1-a8da-07d7d1fed09c",
   "metadata": {},
   "source": [
    "Note that the private attribute can not be accessed without the undersocre."
   ]
  },
  {
   "cell_type": "code",
   "execution_count": 11,
   "id": "79918bba-ab66-4312-91ef-2e7a4e688d4e",
   "metadata": {},
   "outputs": [
    {
     "name": "stdout",
     "output_type": "stream",
     "text": [
      "No way\n"
     ]
    }
   ],
   "source": [
    "try:\n",
    "    print(obj.mine)\n",
    "except:\n",
    "    print('No way')"
   ]
  },
  {
   "cell_type": "markdown",
   "id": "a8740b68-d8fe-4b9a-a6ab-32c37c5ee86e",
   "metadata": {},
   "source": [
    "You can initialize private attributes yourself by specifying the default value and setting `init` to `False`."
   ]
  },
  {
   "cell_type": "code",
   "execution_count": 12,
   "id": "be66cbad-c740-4d85-afdb-4bdda2e10d8a",
   "metadata": {},
   "outputs": [],
   "source": [
    "@attr.s\n",
    "class PublicPrivate():\n",
    "    value = attr.ib()\n",
    "    _mine = attr.ib(init=False, default=42)"
   ]
  },
  {
   "cell_type": "code",
   "execution_count": 13,
   "id": "854a7925-958f-4bfd-9324-1ab72bca080f",
   "metadata": {},
   "outputs": [
    {
     "data": {
      "text/plain": [
       "PublicPrivate(value=3, _mine=42)"
      ]
     },
     "execution_count": 13,
     "metadata": {},
     "output_type": "execute_result"
    }
   ],
   "source": [
    "PublicPrivate(3)"
   ]
  },
  {
   "cell_type": "markdown",
   "id": "349efa8f-3513-463b-8b99-a1d6d64a7457",
   "metadata": {},
   "source": [
    "## Mutable attribute initialization"
   ]
  },
  {
   "cell_type": "markdown",
   "id": "c7048b8b-781b-4130-bee5-30bd25bd867d",
   "metadata": {},
   "source": [
    "Since we will be using a random number generator, we seed it to ensure reproducibility."
   ]
  },
  {
   "cell_type": "code",
   "execution_count": 14,
   "id": "231f64da-270d-431a-ad6d-d3ca548d9e9b",
   "metadata": {},
   "outputs": [],
   "source": [
    "random.seed(1234)"
   ]
  },
  {
   "cell_type": "markdown",
   "id": "5db4df28-4a66-4d80-8fc3-5688e7059383",
   "metadata": {},
   "source": [
    "You can initialize attributes yourself in non-trivial ways.  The `_values` attribute will be initialized by the return value of the method `init_values`."
   ]
  },
  {
   "cell_type": "code",
   "execution_count": 15,
   "id": "d0837d6f-8684-47c4-aa02-cd7379befcb3",
   "metadata": {},
   "outputs": [],
   "source": [
    "@attr.s\n",
    "class Guessing:\n",
    "    nr_values = attr.ib()\n",
    "    _values = attr.ib(init=False)\n",
    "    @_values.default\n",
    "    def init_values(self):\n",
    "        values = set()\n",
    "        while len(values) < self.nr_values:\n",
    "            values.add(random.choice(list(range(10))))\n",
    "        return values\n",
    "    \n",
    "    def has_value(self, value):\n",
    "        return value in self._values"
   ]
  },
  {
   "cell_type": "code",
   "execution_count": 16,
   "id": "f7fce390-783e-485a-bb99-906181025b0b",
   "metadata": {},
   "outputs": [],
   "source": [
    "guess1 = Guessing(3)"
   ]
  },
  {
   "cell_type": "code",
   "execution_count": 17,
   "id": "418668d7-e6e3-413b-96dc-f6daf71aa4ad",
   "metadata": {},
   "outputs": [
    {
     "data": {
      "text/plain": [
       "Guessing(nr_values=3, _values={0, 1, 7})"
      ]
     },
     "execution_count": 17,
     "metadata": {},
     "output_type": "execute_result"
    }
   ],
   "source": [
    "guess1"
   ]
  },
  {
   "cell_type": "code",
   "execution_count": 18,
   "id": "68e2fd65-3b92-4c97-aa7b-2fc9d6324de9",
   "metadata": {},
   "outputs": [],
   "source": [
    "guess2 = Guessing(3)"
   ]
  },
  {
   "cell_type": "code",
   "execution_count": 19,
   "id": "26038a03-4671-4082-b2a3-9e38c53b4215",
   "metadata": {},
   "outputs": [
    {
     "data": {
      "text/plain": [
       "Guessing(nr_values=3, _values={0, 1, 9})"
      ]
     },
     "execution_count": 19,
     "metadata": {},
     "output_type": "execute_result"
    }
   ],
   "source": [
    "guess2"
   ]
  },
  {
   "cell_type": "code",
   "execution_count": 20,
   "id": "a5505986-4978-43a7-a0c3-8a9e390fc589",
   "metadata": {},
   "outputs": [
    {
     "data": {
      "text/plain": [
       "True"
      ]
     },
     "execution_count": 20,
     "metadata": {},
     "output_type": "execute_result"
    }
   ],
   "source": [
    "guess1.has_value(7)"
   ]
  },
  {
   "cell_type": "code",
   "execution_count": 21,
   "id": "39d7f915-1540-4541-88d6-87720018f845",
   "metadata": {},
   "outputs": [
    {
     "data": {
      "text/plain": [
       "False"
      ]
     },
     "execution_count": 21,
     "metadata": {},
     "output_type": "execute_result"
    }
   ],
   "source": [
    "guess2.has_value(7)"
   ]
  },
  {
   "cell_type": "markdown",
   "id": "0fdd936d-1ee8-4225-8b0c-11d005d7a6d6",
   "metadata": {},
   "source": [
    "Note that mutable attributes have to be defined either using the method above, or using `attr.Factory`.  The class below illustrates what happens if you are naive about this."
   ]
  },
  {
   "cell_type": "code",
   "execution_count": 22,
   "id": "fcf6b561-3e09-47cb-8ba4-0b26a535d148",
   "metadata": {},
   "outputs": [],
   "source": [
    "@attr.s\n",
    "class Naive:\n",
    "    values = attr.ib(init=False, default=list())"
   ]
  },
  {
   "cell_type": "code",
   "execution_count": 23,
   "id": "765879cb-ce32-4b23-a5ec-ecf62b092dd5",
   "metadata": {},
   "outputs": [],
   "source": [
    "obj1 = Naive()"
   ]
  },
  {
   "cell_type": "code",
   "execution_count": 24,
   "id": "a43b2bf3-be2f-4e11-9f98-3011ba318fc8",
   "metadata": {},
   "outputs": [],
   "source": [
    "obj2 = Naive()"
   ]
  },
  {
   "cell_type": "code",
   "execution_count": 25,
   "id": "3407718c-c554-46ef-829d-fc3135459d7e",
   "metadata": {},
   "outputs": [],
   "source": [
    "obj1.values.append(5)"
   ]
  },
  {
   "cell_type": "code",
   "execution_count": 26,
   "id": "d91ba6b2-5d37-4291-bd14-a9c42a06256e",
   "metadata": {},
   "outputs": [
    {
     "data": {
      "text/plain": [
       "Naive(values=[5])"
      ]
     },
     "execution_count": 26,
     "metadata": {},
     "output_type": "execute_result"
    }
   ],
   "source": [
    "obj2"
   ]
  },
  {
   "cell_type": "markdown",
   "id": "62365b44-8e00-4d64-91d2-b84396eb270e",
   "metadata": {},
   "source": [
    "This may be surprising until you realize that the list is instantiated when the class definition is executed, and hence is the same for all objects instantiated for that class."
   ]
  },
  {
   "cell_type": "code",
   "execution_count": 27,
   "id": "26997ac8-9a9b-4189-9013-5019d56bc767",
   "metadata": {},
   "outputs": [],
   "source": [
    "@attr.s\n",
    "class NotSoNaive:\n",
    "    values = attr.ib(init=False, factory=list)"
   ]
  },
  {
   "cell_type": "code",
   "execution_count": 28,
   "id": "9fe281eb-15d5-473f-a66e-14e9499e658c",
   "metadata": {},
   "outputs": [],
   "source": [
    "obj1 = NotSoNaive()"
   ]
  },
  {
   "cell_type": "code",
   "execution_count": 29,
   "id": "80758524-da8c-41c1-8811-0845f1e01a4f",
   "metadata": {},
   "outputs": [],
   "source": [
    "obj2 = NotSoNaive()"
   ]
  },
  {
   "cell_type": "code",
   "execution_count": 30,
   "id": "eaaa043d-df66-42f4-8eda-ee2883b91edf",
   "metadata": {},
   "outputs": [],
   "source": [
    "obj1.values.append(5)"
   ]
  },
  {
   "cell_type": "code",
   "execution_count": 31,
   "id": "6a0c122e-497e-42c1-9e0f-ec73993feb0a",
   "metadata": {},
   "outputs": [
    {
     "data": {
      "text/plain": [
       "NotSoNaive(values=[5])"
      ]
     },
     "execution_count": 31,
     "metadata": {},
     "output_type": "execute_result"
    }
   ],
   "source": [
    "obj1"
   ]
  },
  {
   "cell_type": "code",
   "execution_count": 32,
   "id": "e166f967-bdf6-4a70-b96d-eda52f334d2f",
   "metadata": {},
   "outputs": [
    {
     "data": {
      "text/plain": [
       "NotSoNaive(values=[])"
      ]
     },
     "execution_count": 32,
     "metadata": {},
     "output_type": "execute_result"
    }
   ],
   "source": [
    "obj2"
   ]
  },
  {
   "cell_type": "markdown",
   "id": "3f9113e4-2de0-49c0-9d8f-615ad370ac90",
   "metadata": {},
   "source": [
    "## Validators"
   ]
  },
  {
   "cell_type": "markdown",
   "id": "cc420df2-4acc-462a-82bf-a01e9c7d98b3",
   "metadata": {},
   "source": [
    "You can add validators to attributes, e.g., to check whether a value is in a certain range."
   ]
  },
  {
   "cell_type": "code",
   "execution_count": 33,
   "id": "2bdb7cdf-bd59-4aa3-a789-d0dd33c2e787",
   "metadata": {},
   "outputs": [],
   "source": [
    "@attr.s\n",
    "class Guessing:\n",
    "    nr_values = attr.ib(type=int)\n",
    "    @nr_values.validator\n",
    "    def nr_values_validate(self, attribute, value):\n",
    "        if value < 1 or value > 10:\n",
    "            raise ValueError('number of values should be between 1 and 10')\n",
    "    _values = attr.ib(init=False)\n",
    "    @_values.default\n",
    "    def init_values(self):\n",
    "        values = set()\n",
    "        while len(values) < self.nr_values:\n",
    "            values.add(random.choice(list(range(10))))\n",
    "        return values\n",
    "    \n",
    "    def has_value(self, value):\n",
    "        return value in self._values"
   ]
  },
  {
   "cell_type": "code",
   "execution_count": 34,
   "id": "b0190cb1-adcd-4f24-95fa-2124b9024385",
   "metadata": {},
   "outputs": [
    {
     "name": "stdout",
     "output_type": "stream",
     "text": [
      "number of values should be between 1 and 10\n"
     ]
    }
   ],
   "source": [
    "try:\n",
    "    Guessing(-1)\n",
    "except ValueError as error:\n",
    "    print(error)"
   ]
  },
  {
   "cell_type": "markdown",
   "id": "0021f402-d129-4760-9f44-7fb5a922c31f",
   "metadata": {},
   "source": [
    "Note that default factories are executed before any validators, which explains why the following doesn't result in a validation error."
   ]
  },
  {
   "cell_type": "code",
   "execution_count": 35,
   "id": "ca9308bc-91f8-4081-b904-1c65d53bee44",
   "metadata": {},
   "outputs": [
    {
     "name": "stdout",
     "output_type": "stream",
     "text": [
      "'<' not supported between instances of 'int' and 'str'\n"
     ]
    }
   ],
   "source": [
    "try:\n",
    "    Guessing('abc')\n",
    "except TypeError as error:\n",
    "    print(error)"
   ]
  },
  {
   "cell_type": "markdown",
   "id": "6cc72d6f-fb8f-478d-b9cc-679a4a765b85",
   "metadata": {},
   "source": [
    "You can add type information to attributes, either using Python's type hints, or `attr.ib`'s keyword argument."
   ]
  },
  {
   "cell_type": "code",
   "execution_count": 36,
   "id": "e6b1fe34-4731-4e9b-a097-ab5bcd44fff9",
   "metadata": {},
   "outputs": [],
   "source": [
    "@attr.s\n",
    "class Numbers:\n",
    "    x = attr.ib(type=float)\n",
    "    y : str = attr.ib()"
   ]
  },
  {
   "cell_type": "markdown",
   "id": "cdb3e41c-cf38-4e94-bcd5-3c8924ac713e",
   "metadata": {},
   "source": [
    "However, don't get excited, this will only help static type checkers such as mypy, no runtime checks are added."
   ]
  },
  {
   "cell_type": "code",
   "execution_count": 37,
   "id": "7e5f6691-6105-4543-bd13-c03ae1efe83f",
   "metadata": {},
   "outputs": [
    {
     "data": {
      "text/plain": [
       "Numbers(x='abc', y=3)"
      ]
     },
     "execution_count": 37,
     "metadata": {},
     "output_type": "execute_result"
    }
   ],
   "source": [
    "Numbers(x='abc', y=3)"
   ]
  },
  {
   "cell_type": "markdown",
   "id": "9c58a1a2-492a-48c0-86a1-4b45e1ef76dd",
   "metadata": {},
   "source": [
    "## Converters"
   ]
  },
  {
   "cell_type": "markdown",
   "id": "05bc2106-d118-4b0f-be43-b1547f247780",
   "metadata": {},
   "source": [
    "You can specify a converter for an attribute value.  This will be invoked after the default factory, but before the validator."
   ]
  },
  {
   "cell_type": "code",
   "execution_count": 38,
   "id": "9c1f113f-280d-4c25-852f-c5997bf83b23",
   "metadata": {},
   "outputs": [],
   "source": [
    "@attr.s\n",
    "class Guessing:\n",
    "    nr_values : int = attr.ib(converter=int)\n",
    "    @nr_values.validator\n",
    "    def nr_values_validate(self, attribute, value):\n",
    "        if value < 1 or value > 10:\n",
    "            raise ValueError('number of values should be between 1 and 10')\n",
    "    _values : typing.List[int] = attr.ib(init=False)\n",
    "    @_values.default\n",
    "    def init_values(self):\n",
    "        values = set()\n",
    "        while len(values) < self.nr_values:\n",
    "            values.add(random.choice(list(range(10))))\n",
    "        return values\n",
    "    \n",
    "    def has_value(self, value):\n",
    "        return value in self._values"
   ]
  },
  {
   "cell_type": "code",
   "execution_count": 39,
   "id": "c9b45abc-d76e-446b-b10c-1ee7f02478be",
   "metadata": {},
   "outputs": [
    {
     "name": "stdout",
     "output_type": "stream",
     "text": [
      "invalid literal for int() with base 10: 'abc'\n"
     ]
    }
   ],
   "source": [
    "try:\n",
    "    Guessing('abc')\n",
    "except ValueError as error:\n",
    "    print(error)"
   ]
  },
  {
   "cell_type": "code",
   "execution_count": 40,
   "id": "b60c3e65-4976-4c48-8e67-ac5d6fb62138",
   "metadata": {},
   "outputs": [
    {
     "data": {
      "text/plain": [
       "Guessing(nr_values=4, _values={0, 1, 3, 5})"
      ]
     },
     "execution_count": 40,
     "metadata": {},
     "output_type": "execute_result"
    }
   ],
   "source": [
    "Guessing('4')"
   ]
  },
  {
   "cell_type": "code",
   "execution_count": 41,
   "id": "a3ded931-9d57-4338-bc04-9263268c61b6",
   "metadata": {},
   "outputs": [
    {
     "name": "stdout",
     "output_type": "stream",
     "text": [
      "number of values should be between 1 and 10\n"
     ]
    }
   ],
   "source": [
    "try:\n",
    "    Guessing('-9')\n",
    "except ValueError as error:\n",
    "    print(error)"
   ]
  },
  {
   "cell_type": "markdown",
   "id": "771ff071-c15e-439a-b976-f7cb783a68ab",
   "metadata": {},
   "source": [
    "## Post-init hook"
   ]
  },
  {
   "cell_type": "markdown",
   "id": "658da1f9-f5a0-46fa-b730-2cfb497e48d8",
   "metadata": {},
   "source": [
    "Sometimes you want to do initialization based on the values of the attributes passed to the constructor.  You would typically do that in the `__init__` method.  To do similar things for `attrs` classes, you can use the `__attrs_post_init__` method."
   ]
  },
  {
   "cell_type": "code",
   "execution_count": 42,
   "id": "7a616115-ddd2-4582-ad3a-47b3ab7f8c64",
   "metadata": {},
   "outputs": [],
   "source": [
    "@attr.s\n",
    "class Guessing:\n",
    "    nr_values : int = attr.ib(converter=int)\n",
    "    _values : typing.List[int] = attr.ib(init=False)\n",
    "\n",
    "    @nr_values.validator\n",
    "    def nr_values_validate(self, attribute, value):\n",
    "        if value < 1 or value > 10:\n",
    "            raise ValueError('number of values should be between 1 and 10')\n",
    "\n",
    "    def __attrs_post_init__(self):\n",
    "        self._values = set()\n",
    "        while len(self._values) < self.nr_values:\n",
    "            self._values.add(random.choice(list(range(10))))\n",
    "    \n",
    "    def has_value(self, value):\n",
    "        return value in self._values"
   ]
  },
  {
   "cell_type": "code",
   "execution_count": 43,
   "id": "0cbea0f1-0f55-49f3-aaa2-54fd0006ca04",
   "metadata": {},
   "outputs": [
    {
     "name": "stdout",
     "output_type": "stream",
     "text": [
      "Guessing(nr_values=4, _values={0, 9, 5, 7})\n",
      "trying 6\n",
      "no luck with 6\n",
      "trying 1\n",
      "no luck with 1\n",
      "trying 1\n",
      "no luck with 1\n"
     ]
    }
   ],
   "source": [
    "guessing = Guessing(4)\n",
    "print(guessing)\n",
    "for guess in random.choices(range(10), k=3):\n",
    "    print(f'trying {guess}')\n",
    "    if guessing.has_value(guess):\n",
    "        print(f'hurray for {guess}!')\n",
    "    else:\n",
    "        print(f'no luck with {guess}')"
   ]
  },
  {
   "cell_type": "markdown",
   "id": "b4a1f9ec-2403-4c86-b41d-b3b22044bc45",
   "metadata": {},
   "source": [
    "## Comparisons"
   ]
  },
  {
   "cell_type": "markdown",
   "id": "29040163-48b6-4529-86ad-bb9b6488c8d1",
   "metadata": {},
   "source": [
    "By default, `attrs` will construct comparison methods for you, i.e., `__eq__`, `__neq__`, but also `__lt__` and so on."
   ]
  },
  {
   "cell_type": "code",
   "execution_count": 44,
   "id": "d3d21db1-0858-4929-b48a-1df7d69bbb56",
   "metadata": {},
   "outputs": [],
   "source": [
    "@attr.s\n",
    "class Person:\n",
    "    lastname: str = attr.ib()\n",
    "    firstname: str = attr.ib()\n",
    "    age: int = attr.ib()\n",
    "        \n",
    "    @age.validator\n",
    "    def age_validator(self, attribute, value):\n",
    "        if value < 0 or value >= 130:\n",
    "            raise ValueError(f'age should be between 0 and 130')"
   ]
  },
  {
   "cell_type": "markdown",
   "id": "c3567e93-7d09-475c-a225-c482095f829e",
   "metadata": {},
   "source": [
    "The natural order for objects of this class is lexicographic on lastname, firstname, and the numeric on age.  Note that the declaration order of the attributes matters and determines the final sort order."
   ]
  },
  {
   "cell_type": "code",
   "execution_count": 45,
   "id": "876cfb7a-1697-4bd4-bd78-edd8b5ab8afb",
   "metadata": {},
   "outputs": [
    {
     "data": {
      "text/plain": [
       "[Person(lastname='Zosimo', firstname='Alice', age=43),\n",
       " Person(lastname='Leibovitch', firstname='Aaron', age=31),\n",
       " Person(lastname='Leibovitch', firstname='Robert', age=49),\n",
       " Person(lastname='Zosimo', firstname='Alice', age=25)]"
      ]
     },
     "execution_count": 45,
     "metadata": {},
     "output_type": "execute_result"
    }
   ],
   "source": [
    "people = [\n",
    "    Person(firstname='Alice', lastname='Zosimo', age=43),\n",
    "    Person(firstname='Aaron', lastname='Leibovitch', age=31),\n",
    "    Person(firstname='Robert', lastname='Leibovitch', age=49),\n",
    "    Person(firstname='Alice', lastname='Zosimo', age=25),\n",
    "]\n",
    "people"
   ]
  },
  {
   "cell_type": "markdown",
   "id": "bcf35d6a-596b-4c00-8584-9ba0319d1b10",
   "metadata": {},
   "source": [
    "We can no use Python's `sorted` function to sort the people in this list according to lastname, firstname and age."
   ]
  },
  {
   "cell_type": "code",
   "execution_count": 46,
   "id": "82693535-6016-483d-8676-6e87105db263",
   "metadata": {},
   "outputs": [
    {
     "data": {
      "text/plain": [
       "[Person(lastname='Leibovitch', firstname='Aaron', age=31),\n",
       " Person(lastname='Leibovitch', firstname='Robert', age=49),\n",
       " Person(lastname='Zosimo', firstname='Alice', age=25),\n",
       " Person(lastname='Zosimo', firstname='Alice', age=43)]"
      ]
     },
     "execution_count": 46,
     "metadata": {},
     "output_type": "execute_result"
    }
   ],
   "source": [
    "sorted(people)"
   ]
  },
  {
   "cell_type": "markdown",
   "id": "b7bf5733-4938-4953-9bff-58132ced8c7d",
   "metadata": {},
   "source": [
    "Equality is also based on the object's attributes."
   ]
  },
  {
   "cell_type": "code",
   "execution_count": 47,
   "id": "aec2338b-eb7b-4af9-af75-d3c0cf6f62e5",
   "metadata": {},
   "outputs": [],
   "source": [
    "alice1 = Person(firstname='Alice', lastname='Zosimo', age=43)\n",
    "alice2 = Person(firstname='Alice', lastname='Zosimo', age=43)\n",
    "alice3 = Person(firstname='alice', lastname='zosimo', age=43)"
   ]
  },
  {
   "cell_type": "markdown",
   "id": "90d4fee2-79c6-430f-9b7b-99c49e87c083",
   "metadata": {},
   "source": [
    "`alice1` has the same attributes as `alice2`, but they are distinct objects nevertheless."
   ]
  },
  {
   "cell_type": "code",
   "execution_count": 48,
   "id": "e700a830-20e4-4d95-82d8-17faf8208878",
   "metadata": {},
   "outputs": [
    {
     "data": {
      "text/plain": [
       "True"
      ]
     },
     "execution_count": 48,
     "metadata": {},
     "output_type": "execute_result"
    }
   ],
   "source": [
    "alice1 == alice2"
   ]
  },
  {
   "cell_type": "code",
   "execution_count": 49,
   "id": "8a90a20b-f421-4744-a536-06eb8892c41e",
   "metadata": {},
   "outputs": [
    {
     "data": {
      "text/plain": [
       "False"
      ]
     },
     "execution_count": 49,
     "metadata": {},
     "output_type": "execute_result"
    }
   ],
   "source": [
    "alice1 is alice2"
   ]
  },
  {
   "cell_type": "markdown",
   "id": "d32a45c8-0d4e-4f0e-bef8-5e7f1f05751f",
   "metadata": {},
   "source": [
    "`alice3` is different from `alice1`"
   ]
  },
  {
   "cell_type": "code",
   "execution_count": 50,
   "id": "ff732001-18bd-44c9-a874-50179a4e9ff1",
   "metadata": {},
   "outputs": [
    {
     "data": {
      "text/plain": [
       "False"
      ]
     },
     "execution_count": 50,
     "metadata": {},
     "output_type": "execute_result"
    }
   ],
   "source": [
    "alice1 == alice3"
   ]
  },
  {
   "cell_type": "markdown",
   "id": "748fa453-3827-4eb8-a012-f0d8d15aa183",
   "metadata": {},
   "source": [
    "You can exclude attrubutes from being used to compare objects for equality by adding the argument `eq=False` to the `attr.ib` function call.  Similarly, you can exclude an attribute from order comparisons by setting `order` to `False`."
   ]
  },
  {
   "cell_type": "markdown",
   "id": "6e3b0777-f567-47cb-8823-1e462d370be5",
   "metadata": {},
   "source": [
    "## Hashing"
   ]
  },
  {
   "cell_type": "markdown",
   "id": "03d02551-2b9f-4d28-86a6-64c7550b847b",
   "metadata": {},
   "source": [
    "Mutable objects are not hashable, which means they can not be stored in sets, or used as keys in dictionaries."
   ]
  },
  {
   "cell_type": "code",
   "execution_count": 51,
   "id": "6d576453-68e9-4bae-b8b8-378565960668",
   "metadata": {},
   "outputs": [
    {
     "name": "stdout",
     "output_type": "stream",
     "text": [
      "unhashable type: 'Person'\n"
     ]
    }
   ],
   "source": [
    "try:\n",
    "    people = {\n",
    "        Person(firstname='Alice', lastname='Zosimo', age=43),\n",
    "        Person(firstname='Aaron', lastname='Leibovitch', age=31),\n",
    "    }\n",
    "except Exception as error:\n",
    "    print(error)"
   ]
  },
  {
   "cell_type": "markdown",
   "id": "46e907e6-3278-4cec-b595-fc15a79a18ad",
   "metadata": {},
   "source": [
    "One options is to make the objects unmutable."
   ]
  },
  {
   "cell_type": "code",
   "execution_count": 52,
   "id": "8c34e55f-f798-417c-808a-a70cab41d9b0",
   "metadata": {},
   "outputs": [],
   "source": [
    "@attr.s(frozen=True)\n",
    "class Person:\n",
    "    lastname: str = attr.ib()\n",
    "    firstname: str = attr.ib()\n",
    "    age: int = attr.ib()\n",
    "        \n",
    "    @age.validator\n",
    "    def age_validator(self, attribute, value):\n",
    "        if value < 0 or value >= 130:\n",
    "            raise ValueError(f'age should be between 0 and 130')"
   ]
  },
  {
   "cell_type": "code",
   "execution_count": 53,
   "id": "922f49dd-c4cf-4554-9376-5e0185158f31",
   "metadata": {},
   "outputs": [
    {
     "data": {
      "text/plain": [
       "{Person(lastname='Leibovitch', firstname='Aaron', age=31),\n",
       " Person(lastname='Zosimo', firstname='Alice', age=43)}"
      ]
     },
     "execution_count": 53,
     "metadata": {},
     "output_type": "execute_result"
    }
   ],
   "source": [
    "people = {\n",
    "    Person(firstname='Alice', lastname='Zosimo', age=43),\n",
    "    Person(firstname='Aaron', lastname='Leibovitch', age=31),\n",
    "}\n",
    "people"
   ]
  },
  {
   "cell_type": "markdown",
   "id": "0133fe30-3973-4398-8c8d-e62bd504c519",
   "metadata": {},
   "source": [
    "However, this implies you can not modify the objects."
   ]
  },
  {
   "cell_type": "code",
   "execution_count": 54,
   "id": "37c2e8a4-2977-42b9-9529-30dfe1089f44",
   "metadata": {},
   "outputs": [
    {
     "name": "stdout",
     "output_type": "stream",
     "text": [
      "Person(lastname='Zosimo', firstname='Alice', age=43)\n",
      "the objects is frozen\n",
      "Person(lastname='Zosimo', firstname='Alice', age=43)\n"
     ]
    }
   ],
   "source": [
    "person = people.pop()\n",
    "print(person)\n",
    "try:\n",
    "    person.age = 12\n",
    "except AttributeError:\n",
    "    print('the objects is frozen')\n",
    "print(person)"
   ]
  },
  {
   "cell_type": "markdown",
   "id": "5554878d-ad20-4317-b58a-54c3c8958e2b",
   "metadata": {},
   "source": [
    "This is of course fine if you do not need mutable ojbects.  The alternative is to hash based on object identity."
   ]
  },
  {
   "cell_type": "code",
   "execution_count": 55,
   "id": "f6269b27-ff89-40e8-bb85-5602cb0d6c72",
   "metadata": {},
   "outputs": [],
   "source": [
    "@attr.s(eq=False)\n",
    "class Person:\n",
    "    lastname: str = attr.ib()\n",
    "    firstname: str = attr.ib()\n",
    "    age: int = attr.ib()\n",
    "        \n",
    "    @age.validator\n",
    "    def age_validator(self, attribute, value):\n",
    "        if value < 0 or value >= 130:\n",
    "            raise ValueError(f'age should be between 0 and 130')"
   ]
  },
  {
   "cell_type": "markdown",
   "id": "1e82961c-5ffb-43b4-b7e3-8e607beed8c7",
   "metadata": {},
   "source": [
    "However, this implies that objects will be distinct, regardless of the values of their attributes."
   ]
  },
  {
   "cell_type": "code",
   "execution_count": 56,
   "id": "4ca729cc-2ce4-470e-befd-bab544ae1f3c",
   "metadata": {},
   "outputs": [
    {
     "data": {
      "text/plain": [
       "{Person(lastname='Leibovitch', firstname='Aaron', age=31),\n",
       " Person(lastname='Leibovitch', firstname='Robert', age=49),\n",
       " Person(lastname='Zosimo', firstname='Alice', age=43),\n",
       " Person(lastname='Zosimo', firstname='Alice', age=43)}"
      ]
     },
     "execution_count": 56,
     "metadata": {},
     "output_type": "execute_result"
    }
   ],
   "source": [
    "people = {\n",
    "    Person(firstname='Alice', lastname='Zosimo', age=43),\n",
    "    Person(firstname='Aaron', lastname='Leibovitch', age=31),\n",
    "    Person(firstname='Robert', lastname='Leibovitch', age=49),\n",
    "    Person(firstname='Alice', lastname='Zosimo', age=43),\n",
    "}\n",
    "people"
   ]
  },
  {
   "cell_type": "code",
   "execution_count": 57,
   "id": "086f2880-5772-4cd1-ba58-44576678d0b6",
   "metadata": {},
   "outputs": [],
   "source": [
    "alice1 = Person(firstname='Alice', lastname='Zosimo', age=43)\n",
    "alice2 = Person(firstname='Alice', lastname='Zosimo', age=43)\n",
    "alice3 = Person(firstname='alice', lastname='zosimo', age=43)"
   ]
  },
  {
   "cell_type": "markdown",
   "id": "ca98822f-691f-40a3-bb67-bbf989d87698",
   "metadata": {},
   "source": [
    "`alice1` has the same attributes as `alice2`, but they are distinct objects nevertheless."
   ]
  },
  {
   "cell_type": "code",
   "execution_count": 58,
   "id": "d5cb600d-f440-4919-9397-1e9b75af0d0f",
   "metadata": {},
   "outputs": [
    {
     "data": {
      "text/plain": [
       "False"
      ]
     },
     "execution_count": 58,
     "metadata": {},
     "output_type": "execute_result"
    }
   ],
   "source": [
    "alice1 == alice2"
   ]
  },
  {
   "cell_type": "code",
   "execution_count": 59,
   "id": "07a70926-54a2-425f-acb2-6aa22260f7c3",
   "metadata": {},
   "outputs": [
    {
     "data": {
      "text/plain": [
       "False"
      ]
     },
     "execution_count": 59,
     "metadata": {},
     "output_type": "execute_result"
    }
   ],
   "source": [
    "alice1 is alice2"
   ]
  },
  {
   "cell_type": "markdown",
   "id": "1600b5e8-e10c-4eff-a369-87bc3920a8d3",
   "metadata": {},
   "source": [
    "Of course, you can still impliment your own hash method and comparison methods if required."
   ]
  },
  {
   "cell_type": "markdown",
   "id": "536b220c-b157-47de-89e6-f4a4946e480c",
   "metadata": {},
   "source": [
    "# Example"
   ]
  },
  {
   "cell_type": "markdown",
   "id": "6e2c5118-2211-4487-9055-592b89b5b559",
   "metadata": {},
   "source": [
    "We will implement the `Point` class that was sued as a running example."
   ]
  },
  {
   "cell_type": "code",
   "execution_count": 60,
   "id": "391732ee-8952-49e6-857c-e8b8c6e8dab4",
   "metadata": {},
   "outputs": [],
   "source": [
    "from math import sqrt"
   ]
  },
  {
   "cell_type": "code",
   "execution_count": 61,
   "id": "2faf536d-83eb-4587-8116-4d665e1cf546",
   "metadata": {},
   "outputs": [],
   "source": [
    "@attr.s\n",
    "class Point:\n",
    "    x: float = attr.ib(converter=float)\n",
    "    y: float = attr.ib(converter=float)\n",
    "        \n",
    "    def distance(self, other):\n",
    "        return sqrt((self.x - other.x)**2 + (self.y - other.y)**2)\n",
    "    \n",
    "    @property\n",
    "    def coords(self):\n",
    "        return (self.x, self.y)\n",
    "    \n",
    "    @coords.setter\n",
    "    def coords(self, value):\n",
    "        self.x, self.y = value"
   ]
  },
  {
   "cell_type": "code",
   "execution_count": 62,
   "id": "62516ade-9c73-4cb1-8143-110c5141c672",
   "metadata": {},
   "outputs": [
    {
     "data": {
      "text/plain": [
       "(Point(x=3.1, y=5.0), Point(x=3.2, y=1.9))"
      ]
     },
     "execution_count": 62,
     "metadata": {},
     "output_type": "execute_result"
    }
   ],
   "source": [
    "p1, p2 = Point(3.1, 5), Point('3.2', 1.9)\n",
    "p1, p2"
   ]
  },
  {
   "cell_type": "markdown",
   "id": "b1d56498-9adc-4ac3-bdde-1b331414c587",
   "metadata": {},
   "source": [
    "Note the differences with the original \"pure Python\" implementation:\n",
    "* `x` and `y` are public attributes, and\n",
    "* values assigned to the attributes are not validated."
   ]
  },
  {
   "cell_type": "code",
   "execution_count": 63,
   "id": "a606d9c1-e392-462b-8420-e88f4735896a",
   "metadata": {},
   "outputs": [
    {
     "data": {
      "text/plain": [
       "Point(x='abc', y=5.0)"
      ]
     },
     "execution_count": 63,
     "metadata": {},
     "output_type": "execute_result"
    }
   ],
   "source": [
    "p1.x = 'abc' \n",
    "p1"
   ]
  },
  {
   "cell_type": "markdown",
   "id": "c4b80743-aad7-4ae2-98d8-c422440ea9cf",
   "metadata": {},
   "source": [
    "If you want that level of control, the advantages of using `attrs` start to decrease considerably."
   ]
  },
  {
   "cell_type": "code",
   "execution_count": 64,
   "id": "2daae99c-7ebb-4dab-95a5-edc5984bcdbc",
   "metadata": {},
   "outputs": [
    {
     "data": {
      "text/plain": [
       "Point(x=17.1, y=12.5)"
      ]
     },
     "execution_count": 64,
     "metadata": {},
     "output_type": "execute_result"
    }
   ],
   "source": [
    "p1.coords = 17.1, 12.5\n",
    "p1"
   ]
  },
  {
   "cell_type": "markdown",
   "id": "c4ce5a9c-568c-4c86-be22-9b8f08ec5bda",
   "metadata": {},
   "source": [
    "## Inheritance"
   ]
  },
  {
   "cell_type": "markdown",
   "id": "ac2f90f5-3d5e-4dd4-9fe2-4fa56f669ced",
   "metadata": {},
   "source": [
    "Inheritance simply works as expected.  Methods and attributes can be added to subclasses."
   ]
  },
  {
   "cell_type": "code",
   "execution_count": 65,
   "id": "1a6a3c6d-d177-4f4f-b339-9ba3be1ae264",
   "metadata": {},
   "outputs": [],
   "source": [
    "@attr.s\n",
    "class PointMass(Point):\n",
    "    mass: float = attr.ib(converter=float)\n",
    "    \n",
    "    def __attr_pre_init__(self):\n",
    "        super().__init__()"
   ]
  },
  {
   "cell_type": "code",
   "execution_count": 66,
   "id": "52e32576-1c2b-4195-868f-4505da5e141e",
   "metadata": {},
   "outputs": [
    {
     "data": {
      "text/plain": [
       "PointMass(x=1.2, y=2.3, mass=5.0)"
      ]
     },
     "execution_count": 66,
     "metadata": {},
     "output_type": "execute_result"
    }
   ],
   "source": [
    "p1 = PointMass(1.2, 2.3, 5.0)\n",
    "p1"
   ]
  },
  {
   "cell_type": "code",
   "execution_count": 67,
   "id": "f40178b8-338d-4afd-95e2-f3b8a6afcc2e",
   "metadata": {},
   "outputs": [],
   "source": [
    "p2 = Point(3.2, 4.1)"
   ]
  },
  {
   "cell_type": "code",
   "execution_count": 68,
   "id": "bd49b807-7255-408b-9989-1212f6e8c1df",
   "metadata": {},
   "outputs": [
    {
     "data": {
      "text/plain": [
       "2.690724809414742"
      ]
     },
     "execution_count": 68,
     "metadata": {},
     "output_type": "execute_result"
    }
   ],
   "source": [
    "p1.distance(p2)"
   ]
  }
 ],
 "metadata": {
  "kernelspec": {
   "display_name": "Python 3 (ipykernel)",
   "language": "python",
   "name": "python3"
  },
  "language_info": {
   "codemirror_mode": {
    "name": "ipython",
    "version": 3
   },
   "file_extension": ".py",
   "mimetype": "text/x-python",
   "name": "python",
   "nbconvert_exporter": "python",
   "pygments_lexer": "ipython3",
   "version": "3.12.3"
  }
 },
 "nbformat": 4,
 "nbformat_minor": 5
}
