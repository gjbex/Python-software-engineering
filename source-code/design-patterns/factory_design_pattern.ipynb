{
 "cells": [
  {
   "cell_type": "markdown",
   "id": "f4ff5324-2ed7-453f-8f4d-6a163ff66266",
   "metadata": {},
   "source": [
    "# Requirements"
   ]
  },
  {
   "cell_type": "code",
   "execution_count": 1,
   "id": "d85a7914-7da3-4174-999a-cd573adc5a71",
   "metadata": {},
   "outputs": [],
   "source": [
    "import attr\n",
    "from math import sqrt\n",
    "import matplotlib.pyplot as plt\n",
    "%matplotlib inline\n",
    "from operator import attrgetter\n",
    "import random\n",
    "import scipy as sp\n",
    "import scipy.stats"
   ]
  },
  {
   "cell_type": "markdown",
   "id": "18fd5d95-b41a-48c5-88d8-29b61037b3de",
   "metadata": {},
   "source": [
    "# Particles"
   ]
  },
  {
   "cell_type": "markdown",
   "id": "04bef303-c1e0-4531-a375-c268048a415c",
   "metadata": {},
   "source": [
    "We define a class that represents particles in two dimensions.  Particles have a position, a velocity and a mass.  These properties are set when the particle is created, and can not be modified, except through the `move` method that takes a time interval $\\Delta t$ as an argument.\n",
    "\n",
    "The position, velocity and mass attributes can be accessed using properties, as can the kinetic energy."
   ]
  },
  {
   "cell_type": "code",
   "execution_count": 2,
   "id": "8ff84f9a-c19b-4c8a-8fcf-790e43184608",
   "metadata": {},
   "outputs": [],
   "source": [
    "@attr.s\n",
    "class Particle:\n",
    "    _x: float = attr.ib()\n",
    "    _y: float = attr.ib()\n",
    "    _v_x: float = attr.ib()\n",
    "    _v_y: float = attr.ib()\n",
    "    _mass: float = attr.ib()\n",
    "    \n",
    "    @property\n",
    "    def position(self):\n",
    "        return self._x, self._y\n",
    "    \n",
    "    @property\n",
    "    def velocity(self):\n",
    "        return self._v_x, self._v_y\n",
    "    \n",
    "    @property\n",
    "    def mass(self):\n",
    "        return self._mass\n",
    "    \n",
    "    @property\n",
    "    def energy(self):\n",
    "        return 0.5*self._mass*(self._v_x**2 + self._v_y**2)\n",
    "    \n",
    "    def move(self, Δt: float):\n",
    "        self._x += self._v_x*Δt\n",
    "        self._y += self._v_y*Δt"
   ]
  },
  {
   "cell_type": "code",
   "execution_count": 3,
   "id": "11757da3-6c99-42be-a3d7-ac52a8b726d0",
   "metadata": {},
   "outputs": [],
   "source": [
    "p = Particle(x=0.0, y=0.0, v_x=0.3, v_y=0.9, mass=1.0)"
   ]
  },
  {
   "cell_type": "code",
   "execution_count": 4,
   "id": "0e074a16-c0b6-46ea-b5d5-e1b9c2803984",
   "metadata": {},
   "outputs": [
    {
     "data": {
      "text/plain": [
       "0.45"
      ]
     },
     "execution_count": 4,
     "metadata": {},
     "output_type": "execute_result"
    }
   ],
   "source": [
    "p.energy"
   ]
  },
  {
   "cell_type": "code",
   "execution_count": 5,
   "id": "2c972952-ecb5-435f-bae5-525fd18552f0",
   "metadata": {},
   "outputs": [
    {
     "data": {
      "text/plain": [
       "(0.0, 0.0)"
      ]
     },
     "execution_count": 5,
     "metadata": {},
     "output_type": "execute_result"
    }
   ],
   "source": [
    "p.position"
   ]
  },
  {
   "cell_type": "code",
   "execution_count": 6,
   "id": "6744e1db-88cb-4714-abab-fa25067e4ffa",
   "metadata": {},
   "outputs": [],
   "source": [
    "p.move(Δt=0.01)"
   ]
  },
  {
   "cell_type": "code",
   "execution_count": 7,
   "id": "0f405a2e-a984-4a1c-aa19-b073326bcd17",
   "metadata": {},
   "outputs": [
    {
     "data": {
      "text/plain": [
       "(0.003, 0.009000000000000001)"
      ]
     },
     "execution_count": 7,
     "metadata": {},
     "output_type": "execute_result"
    }
   ],
   "source": [
    "p.position"
   ]
  },
  {
   "cell_type": "code",
   "execution_count": 8,
   "id": "20aef05b-f9e4-4f71-8cd1-7bd61b45ff4d",
   "metadata": {},
   "outputs": [
    {
     "data": {
      "text/plain": [
       "0.45"
      ]
     },
     "execution_count": 8,
     "metadata": {},
     "output_type": "execute_result"
    }
   ],
   "source": [
    "p.energy"
   ]
  },
  {
   "cell_type": "markdown",
   "id": "c135e1d1-e9f9-452b-aa79-705c4abacf12",
   "metadata": {},
   "source": [
    "# Particle factory"
   ]
  },
  {
   "cell_type": "markdown",
   "id": "4b8b0c79-cbc9-4cb2-b9c1-e265d222350c",
   "metadata": {},
   "source": [
    "We want to create an ensemble of particles with a specific mass at a given temperature.  To that purpose, we create a factory class that can be instantiated for a specific particle mass and temperature, and that has a `create` method to generate a particle located at the origin and with a random velocity according to a Maxwell distribution determined by the particles' mass and the temperature."
   ]
  },
  {
   "cell_type": "code",
   "execution_count": 9,
   "id": "8c0a6088-c8f7-41b9-b345-fc0b6ee1cc4b",
   "metadata": {},
   "outputs": [],
   "source": [
    "@attr.s\n",
    "class ParticleFactory:\n",
    "    _T: float = attr.ib()\n",
    "    _mass: float = attr.ib()\n",
    "        \n",
    "    @_T.validator\n",
    "    def _(self, attribute, value: float):\n",
    "        if self._T < 0.0:\n",
    "            raise ValueError('temperature must be positive')\n",
    "\n",
    "    @_mass.validator\n",
    "    def _(self, attribute, value: float):\n",
    "        if self._mass < 0.0:\n",
    "            raise ValueError('mass must be positive')\n",
    "            \n",
    "    def create(self):\n",
    "        v: float = sp.stats.maxwell.rvs(scale=self._T/self._mass, size=1)[0]\n",
    "        v_x: float = random.choice([-1.0, 1.0])*random.random()*v\n",
    "        v_y: float = random.choice([-1.0, 1.0])*sqrt(v**2 - v_x**2)\n",
    "        return Particle(x=0.0, y=0.0, v_x=v_x, v_y=v_y, mass=self._mass)"
   ]
  },
  {
   "cell_type": "markdown",
   "id": "03523738-8ef8-4e3c-80ef-b9483dad33eb",
   "metadata": {},
   "source": [
    "We create a factory for particles with unit mass at a temperature of 5.0, and use the factory to create 5000 of such particles."
   ]
  },
  {
   "cell_type": "code",
   "execution_count": 10,
   "id": "e008ec23-b471-49fd-ada7-c8d139b86043",
   "metadata": {},
   "outputs": [],
   "source": [
    "particle_factory_5 = ParticleFactory(T=5.0, mass=1.0)"
   ]
  },
  {
   "cell_type": "code",
   "execution_count": 11,
   "id": "36858b90-bdf6-4569-b261-56f989967c4a",
   "metadata": {},
   "outputs": [],
   "source": [
    "particles_5 = [particle_factory_5.create() for _ in range(5_000)]"
   ]
  },
  {
   "cell_type": "markdown",
   "id": "ed346886-5409-4d1c-978b-8a37b30967d9",
   "metadata": {},
   "source": [
    "We do the same, but now for a temperature of 10.0."
   ]
  },
  {
   "cell_type": "code",
   "execution_count": 12,
   "id": "09943eac-5552-4a2f-903d-0766f2303c38",
   "metadata": {},
   "outputs": [],
   "source": [
    "particle_factory_10 = ParticleFactory(T=10.0, mass=1.0)"
   ]
  },
  {
   "cell_type": "code",
   "execution_count": 13,
   "id": "b3476f9e-46a5-4365-ab7e-2cfc7e9a9192",
   "metadata": {},
   "outputs": [],
   "source": [
    "particles_10 = [particle_factory_10.create() for _ in range(5_000)]"
   ]
  },
  {
   "cell_type": "markdown",
   "id": "464ec2a0-0de2-4381-8a94-6c3dcd3c1ffa",
   "metadata": {},
   "source": [
    "We can now plot the velocity distribution for each of the ensembles of particles."
   ]
  },
  {
   "cell_type": "code",
   "execution_count": 14,
   "id": "b752496c-f39d-4ef4-8565-2dc1c844eaf6",
   "metadata": {},
   "outputs": [
    {
     "data": {
      "image/png": "[encoded data removed]",
      "text/plain": [
       "<Figure size 432x288 with 1 Axes>"
      ]
     },
     "metadata": {
      "needs_background": "light"
     },
     "output_type": "display_data"
    }
   ],
   "source": [
    "_ = plt.hist(list(map(attrgetter('energy'), particles_5)), bins=50, density=True, alpha=0.5, label='$T = 5$')\n",
    "_ = plt.hist(list(map(attrgetter('energy'), particles_10)), bins=50, density=True, alpha=0.5, label='$T = 10$')\n",
    "_ = plt.xlabel(r'$v$')\n",
    "_ = plt.ylabel(r'$P(v)$')\n",
    "_ = plt.legend()"
   ]
  }
 ],
 "metadata": {
  "kernelspec": {
   "display_name": "Python 3",
   "language": "python",
   "name": "python3"
  },
  "language_info": {
   "codemirror_mode": {
    "name": "ipython",
    "version": 3
   },
   "file_extension": ".py",
   "mimetype": "text/x-python",
   "name": "python",
   "nbconvert_exporter": "python",
   "pygments_lexer": "ipython3",
   "version": "3.9.5"
  }
 },
 "nbformat": 4,
 "nbformat_minor": 5
}
