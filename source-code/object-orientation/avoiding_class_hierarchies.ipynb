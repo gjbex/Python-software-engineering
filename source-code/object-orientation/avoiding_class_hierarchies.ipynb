{
 "cells": [
  {
   "cell_type": "markdown",
   "metadata": {},
   "source": [
    "From a design perspective, deep hierarchies of classes can be cumbersome and make change a lot harder since the entire hierarchy has to be taken into account. Python offers a few mechanism to avoid this, and make the class desing leaner."
   ]
  },
  {
   "cell_type": "markdown",
   "metadata": {},
   "source": [
    "In order to ensure that all cells in this notebook can be evaluated without errors, we will use `try`-`except` to catch exceptions. To show the actual errors, we need to print the backtrace, hence the following import."
   ]
  },
  {
   "cell_type": "code",
   "execution_count": 1,
   "metadata": {},
   "outputs": [],
   "source": [
    "from traceback import print_exc"
   ]
  },
  {
   "cell_type": "markdown",
   "metadata": {},
   "source": [
    "# Duck typing"
   ]
  },
  {
   "cell_type": "markdown",
   "metadata": {},
   "source": [
    "The idea is that if classes implement object methods with the same signature and semantics, that functionality can be used, regardless of the relationship between the classes, if any. If it looks like a duck, swims like a duck and quacks like a duck, it is probably a duck."
   ]
  },
  {
   "cell_type": "markdown",
   "metadata": {},
   "source": [
    "We define two classes that serve completely different purposes.  The only thing they share is that they make a sound, and the relevant method for both is `make_sound`."
   ]
  },
  {
   "cell_type": "code",
   "execution_count": 2,
   "metadata": {},
   "outputs": [],
   "source": [
    "class Duck:\n",
    "    species: str\n",
    "    \n",
    "    def make_sound(self):\n",
    "        return 'quack'\n",
    "    \n",
    "    def __init__(self, species):\n",
    "        self.species = species"
   ]
  },
  {
   "cell_type": "code",
   "execution_count": 3,
   "metadata": {},
   "outputs": [],
   "source": [
    "class Timer:\n",
    "    time: int\n",
    "    \n",
    "    def make_sound(self):\n",
    "        return 'ring'\n",
    "    \n",
    "    def __init__(self, time):\n",
    "        self.time = time"
   ]
  },
  {
   "cell_type": "markdown",
   "metadata": {},
   "source": [
    "Next, we add and instance of each to a list."
   ]
  },
  {
   "cell_type": "code",
   "execution_count": 4,
   "metadata": {},
   "outputs": [],
   "source": [
    "stuff = [Duck('mandarin'), Timer(10)]"
   ]
  },
  {
   "cell_type": "markdown",
   "metadata": {},
   "source": [
    "We can iterate over the list, and regardless of the object's class, invoke the `make_sound` method."
   ]
  },
  {
   "cell_type": "code",
   "execution_count": 5,
   "metadata": {},
   "outputs": [
    {
     "name": "stdout",
     "output_type": "stream",
     "text": [
      "<class '__main__.Duck'> says quack\n",
      "<class '__main__.Timer'> says ring\n"
     ]
    }
   ],
   "source": [
    "for item in stuff:\n",
    "    print(f'{type(item)} says {item.make_sound()}')"
   ]
  },
  {
   "cell_type": "markdown",
   "metadata": {},
   "source": [
    "Note that the sound faculty of these classes is not derived from a common ancestor class by inheritance."
   ]
  },
  {
   "cell_type": "markdown",
   "metadata": {},
   "source": [
    "# Protocols"
   ]
  },
  {
   "cell_type": "markdown",
   "metadata": {},
   "source": [
    "Duck typing can be formalized in Python 3.8+ using protocols.  This will allow type checkers such as `mypy` to find potential mistakes.  Consider the code as above, but now implemented using a `Protocol`.\n",
    "\n",
    "A protocol is defined as a class that inherits from `Protocol` that is defined in the `typing` module.  It defines the method signatures that should be implemented by any class that supports the protocol.  In the example below, any class that can make a sound should have a `make_sound` method that returns a `str`.\n",
    "\n",
    "The classes that implement the protocol `SoundMaker` *do not* inherit from that class, they simply implement the `make_sound` method as specified by the protocol, i.e., a method that takes no arguments besides the object, and that returns a `str`.\n",
    "\n",
    "The `make_sound` function takes an object of type `SoundMaker` as an argument.  Although neither `Duck` nor `Timer` inherit from `SoundMaker`, the type checker will nevertheless be satisfied since both classes implement the protocol `SoundMaker` since they have a `make_sound` method implementation.\n",
    "\n",
    "Since the `Dog` class doesn't implement `make_sound`, a static type checker will now report an error when a `Dog` object is passed as an argument to the `make_sound` function."
   ]
  },
  {
   "cell_type": "code",
   "execution_count": 6,
   "metadata": {},
   "outputs": [
    {
     "name": "stdout",
     "output_type": "stream",
     "text": [
      "Writing protocols_toremove.py\n"
     ]
    }
   ],
   "source": [
    "%%writefile protocols_toremove.py\n",
    "#!/usr/bin/env python\n",
    "\n",
    "from typing import Protocol\n",
    "\n",
    "\n",
    "class SoundMaker(Protocol):\n",
    "    def make_sound(self) -> str: ...\n",
    "\n",
    "\n",
    "class Duck:\n",
    "    species: str\n",
    "\n",
    "    def __init__(self, species: str):\n",
    "        self.species = species\n",
    "\n",
    "    def make_sound(self) -> str:\n",
    "        return 'quack'\n",
    "\n",
    "\n",
    "class Timer:\n",
    "    time: int\n",
    "\n",
    "    def __init__(self, time: int):\n",
    "        self.time = time\n",
    "\n",
    "    def make_sound(self) -> str:\n",
    "        return 'ring'\n",
    "\n",
    "\n",
    "class Dog:\n",
    "    name: str\n",
    "\n",
    "    def __init__(self, name: str):\n",
    "        self.name = name\n",
    "\n",
    "\n",
    "def make_sound(stuff: SoundMaker) -> None:\n",
    "    print(stuff.make_sound())\n",
    "\n",
    "\n",
    "if __name__ == \"__main__\":\n",
    "    duck = Duck('Mallard')\n",
    "    timer = Timer(5)\n",
    "    dog = Dog('Fido')\n",
    "\n",
    "    make_sound(duck)\n",
    "    make_sound(timer)\n",
    "\n",
    "    things: list[SoundMaker] = [duck, timer]\n",
    "    for thing in things:\n",
    "        make_sound(thing)\n",
    "\n",
    "    # Does't pass type check, will result in runtime error \n",
    "    make_sound(dog)"
   ]
  },
  {
   "cell_type": "markdown",
   "metadata": {},
   "source": [
    "Now we can run `mypy` to do type checking."
   ]
  },
  {
   "cell_type": "code",
   "execution_count": 7,
   "metadata": {},
   "outputs": [
    {
     "name": "stdout",
     "output_type": "stream",
     "text": [
      "protocols_toremove.py:54: \u001b[1m\u001b[31merror:\u001b[m Argument 1 to \u001b[m\u001b[1m\"make_sound\"\u001b[m has incompatible type \u001b[m\u001b[1m\"Dog\"\u001b[m; expected \u001b[m\u001b[1m\"SoundMaker\"\u001b[m  \u001b[m\u001b[33m[arg-type]\u001b[m\n",
      "\u001b[1m\u001b[31mFound 1 error in 1 file (checked 1 source file)\u001b[m\n"
     ]
    }
   ],
   "source": [
    "!mypy protocols_toremove.py"
   ]
  },
  {
   "cell_type": "markdown",
   "metadata": {},
   "source": [
    "Indeed, running this script would result in a runtime error."
   ]
  },
  {
   "cell_type": "code",
   "execution_count": 8,
   "metadata": {},
   "outputs": [
    {
     "name": "stdout",
     "output_type": "stream",
     "text": [
      "quack\n",
      "ring\n",
      "quack\n",
      "ring\n",
      "Traceback (most recent call last):\n",
      "  File \"/home/gjb/Projects/Python-software-engineering/source-code/object-orientation/protocols_toremove.py\", line 54, in <module>\n",
      "    make_sound(dog)\n",
      "  File \"/home/gjb/Projects/Python-software-engineering/source-code/object-orientation/protocols_toremove.py\", line 38, in make_sound\n",
      "    print(stuff.make_sound())\n",
      "          ^^^^^^^^^^^^^^^^\n",
      "AttributeError: 'Dog' object has no attribute 'make_sound'\n"
     ]
    }
   ],
   "source": [
    "!python protocols_toremove.py"
   ]
  },
  {
   "cell_type": "code",
   "execution_count": 9,
   "metadata": {},
   "outputs": [],
   "source": [
    "!rm protocols_toremove.py"
   ]
  },
  {
   "cell_type": "markdown",
   "metadata": {},
   "source": [
    "# Mix-in"
   ]
  },
  {
   "cell_type": "markdown",
   "metadata": {},
   "source": [
    "If the implementation of the common functionality is the same for a number of classes, it is worth defining a mix-in class that defines the implementation.  In the examples above, the `make_sound` method implementation is identical for the `Duck` and `Computer` class. Hence we can move the implementation to its own class `SoundMake`. Note that this class has no `__init__` method, and needs none."
   ]
  },
  {
   "cell_type": "code",
   "execution_count": 10,
   "metadata": {},
   "outputs": [],
   "source": [
    "class SoundMaker:\n",
    "    \n",
    "    def make_sound(self):\n",
    "        if hasattr(self, '_sound'):\n",
    "            return self._sound\n",
    "        else:\n",
    "            raise ValueError(f'{type(self)} does not make sound')"
   ]
  },
  {
   "cell_type": "markdown",
   "metadata": {},
   "source": [
    "The `Duck`, `Timer` and `Dog` classes now inherit from `SoundMaker`, but `Dog` doesn't define its sound attribute."
   ]
  },
  {
   "cell_type": "code",
   "execution_count": 11,
   "metadata": {},
   "outputs": [],
   "source": [
    "class Duck(SoundMaker):\n",
    "       \n",
    "    _sound: str = 'quack'\n",
    "    species: str\n",
    "    \n",
    "    def __init__(self, species):\n",
    "        self.species = species"
   ]
  },
  {
   "cell_type": "code",
   "execution_count": 12,
   "metadata": {},
   "outputs": [],
   "source": [
    "class Timer(SoundMaker):\n",
    "    \n",
    "    _sound: str = 'beep'\n",
    "    time: int\n",
    "    \n",
    "    def __init__(self, time):\n",
    "        self.time = time"
   ]
  },
  {
   "cell_type": "code",
   "execution_count": 13,
   "metadata": {},
   "outputs": [],
   "source": [
    "class Dog(SoundMaker):\n",
    "    \n",
    "    name: str\n",
    "        \n",
    "    def __init__(self, name):\n",
    "        self.name = name"
   ]
  },
  {
   "cell_type": "code",
   "execution_count": 14,
   "metadata": {},
   "outputs": [],
   "source": [
    "stuff = [Duck('mandarin'), Timer(5)]"
   ]
  },
  {
   "cell_type": "code",
   "execution_count": 15,
   "metadata": {},
   "outputs": [
    {
     "name": "stdout",
     "output_type": "stream",
     "text": [
      "<class '__main__.Duck'> says quack\n",
      "<class '__main__.Timer'> says beep\n"
     ]
    }
   ],
   "source": [
    "for item in stuff:\n",
    "    print(f'{type(item)} says {item.make_sound()}')"
   ]
  },
  {
   "cell_type": "markdown",
   "metadata": {},
   "source": [
    "Since the `Dog` has no `_sound`, the mix-in method raises an exception."
   ]
  },
  {
   "cell_type": "code",
   "execution_count": 16,
   "metadata": {
    "tags": []
   },
   "outputs": [
    {
     "name": "stderr",
     "output_type": "stream",
     "text": [
      "Traceback (most recent call last):\n",
      "  File \"/tmp/ipykernel_3319/3334719555.py\", line 3, in <module>\n",
      "    print(dog.make_sound())\n",
      "          ^^^^^^^^^^^^^^^^\n",
      "  File \"/tmp/ipykernel_3319/2135747159.py\", line 7, in make_sound\n",
      "    raise ValueError(f'{type(self)} does not make sound')\n",
      "ValueError: <class '__main__.Dog'> does not make sound\n"
     ]
    }
   ],
   "source": [
    "dog = Dog('fido')\n",
    "try:\n",
    "    print(dog.make_sound())\n",
    "except ValueError as error:\n",
    "    print_exc()"
   ]
  },
  {
   "cell_type": "markdown",
   "metadata": {},
   "source": [
    "However, note that this implies a class hierarchy."
   ]
  }
 ],
 "metadata": {
  "kernelspec": {
   "display_name": "Python 3 (ipykernel)",
   "language": "python",
   "name": "python3"
  },
  "language_info": {
   "codemirror_mode": {
    "name": "ipython",
    "version": 3
   },
   "file_extension": ".py",
   "mimetype": "text/x-python",
   "name": "python",
   "nbconvert_exporter": "python",
   "pygments_lexer": "ipython3",
   "version": "3.11.4"
  }
 },
 "nbformat": 4,
 "nbformat_minor": 4
}
