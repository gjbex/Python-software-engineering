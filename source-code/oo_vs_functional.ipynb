{
 "cells": [
  {
   "cell_type": "markdown",
   "id": "intimate-probability",
   "metadata": {},
   "source": [
    "# Requirements"
   ]
  },
  {
   "cell_type": "code",
   "execution_count": 1,
   "id": "immune-newport",
   "metadata": {},
   "outputs": [],
   "source": [
    "from collections import Counter\n",
    "from functools import wraps, reduce\n",
    "import heapq\n",
    "import math\n",
    "from math import exp, floor, log\n",
    "import matplotlib.pyplot as plt\n",
    "%matplotlib inline\n",
    "import operator\n",
    "import random"
   ]
  },
  {
   "cell_type": "markdown",
   "id": "complimentary-former",
   "metadata": {},
   "source": [
    "# Descriptive statistics"
   ]
  },
  {
   "cell_type": "markdown",
   "id": "careful-satellite",
   "metadata": {},
   "source": [
    "## Problem setting"
   ]
  },
  {
   "cell_type": "markdown",
   "id": "fitting-scout",
   "metadata": {},
   "source": [
    "Computing descriptive statistics scch as the mean and standard deviation is of course quite easy for data values $x_I$ where $i \\in \\[1, N\\]$.  The mean value $\\mu$ is given by:\n",
    "$$\n",
    "    \\mu = \\frac{1}{N} \\sum_{i=1}^{N} x_i\n",
    "$$\n",
    "The standard deviation $\\sigma$ is given by:\n",
    "$$\n",
    "    \\sigma = \\sqrt{\\frac{1}{N - 1} \\sum_{i=1}^{N} (x_i - \\mu)^2}\n",
    "$$\n",
    "However, how to compute these quantities when you can not store the actual data values?  The values come in a stream and you don't know how many will arrive in total.  Also, the number of data values may be too large to store in your computers memory.  Waht can you do?\n",
    "\n",
    "In fact, this is not hard.  Once you realize that you need to keep track of three quantities, i.e.,\n",
    "1. the number of data values so far;\n",
    "1. the sum of those data values; and\n",
    "1. the sum of the squares of those data values..\n",
    "\n",
    "It is trivial to see that the mean can be computed from the number of data values and their sum, and a little algebra will convinece you that all three quantities allow you to compute the standard deviation."
   ]
  },
  {
   "cell_type": "markdown",
   "id": "noted-velvet",
   "metadata": {},
   "source": [
    "We will consider three scenarios, the first based on objects, the second on coroutines, and the third purely functional."
   ]
  },
  {
   "cell_type": "markdown",
   "id": "formal-financing",
   "metadata": {},
   "source": [
    "## Object-oriented approach"
   ]
  },
  {
   "cell_type": "markdown",
   "id": "worldwide-schedule",
   "metadata": {},
   "source": [
    "We define a class with three attributes, the quantities we need to keep trakc of.  The constructor initializes these quantities.  A method `add` will update these three quantities each time a data value arrives, and three accessors methods allow us to access the number of values, the mean and the standard deviation.  For convenience, the latter three methods are properties."
   ]
  },
  {
   "cell_type": "code",
   "execution_count": 2,
   "id": "magnetic-neighborhood",
   "metadata": {},
   "outputs": [],
   "source": [
    "class Stats:\n",
    "    '''class to compute descriptive statistics on streaming data\n",
    "    \n",
    "    Example\n",
    "    -------\n",
    "    stats = Stats()\n",
    "    for value in range(1, 6):\n",
    "        stats.add(value)\n",
    "    print(stats.n, stats.mean, stats.stddev)\n",
    "    '''\n",
    "    \n",
    "    def __init__(self):\n",
    "        '''constructor for Stats class'''\n",
    "        self._n = 0\n",
    "        self._sum = 0.0\n",
    "        self._sum2 = 0.0\n",
    "        \n",
    "    def add(self, value):\n",
    "        '''add a value to the statistics\n",
    "        \n",
    "        Parameters\n",
    "        ----------\n",
    "        value : float\n",
    "            value to add\n",
    "        '''\n",
    "        self._n += 1\n",
    "        self._sum += value\n",
    "        self._sum2 += value**2\n",
    "        \n",
    "    @property\n",
    "    def n(self):\n",
    "        '''accessor for the number of values\n",
    "        \n",
    "        Returns\n",
    "        -------\n",
    "        int\n",
    "            number of values added to the statistics\n",
    "        '''\n",
    "        return self._n\n",
    "    \n",
    "    @property\n",
    "    def mean(self):\n",
    "        '''current mean value based on added data\n",
    "        \n",
    "        Returns\n",
    "        -------\n",
    "        float\n",
    "            current mean value, None if no data values were added\n",
    "        '''\n",
    "        if self.n > 0:\n",
    "            return self._sum/self.n\n",
    "    \n",
    "    @property\n",
    "    def stddev(self):\n",
    "        '''current standard deviation based on added data\n",
    "        \n",
    "        Returns\n",
    "        -------\n",
    "        float\n",
    "            current standard deviation, None if less than two data values'''\n",
    "        if self.n > 1:\n",
    "            return math.sqrt((self._sum2 - self._sum**2/self.n)/(self.n - 1))\n",
    "        \n",
    "    def __repr__(self):\n",
    "        '''return a texutal representation of the object\n",
    "        \n",
    "        Returns\n",
    "        -------\n",
    "        str\n",
    "            string representation of the object\n",
    "        '''\n",
    "        if self.n == 0:\n",
    "            return f'mean = N/A, stddev = N/A, n = {self.n}'\n",
    "        elif self.n == 1:\n",
    "            return f'mean = {self.mean}, stddev = N/A, n = {self.n}'\n",
    "        else:\n",
    "            return f'mean = {self.mean}, stddev = {self.stddev}, n = {self.n}'"
   ]
  },
  {
   "cell_type": "markdown",
   "id": "attended-newark",
   "metadata": {},
   "source": [
    "By way of test, compute the statistics for the numbers 1 thourgh 5."
   ]
  },
  {
   "cell_type": "code",
   "execution_count": 3,
   "id": "advanced-milton",
   "metadata": {},
   "outputs": [
    {
     "name": "stdout",
     "output_type": "stream",
     "text": [
      "0 None None\n",
      "mean = 1.0, stddev = N/A, n = 1\n",
      "mean = 1.5, stddev = 0.7071067811865476, n = 2\n",
      "mean = 2.0, stddev = 1.0, n = 3\n",
      "mean = 2.5, stddev = 1.2909944487358056, n = 4\n",
      "mean = 3.0, stddev = 1.5811388300841898, n = 5\n"
     ]
    }
   ],
   "source": [
    "stats = Stats()\n",
    "print(stats.n, stats.mean, stats.stddev)\n",
    "for value in range(1, 6):\n",
    "    stats.add(value)\n",
    "    print(stats)"
   ]
  },
  {
   "cell_type": "markdown",
   "id": "competent-retention",
   "metadata": {},
   "source": [
    "We can easily handle multiple data streams.  For instance, wee can compute statistics of odd and even numbers separately."
   ]
  },
  {
   "cell_type": "code",
   "execution_count": 4,
   "id": "hourly-forest",
   "metadata": {},
   "outputs": [
    {
     "name": "stdout",
     "output_type": "stream",
     "text": [
      "odd stats  ->  mean = 1.0, stddev = N/A, n = 1\n",
      "even stats ->  mean = N/A, stddev = N/A, n = 0\n",
      "odd stats  ->  mean = 1.0, stddev = N/A, n = 1\n",
      "even stats ->  mean = 2.0, stddev = N/A, n = 1\n",
      "odd stats  ->  mean = 2.0, stddev = 1.4142135623730951, n = 2\n",
      "even stats ->  mean = 2.0, stddev = N/A, n = 1\n",
      "odd stats  ->  mean = 2.0, stddev = 1.4142135623730951, n = 2\n",
      "even stats ->  mean = 3.0, stddev = 1.4142135623730951, n = 2\n",
      "odd stats  ->  mean = 3.0, stddev = 2.0, n = 3\n",
      "even stats ->  mean = 3.0, stddev = 1.4142135623730951, n = 2\n",
      "odd stats  ->  mean = 3.0, stddev = 2.0, n = 3\n",
      "even stats ->  mean = 4.0, stddev = 2.0, n = 3\n",
      "odd stats  ->  mean = 4.0, stddev = 2.581988897471611, n = 4\n",
      "even stats ->  mean = 4.0, stddev = 2.0, n = 3\n"
     ]
    }
   ],
   "source": [
    "odd_stats, even_stats = Stats(), Stats()\n",
    "for value in range(1, 8):\n",
    "    if value % 2 == 0:\n",
    "        even_stats.add(value)\n",
    "    else:\n",
    "        odd_stats.add(value)\n",
    "    print('odd stats  -> ', odd_stats)\n",
    "    print('even stats -> ', even_stats)"
   ]
  },
  {
   "cell_type": "markdown",
   "id": "textile-fundamental",
   "metadata": {},
   "source": [
    "## Coroutines"
   ]
  },
  {
   "cell_type": "markdown",
   "id": "essential-adoption",
   "metadata": {},
   "source": [
    "A coroutine is a generalization of a function.  Once it is called, and can suspend its execution and wait for additional values.  In Python, this is achieved using the `yield` keyword.\n",
    "\n",
    "The function below initializes the quantities we need to keep track of, and then runs an infinite loop and yields in each iteration to await a new value.  When it receives a value, it updates the three quantities.  When no more values are passed in, a `GeneratorExit` exception is raised, and we store the number of values, mean and standard deviation in the dictionary we passed to the function as an argument."
   ]
  },
  {
   "cell_type": "code",
   "execution_count": 5,
   "id": "unlimited-genome",
   "metadata": {},
   "outputs": [],
   "source": [
    "def create_coro_stats(stats):\n",
    "    '''create a coroutine that keeps track of descriptive\n",
    "    statistics of a data stream\n",
    "    \n",
    "    Parameters\n",
    "    ----------\n",
    "    stats : dict\n",
    "        dictrionary that will hold the statistics, i.e., number of values,\n",
    "        mean and standard deviation.  The dictionary will contain None for\n",
    "        the mean and standard deviation if not enough values were send to\n",
    "        the statistics coroutine.\n",
    "        \n",
    "    Example\n",
    "    -------\n",
    "    stats_dict = dict()\n",
    "    stats = make_stats(stats_dict)\n",
    "    for value in range(1, 6):\n",
    "        stats.send()\n",
    "    stats.close()\n",
    "    '''\n",
    "\n",
    "    n, val_sum, val_sum2 = 0, 0.0, 0.0\n",
    "    try:\n",
    "        while True:\n",
    "            value = (yield)\n",
    "            n += 1\n",
    "            val_sum += value\n",
    "            val_sum2 += value**2\n",
    "    except GeneratorExit:\n",
    "        stats['n'] = n\n",
    "        stats['mean'] = val_sum/n if n > 0 else None\n",
    "        stats['stddev'] = math.sqrt((val_sum2 - val_sum**2/n)/(n - 1)) if n > 1 else None"
   ]
  },
  {
   "cell_type": "markdown",
   "id": "minus-swing",
   "metadata": {},
   "source": [
    "Using this is a bit tedious, but we will simplify that later on.\n",
    "\n",
    "First we create and empty dictionary that will be passed to `create_stats` and call the function.  This results in a coroutine stored in the variable `statts`.  We \"start\" the coroutine by invoking Python's `next` function on it.  The function will suspend in the line with yield to wait for input.  The input is provided by calling the `send` method on it, with the new value as argument.\n",
    "\n",
    "When all values are sent to the function, we invoke the `close` method which generates the `GeneratorExit` exception, and the coroutine finishes off by populating the dictionary."
   ]
  },
  {
   "cell_type": "code",
   "execution_count": 6,
   "id": "affiliated-blanket",
   "metadata": {},
   "outputs": [
    {
     "name": "stdout",
     "output_type": "stream",
     "text": [
      "{'n': 5, 'mean': 3.0, 'stddev': 1.5811388300841898}\n"
     ]
    }
   ],
   "source": [
    "stats_dict = dict()\n",
    "stats = create_coro_stats(stats_dict)\n",
    "next(stats)\n",
    "for value in range(1, 6):\n",
    "    stats.send(value)\n",
    "result = stats.close()\n",
    "print(stats_dict)"
   ]
  },
  {
   "cell_type": "markdown",
   "id": "tired-constitution",
   "metadata": {},
   "source": [
    "Although this is cute, having to call `next` is a bit of an inconvenience.  However, this can easily be overcome by defining a decorator.\n",
    "\n",
    "A decorator is a function that wraps aournd another function so that that it can do one or more of\n",
    "1. provide context;\n",
    "1. do preprocessing; and/or\n",
    "1. do postprocessing.\n",
    "\n",
    "The decorator below takes the function that will be the coroutine as an argument, and it returns a wrapper that will create and \"start\" the coroutine, and finally return the latter.  The function `make_stats` is essentially the same as before, except that\n",
    "1. it is wrapped using the `coroutine` decorator and\n",
    "1. it updates the dictionary passed to it as soon as a new value is passed in to mimic the class' behavior we defined previously."
   ]
  },
  {
   "cell_type": "code",
   "execution_count": 7,
   "id": "abandoned-particle",
   "metadata": {},
   "outputs": [],
   "source": [
    "def coroutine(func):\n",
    "    '''decorqtor to create and \"start\" a coroutine\n",
    "    \n",
    "    Example\n",
    "    -------\n",
    "    @coroutine\n",
    "    def my_coroutine(a, b, c, d=17)\n",
    "        ...\n",
    "    '''\n",
    "    @wraps(func)\n",
    "    def start(*args, **kwargs):\n",
    "        routine = func(*args, **kwargs)\n",
    "        next(routine)\n",
    "        return routine\n",
    "    return start\n",
    "\n",
    "@coroutine\n",
    "def create_coro_stats(stats):\n",
    "    '''create a coroutine that keeps track of descriptive\n",
    "    statistics of a data stream\n",
    "    \n",
    "    Parameters\n",
    "    ----------\n",
    "    stats : dict\n",
    "        dictrionary that will hold the statistics, i.e., number of values,\n",
    "        mean and standard deviation.  The dictionary will contain None for\n",
    "        the mean and standard deviation if not enough values were send to\n",
    "        the statistics coroutine.\n",
    "        \n",
    "    Example\n",
    "    -------\n",
    "    stats_dict = dict()\n",
    "    stats = make_stats(stats_dict)\n",
    "    for value in range(1, 6):\n",
    "        stats.send()\n",
    "    stats.close()\n",
    "    '''\n",
    "    n, val_sum, val_sum2 = 0, 0.0, 0.0\n",
    "    stats['n'] = n\n",
    "    try:\n",
    "        while True:\n",
    "            value = (yield)\n",
    "            n += 1\n",
    "            val_sum += value\n",
    "            val_sum2 += value**2\n",
    "            stats['n'] = n\n",
    "            stats['mean'] = val_sum/n\n",
    "            if n > 1:\n",
    "                stats['stddev'] = math.sqrt((val_sum2 - val_sum**2/n)/(n - 1))\n",
    "    except GeneratorExit:\n",
    "        pass"
   ]
  },
  {
   "cell_type": "markdown",
   "id": "floating-nelson",
   "metadata": {},
   "source": [
    "Using the coroutine is now more natural since the decorator has taken care of the creation and start of the coroutine."
   ]
  },
  {
   "cell_type": "code",
   "execution_count": 8,
   "id": "opposed-carbon",
   "metadata": {},
   "outputs": [
    {
     "name": "stdout",
     "output_type": "stream",
     "text": [
      "{'n': 0}\n",
      "{'n': 1, 'mean': 1.0}\n",
      "{'n': 2, 'mean': 1.5, 'stddev': 0.7071067811865476}\n",
      "{'n': 3, 'mean': 2.0, 'stddev': 1.0}\n",
      "{'n': 4, 'mean': 2.5, 'stddev': 1.2909944487358056}\n",
      "{'n': 5, 'mean': 3.0, 'stddev': 1.5811388300841898}\n"
     ]
    }
   ],
   "source": [
    "stats_dict = dict()\n",
    "stats = create_coro_stats(stats_dict)\n",
    "print(stats_dict)\n",
    "for value in range(1, 6):\n",
    "    stats.send(value)\n",
    "    print(stats_dict)\n",
    "stats.close()"
   ]
  },
  {
   "cell_type": "markdown",
   "id": "sound-forty",
   "metadata": {},
   "source": [
    "You may have noted the `@wraps` decorator in the definition of the decorator `coroutine`.  This is useful to ensure that the docstring of the the wrapped funciton is shown correctly, as you can see below."
   ]
  },
  {
   "cell_type": "code",
   "execution_count": 9,
   "id": "previous-cornell",
   "metadata": {},
   "outputs": [
    {
     "name": "stdout",
     "output_type": "stream",
     "text": [
      "Help on function create_coro_stats in module __main__:\n",
      "\n",
      "create_coro_stats(stats)\n",
      "    create a coroutine that keeps track of descriptive\n",
      "    statistics of a data stream\n",
      "    \n",
      "    Params\n",
      "    ------\n",
      "    stats : dict\n",
      "        dictrionary that will hold the statistics, i.e., number of values,\n",
      "        mean and standard deviation.  The dictionary will contain None for\n",
      "        the mean and standard deviation if not enough values were send to\n",
      "        the statistics coroutine.\n",
      "        \n",
      "    Example\n",
      "    -------\n",
      "    stats_dict = dict()\n",
      "    stats = make_stats(stats_dict)\n",
      "    for value in range(1, 6):\n",
      "        stats.send()\n",
      "    stats.close()\n",
      "\n"
     ]
    }
   ],
   "source": [
    "help(create_coro_stats)"
   ]
  },
  {
   "cell_type": "markdown",
   "id": "bored-tunnel",
   "metadata": {},
   "source": [
    "As in the object oriented approach, we can easily handle multiple data streams with coroutines as well.  For instance, wee can compute statistics of odd and even numbers separately."
   ]
  },
  {
   "cell_type": "code",
   "execution_count": 10,
   "id": "fuzzy-georgia",
   "metadata": {},
   "outputs": [
    {
     "name": "stdout",
     "output_type": "stream",
     "text": [
      "odd stats  ->  {'n': 1, 'mean': 1.0}\n",
      "even stats ->  {'n': 0}\n",
      "odd stats  ->  {'n': 1, 'mean': 1.0}\n",
      "even stats ->  {'n': 1, 'mean': 2.0}\n",
      "odd stats  ->  {'n': 2, 'mean': 2.0, 'stddev': 1.4142135623730951}\n",
      "even stats ->  {'n': 1, 'mean': 2.0}\n",
      "odd stats  ->  {'n': 2, 'mean': 2.0, 'stddev': 1.4142135623730951}\n",
      "even stats ->  {'n': 2, 'mean': 3.0, 'stddev': 1.4142135623730951}\n",
      "odd stats  ->  {'n': 3, 'mean': 3.0, 'stddev': 2.0}\n",
      "even stats ->  {'n': 2, 'mean': 3.0, 'stddev': 1.4142135623730951}\n",
      "odd stats  ->  {'n': 3, 'mean': 3.0, 'stddev': 2.0}\n",
      "even stats ->  {'n': 3, 'mean': 4.0, 'stddev': 2.0}\n",
      "odd stats  ->  {'n': 4, 'mean': 4.0, 'stddev': 2.581988897471611}\n",
      "even stats ->  {'n': 3, 'mean': 4.0, 'stddev': 2.0}\n"
     ]
    }
   ],
   "source": [
    "odd_stats_dict, even_stats_dict = dict(), dict()\n",
    "odd_stats, even_stats = create_coro_stats(odd_stats_dict), create_coro_stats(even_stats_dict)\n",
    "for value in range(1, 8):\n",
    "    if value % 2 == 0:\n",
    "        even_stats.send(value)\n",
    "    else:\n",
    "        odd_stats.send(value)\n",
    "    print('odd stats  -> ', odd_stats_dict)\n",
    "    print('even stats -> ', even_stats_dict)\n",
    "odd_stats.close()\n",
    "even_stats.close()"
   ]
  },
  {
   "cell_type": "markdown",
   "id": "religious-mechanism",
   "metadata": {},
   "source": [
    "Although this looks somewhat like a functional approach, it is not.  The dictionary that is passed in when creating the coroutine is modified, so this is a side-effect, and hence not purely functional."
   ]
  },
  {
   "cell_type": "markdown",
   "id": "surgical-income",
   "metadata": {},
   "source": [
    "## Functional approach"
   ]
  },
  {
   "cell_type": "markdown",
   "id": "vital-amplifier",
   "metadata": {},
   "source": [
    "The decorators `coroutine` and `warps` that were used in the previous section are examples of higher-order functions, i.e., functions that\n",
    "1. have functions as arguments (boring...) and/or\n",
    "1. return functions.\n",
    "\n",
    "Can we use functions that return functions to compute descriptive statistics on data streams?  Yes, we can."
   ]
  },
  {
   "cell_type": "code",
   "execution_count": 11,
   "id": "norwegian-month",
   "metadata": {},
   "outputs": [],
   "source": [
    "def create_functional_stats():\n",
    "    '''create a function to compute descritive statistics on data streams\n",
    "    \n",
    "    Example\n",
    "    -------\n",
    "    stats = create_functional_stats()\n",
    "    for value in range(1, 6):\n",
    "        n, mean, stddev = stats(value)\n",
    "    '''\n",
    "    n, val_sum, val_sum2 = 0, 0.0, 0.0\n",
    "    \n",
    "    def stats_func(value):\n",
    "        nonlocal n, val_sum, val_sum2\n",
    "        n += 1\n",
    "        val_sum += value\n",
    "        val_sum2 += value**2\n",
    "        return n, val_sum/n if n > 0 else None , math.sqrt((val_sum2 - val_sum**2/n)/(n - 1)) if n > 1 else None\n",
    "    \n",
    "    return stats_func"
   ]
  },
  {
   "cell_type": "markdown",
   "id": "understood-constant",
   "metadata": {},
   "source": [
    "The function  `create_functional_stats` provides the context for `stats_func` that uses the variables `n`, `val_sum` and `val_sum2` in its enclosing scope to store the current state.  Each call to the function will update the state appropriately."
   ]
  },
  {
   "cell_type": "code",
   "execution_count": 12,
   "id": "neutral-gabriel",
   "metadata": {},
   "outputs": [
    {
     "name": "stdout",
     "output_type": "stream",
     "text": [
      "(1, 1.0, None)\n",
      "(2, 1.5, 0.7071067811865476)\n",
      "(3, 2.0, 1.0)\n",
      "(4, 2.5, 1.2909944487358056)\n",
      "(5, 3.0, 1.5811388300841898)\n",
      "(6, 3.5, 1.8708286933869707)\n",
      "(7, 4.0, 2.160246899469287)\n"
     ]
    }
   ],
   "source": [
    "stats = create_functional_stats()\n",
    "for value in range(1, 8):\n",
    "    print(stats(value))"
   ]
  },
  {
   "cell_type": "markdown",
   "id": "thick-diversity",
   "metadata": {},
   "source": [
    "And again, we can easily handle multiple data streams.  For instance, wee can compute statistics of odd and even numbers separately."
   ]
  },
  {
   "cell_type": "code",
   "execution_count": 13,
   "id": "welsh-mineral",
   "metadata": {},
   "outputs": [
    {
     "name": "stdout",
     "output_type": "stream",
     "text": [
      "odd stats  ->  (1, 1.0, None)\n",
      "even stats ->  (1, 2.0, None)\n",
      "odd stats  ->  (2, 2.0, 1.4142135623730951)\n",
      "even stats ->  (2, 3.0, 1.4142135623730951)\n",
      "odd stats  ->  (3, 3.0, 2.0)\n",
      "even stats ->  (3, 4.0, 2.0)\n",
      "odd stats  ->  (4, 4.0, 2.581988897471611)\n"
     ]
    }
   ],
   "source": [
    "odd_stats, even_stats = create_functional_stats(), create_functional_stats()\n",
    "for value in range(1, 8):\n",
    "    if value % 2 == 0:\n",
    "        print('even stats -> ', even_stats(value))\n",
    "    else:\n",
    "        print('odd stats  -> ', odd_stats(value))"
   ]
  },
  {
   "cell_type": "markdown",
   "id": "0383b8ab-1820-4b47-a40b-3a26a42dbd67",
   "metadata": {},
   "source": [
    "But is this really a functional approach?  Strictly speaking, no.  Functional programming is supposed to be side-effect free, but our function in fact has state that evolves over time.\n",
    "\n",
    "The following class forms the basis for a real functional implementation."
   ]
  },
  {
   "cell_type": "code",
   "execution_count": 14,
   "id": "5e97514c-d7a6-4b24-aec0-b78d261ad09b",
   "metadata": {},
   "outputs": [],
   "source": [
    "class FunctionalStats:\n",
    "    \n",
    "    def __init__(self, sum_value: float=0.0, sum2: float=0.0, n: int=0):\n",
    "        '''constructor for Stats objects\n",
    "        \n",
    "        Parameters\n",
    "        ----------\n",
    "        Either none, which initializes an object that has seen no data yet, or\n",
    "        \n",
    "        sum_value: float\n",
    "            the sum of the values up to this point\n",
    "        sum2: float\n",
    "            the sum of the squares of the values up to this point\n",
    "        n: int\n",
    "            the number of values up to this point\n",
    "        '''\n",
    "        self._sum = sum_value\n",
    "        self._sum2 = sum2\n",
    "        self._n = n\n",
    "        \n",
    "    @property\n",
    "    def n(self):\n",
    "        '''Number of values seen by this object\n",
    "        \n",
    "        Returns\n",
    "        -------\n",
    "        int\n",
    "            number of data values seen so far\n",
    "        '''\n",
    "        return self._n\n",
    "    \n",
    "    @property\n",
    "    def mean(self):\n",
    "        '''Mean value of the data values seen so far\n",
    "        \n",
    "        Returns\n",
    "        -------\n",
    "        float\n",
    "            mean value\n",
    "            \n",
    "        Raises\n",
    "        ------\n",
    "        ValueError\n",
    "            Exception when the number of values is less than 1\n",
    "        '''\n",
    "        if self._n < 1:\n",
    "            raise ValueError('at least one data value required for mean')\n",
    "        return self._sum/self._n\n",
    "    \n",
    "    @property\n",
    "    def stddev(self):\n",
    "        '''Standard deviation of the data values seen so far\n",
    "        \n",
    "        Returns\n",
    "        -------\n",
    "        float\n",
    "            standard deviation\n",
    "\n",
    "        Raises\n",
    "        ------\n",
    "        ValueError\n",
    "            Exception when the number of values is less than 1\n",
    "            \n",
    "        '''\n",
    "        if self._n < 2:\n",
    "            raise ValueError('at least two data values required for standard deviation')\n",
    "        return math.sqrt((self._sum2 - self._sum**2/self._n)/(self._n - 1))\n",
    "    \n",
    "    def __add__(self, value: float):\n",
    "        '''functional operator, creates a new Stats object when a value is added\n",
    "           called as stats + value\n",
    "        \n",
    "        Parameters\n",
    "        ----------\n",
    "        value: float\n",
    "            new data value to be added to the statistics\n",
    "            \n",
    "        Returns\n",
    "        -------\n",
    "        Stats\n",
    "            a new Stats object that includes the value just added\n",
    "        '''\n",
    "        return FunctionalStats(sum_value=self._sum + value, sum2=self._sum2 + value**2, n=self._n + 1)\n",
    "    \n",
    "    def __iadd__(self, value: float):\n",
    "        '''non-functional operator, updates the Stats object when a value is added\n",
    "        \n",
    "        Parameters\n",
    "        ----------\n",
    "        value: float\n",
    "            new data value to be added to the statistics\n",
    "            \n",
    "        Returns\n",
    "        -------\n",
    "        Stats\n",
    "            updated Stats object including the value just added, called as\n",
    "            stats += value\n",
    "        '''\n",
    "        self._sum += value\n",
    "        self._sum2 += value**2\n",
    "        self._n += 1\n",
    "        return self\n",
    "        \n",
    "    def __repr__(self):\n",
    "        '''return a texutal representation of the object\n",
    "        \n",
    "        Returns\n",
    "        -------\n",
    "        str\n",
    "            string representation of the object\n",
    "        '''\n",
    "        if self.n == 0:\n",
    "            return f'mean = N/A, stddev = N/A, n = {self.n}'\n",
    "        elif self.n == 1:\n",
    "            return f'mean = {self.mean}, stddev = N/A, n = {self.n}'\n",
    "        else:\n",
    "            return f'mean = {self.mean}, stddev = {self.stddev}, n = {self.n}'"
   ]
  },
  {
   "cell_type": "markdown",
   "id": "ca890ab0-ac7c-4bac-ad88-5bf35b3de271",
   "metadata": {},
   "source": [
    "To illustrate that using the `+` operator is truly side-effect free, we can sotre all the intermediate objects n a list, and print them when done."
   ]
  },
  {
   "cell_type": "code",
   "execution_count": 15,
   "id": "6ec62835-ec1b-42e7-980b-dabc1efb16a4",
   "metadata": {},
   "outputs": [],
   "source": [
    "values = [3.1, 5.2, 7.3]"
   ]
  },
  {
   "cell_type": "code",
   "execution_count": 16,
   "id": "54875dc7-5af3-4346-89da-ccd797ca1b44",
   "metadata": {},
   "outputs": [],
   "source": [
    "all_stats = [FunctionalStats()]\n",
    "for value in values:\n",
    "    all_stats.append(all_stats[-1] + value)"
   ]
  },
  {
   "cell_type": "code",
   "execution_count": 17,
   "id": "e8adc830-7e6f-4521-af07-776e7a03f6c3",
   "metadata": {},
   "outputs": [
    {
     "name": "stdout",
     "output_type": "stream",
     "text": [
      "mean = N/A, stddev = N/A, n = 0\n",
      "mean = 3.1, stddev = N/A, n = 1\n",
      "mean = 4.15, stddev = 1.4849242404917493, n = 2\n",
      "mean = 5.2, stddev = 2.0999999999999974, n = 3\n"
     ]
    }
   ],
   "source": [
    "for stats in all_stats:\n",
    "    print(stats)"
   ]
  },
  {
   "cell_type": "markdown",
   "id": "4aff29b4-fdbe-409d-b80e-f113caff6d45",
   "metadata": {},
   "source": [
    "On the other hand, using the `+=` operator which is non-functional shows that indeed the object is updated."
   ]
  },
  {
   "cell_type": "code",
   "execution_count": 18,
   "id": "e5c939ec-5afa-47c4-bb6d-bd3fc218a061",
   "metadata": {},
   "outputs": [],
   "source": [
    "all_stats = [FunctionalStats()]\n",
    "for value in values:\n",
    "    stats = all_stats[-1]\n",
    "    stats += value\n",
    "    all_stats.append(stats)"
   ]
  },
  {
   "cell_type": "code",
   "execution_count": 19,
   "id": "ff7fa2db-e6a8-4fe0-b396-aa22e92dd721",
   "metadata": {},
   "outputs": [
    {
     "name": "stdout",
     "output_type": "stream",
     "text": [
      "mean = 5.2, stddev = 2.0999999999999974, n = 3\n",
      "mean = 5.2, stddev = 2.0999999999999974, n = 3\n",
      "mean = 5.2, stddev = 2.0999999999999974, n = 3\n",
      "mean = 5.2, stddev = 2.0999999999999974, n = 3\n"
     ]
    }
   ],
   "source": [
    "for stats in all_stats:\n",
    "    print(stats)"
   ]
  },
  {
   "cell_type": "markdown",
   "id": "18c8630e-9006-4c2b-aaa0-37468bfc57ae",
   "metadata": {},
   "source": [
    "Note that is now trivial to use this `Stats` object in a reduction."
   ]
  },
  {
   "cell_type": "code",
   "execution_count": 20,
   "id": "dae60959-7900-49dd-81f3-e38f4f607a78",
   "metadata": {},
   "outputs": [
    {
     "data": {
      "text/plain": [
       "mean = 5.2, stddev = 2.0999999999999974, n = 3"
      ]
     },
     "execution_count": 20,
     "metadata": {},
     "output_type": "execute_result"
    }
   ],
   "source": [
    "reduce(operator.add, values, FunctionalStats())"
   ]
  },
  {
   "cell_type": "markdown",
   "id": "chief-monkey",
   "metadata": {},
   "source": [
    "## Performance"
   ]
  },
  {
   "cell_type": "markdown",
   "id": "harmful-bailey",
   "metadata": {},
   "source": [
    "Is there a performance difference between the three implementations?"
   ]
  },
  {
   "cell_type": "code",
   "execution_count": 21,
   "id": "packed-marijuana",
   "metadata": {},
   "outputs": [],
   "source": [
    "values = [random.random() for _ in range(1_000_000)]"
   ]
  },
  {
   "cell_type": "code",
   "execution_count": 22,
   "id": "ongoing-showcase",
   "metadata": {},
   "outputs": [
    {
     "name": "stdout",
     "output_type": "stream",
     "text": [
      "304 ms ± 11.3 ms per loop (mean ± std. dev. of 7 runs, 1 loop each)\n"
     ]
    }
   ],
   "source": [
    "%%timeit\n",
    "stats = Stats()\n",
    "for value in values:\n",
    "    stats.add(value)"
   ]
  },
  {
   "cell_type": "code",
   "execution_count": 23,
   "id": "bridal-sender",
   "metadata": {},
   "outputs": [
    {
     "name": "stdout",
     "output_type": "stream",
     "text": [
      "516 ms ± 10.2 ms per loop (mean ± std. dev. of 7 runs, 1 loop each)\n"
     ]
    }
   ],
   "source": [
    "%%timeit\n",
    "stats_dict = dict()\n",
    "stats = create_coro_stats(stats_dict)\n",
    "for value in values:\n",
    "    stats.send(value)\n",
    "stats.close()"
   ]
  },
  {
   "cell_type": "code",
   "execution_count": 24,
   "id": "fabulous-standard",
   "metadata": {},
   "outputs": [
    {
     "name": "stdout",
     "output_type": "stream",
     "text": [
      "373 ms ± 1.39 ms per loop (mean ± std. dev. of 7 runs, 1 loop each)\n"
     ]
    }
   ],
   "source": [
    "%%timeit\n",
    "stats = create_functional_stats()\n",
    "for value in values:\n",
    "    stats(value)"
   ]
  },
  {
   "cell_type": "code",
   "execution_count": 25,
   "id": "551b9dce-5f8b-41dc-9e1a-e4ac604d770a",
   "metadata": {},
   "outputs": [
    {
     "name": "stdout",
     "output_type": "stream",
     "text": [
      "465 ms ± 3.52 ms per loop (mean ± std. dev. of 7 runs, 1 loop each)\n"
     ]
    }
   ],
   "source": [
    "%%timeit\n",
    "stats = FunctionalStats()\n",
    "for value in values:\n",
    "    stats = stats + value"
   ]
  },
  {
   "cell_type": "code",
   "execution_count": 26,
   "id": "2511caf8-d7cb-4990-9cd9-03c360528644",
   "metadata": {},
   "outputs": [
    {
     "name": "stdout",
     "output_type": "stream",
     "text": [
      "456 ms ± 4.62 ms per loop (mean ± std. dev. of 7 runs, 1 loop each)\n"
     ]
    }
   ],
   "source": [
    "%timeit reduce(operator.add, values, FunctionalStats())"
   ]
  },
  {
   "cell_type": "code",
   "execution_count": 27,
   "id": "c8edc1e2-cac5-4f15-a688-fd9cbff918f0",
   "metadata": {},
   "outputs": [
    {
     "name": "stdout",
     "output_type": "stream",
     "text": [
      "315 ms ± 4.28 ms per loop (mean ± std. dev. of 7 runs, 1 loop each)\n"
     ]
    }
   ],
   "source": [
    "%%timeit\n",
    "stats = FunctionalStats()\n",
    "for value in values:\n",
    "    stats += value"
   ]
  },
  {
   "cell_type": "code",
   "execution_count": 28,
   "id": "31ffb758-5e03-40d3-85e6-313e7ec8cc17",
   "metadata": {},
   "outputs": [
    {
     "name": "stdout",
     "output_type": "stream",
     "text": [
      "303 ms ± 12.3 ms per loop (mean ± std. dev. of 7 runs, 1 loop each)\n"
     ]
    }
   ],
   "source": [
    "%timeit reduce(operator.iadd, values, FunctionalStats())"
   ]
  },
  {
   "cell_type": "markdown",
   "id": "greatest-ambassador",
   "metadata": {},
   "source": [
    "## Conclusion"
   ]
  },
  {
   "cell_type": "markdown",
   "id": "182b3e62-9778-4efa-b870-a1f3a66196d8",
   "metadata": {},
   "source": [
    "It is immediately clear that the \"not really\" funcitonal approach is ridiculously easy, once you wrap your head around it.  Up to that time, the object oriented approach might be more intuitive.\n",
    "\n",
    "The true functional approach is definitely the slowest verion by some margin, but it is of course the cleanest since it is side-effect free.\n",
    "\n",
    "Coroutines seems the hardest to do, although they are intuitevely easy to understand, the mechanics to get them to work are somewhat cumbersome.  However, they have nice applications when creating data pipelines.\n",
    "\n",
    "The object oriented approach has a better performance, but only by 5 %.\n",
    "\n",
    "Overloading the `+=` operator gives the best performance by quite some margin."
   ]
  },
  {
   "cell_type": "markdown",
   "id": "approximate-silence",
   "metadata": {},
   "source": [
    "# Median"
   ]
  },
  {
   "cell_type": "markdown",
   "id": "shared-cooking",
   "metadata": {},
   "source": [
    "To compute the median, you need access to all data values simultaneously, so there are memory restrictions to what can be done.  However, computing a running meidan is a quite intesting problem.  For a list of values $x_i$ for $i \\in [1, N]$, sort the list.  The median is defined as\n",
    "1. the middle element if $N$ is odd,\n",
    "1. the average of the two middle elements when $N$ is even."
   ]
  },
  {
   "attachments": {
    "3edf56a0-678d-4be8-a397-965c6cb39569.png": {
     "image/png": "[encoded data removed]"
    }
   },
   "cell_type": "markdown",
   "id": "liable-fancy",
   "metadata": {},
   "source": [
    "The idea is to split the data into two groups, those values less than the current median (small), and those larger than or equal to that value (large).  To compute the median we need:\n",
    "* the maximum of the small values,\n",
    "* the minimum of the large set, or\n",
    "* both.\n",
    "\n",
    "So we need a data structure that makes it easy (i.e., cheap) to obtain the minimum value, and that is reasonably cheap to update.  A heap is very suited to this.\n",
    "\n",
    "![heaps.png](attachment:3edf56a0-678d-4be8-a397-965c6cb39569.png)\n",
    "\n",
    "The code below illustrates the use of the `heapq` module to build up a heap."
   ]
  },
  {
   "cell_type": "code",
   "execution_count": 29,
   "id": "annual-preference",
   "metadata": {},
   "outputs": [
    {
     "name": "stdout",
     "output_type": "stream",
     "text": [
      "[7]\n",
      "[7, 8]\n",
      "[5, 8, 7]\n",
      "[3, 5, 7, 8]\n",
      "[1, 3, 7, 8, 5]\n",
      "[1, 3, 2, 8, 5, 7]\n",
      "[1, 3, 2, 8, 5, 7, 9]\n",
      "[1, 3, 2, 4, 5, 7, 9, 8]\n"
     ]
    }
   ],
   "source": [
    "heap = []\n",
    "for value in [7, 8, 5, 3, 1, 2, 9, 4]:\n",
    "    heapq.heappush(heap, value)\n",
    "    print(heap)"
   ]
  },
  {
   "cell_type": "markdown",
   "id": "later-clause",
   "metadata": {},
   "source": [
    "The standard library module `heapq` helps here, however, we need to be a little creative by storing negated values for the small values, and juggling the signs as required to keep things consistent."
   ]
  },
  {
   "cell_type": "code",
   "execution_count": 30,
   "id": "homeless-poland",
   "metadata": {},
   "outputs": [],
   "source": [
    "class RunningMedian:\n",
    "    '''class to meintain a running median for data taht is added value\n",
    "    by value.\n",
    "    \n",
    "    Example\n",
    "    -------\n",
    "    running_median = RunningMedian()\n",
    "    for value in values:\n",
    "        running_meidan.add(value)\n",
    "        print(running_median.median)\n",
    "    '''\n",
    "    \n",
    "    def __init__(self):\n",
    "        '''constructor for the RunningMedian class'''\n",
    "        self._small_heap = list()\n",
    "        self._large_heap = list()\n",
    "        self._median = None\n",
    "        \n",
    "    def add(self, value):\n",
    "        '''method to add a value to the running median\n",
    "        \n",
    "        Parameters\n",
    "        ----------\n",
    "        value : float\n",
    "            value to be added\n",
    "        '''\n",
    "        if self._median is None:\n",
    "            heapq.heappush(self._large_heap, value)\n",
    "        else:\n",
    "            if value < self._median:\n",
    "                heapq.heappush(self._small_heap, -value)\n",
    "            else:\n",
    "                heapq.heappush(self._large_heap, value)\n",
    "            self._balance()\n",
    "        self._update_median()\n",
    "    \n",
    "    @property\n",
    "    def median(self):\n",
    "        '''accessor method to get the current median value for the data\n",
    "        that has been processed up to this point\n",
    "        \n",
    "        Returns\n",
    "        -------\n",
    "        float\n",
    "            median value\n",
    "        '''\n",
    "        return self._median\n",
    "    \n",
    "    def _update_median(self):\n",
    "        '''private method to update the current value of the median'''\n",
    "        if len(self._small_heap) < len(self._large_heap):\n",
    "            self._median = self._large_heap[0]\n",
    "        elif len(self._large_heap) < len(self._small_heap):\n",
    "            self._median = -self._small_heap[0]\n",
    "        elif len(self._small_heap) > 0:\n",
    "            self._median = (self._large_heap[0] - self._small_heap[0])/2\n",
    "        \n",
    "    def _balance(self):\n",
    "        '''private method to update the heaps, ensuring that the difference\n",
    "        of their size differs by no more than 1\n",
    "        '''\n",
    "        if len(self._small_heap) < len(self._large_heap) - 1:\n",
    "            to_move = heapq.heappop(self._large_heap)\n",
    "            heapq.heappush(self._small_heap, -to_move)\n",
    "        elif len(self._large_heap) < len(self._small_heap) - 1:\n",
    "            to_move = heapq.heappop(self._small_heap)\n",
    "            heapq.heappush(self._large_heap, -to_move)"
   ]
  },
  {
   "cell_type": "code",
   "execution_count": 31,
   "id": "reverse-productivity",
   "metadata": {},
   "outputs": [
    {
     "name": "stdout",
     "output_type": "stream",
     "text": [
      "[32]  ->  32\n",
      "[32, 37]  ->  34.5\n",
      "[17, 32, 37]  ->  32\n",
      "[3, 17, 32, 37]  ->  24.5\n",
      "[3, 3, 17, 32, 37]  ->  17\n",
      "[3, 3, 17, 32, 37, 49]  ->  24.5\n",
      "[3, 3, 17, 28, 32, 37, 49]  ->  28\n",
      "[3, 3, 17, 26, 28, 32, 37, 49]  ->  27.0\n",
      "[3, 3, 17, 26, 28, 32, 37, 41, 49]  ->  28\n",
      "[3, 3, 17, 26, 28, 32, 37, 41, 41, 49]  ->  30.0\n"
     ]
    }
   ],
   "source": [
    "running_median = RunningMedian()\n",
    "values =  [random.randint(1, 50) for _ in range(10)]\n",
    "for i, value in enumerate(values):\n",
    "    running_median.add(value)\n",
    "    print(sorted(values[:i + 1]), ' -> ', running_median.median)"
   ]
  },
  {
   "cell_type": "markdown",
   "id": "usual-corporation",
   "metadata": {},
   "source": [
    "What is the aggregated runtime to get the running median after $N$ values have been added?"
   ]
  },
  {
   "cell_type": "markdown",
   "id": "becoming-language",
   "metadata": {},
   "source": [
    "# Reservoir sampling"
   ]
  },
  {
   "cell_type": "markdown",
   "id": "outside-bankruptcy",
   "metadata": {},
   "source": [
    "The class below implements a reservoir sampler.  Data is added value by value and it will probabilistically replace values in the sample by incoming values.  To save time (well, computations), we can observe that the sampling index is distributed according to a geometric distribution.  Hence we sample the next index to be added to the sample from such a distribution, which is based on the sample size.\n",
    "\n",
    "The next index to be sampled is computed and stored in `self._next`, when `self._i`, the index of the current value, is equal to it, it replaces a value in the current sample, and the next index is computed."
   ]
  },
  {
   "cell_type": "code",
   "execution_count": 32,
   "id": "upper-diving",
   "metadata": {},
   "outputs": [],
   "source": [
    "class ReservoirSampler:\n",
    "    \n",
    "    def __init__(self, sample_size):\n",
    "        self._sample = list()\n",
    "        self._size = sample_size\n",
    "        self._w = exp(log(random.random())/sample_size)\n",
    "        self._i = sample_size\n",
    "        self._next = self._size + floor(log(random.random())/log(1.0 - self._w))\n",
    "        # print(self._w, self._next)\n",
    "       \n",
    "    @property\n",
    "    def sample(self):\n",
    "        return self._sample.copy()\n",
    "    \n",
    "    @property\n",
    "    def sample_size(seslf):\n",
    "        return self._size\n",
    "    \n",
    "    def add(self, value):\n",
    "        if len(self._sample) < self._size:\n",
    "            self._sample.append(value)\n",
    "        else:\n",
    "            if self._i == self._next:\n",
    "                self._sample[random.randrange(0, self._size)] = value\n",
    "                self._w *= exp(log(random.random())/self._size)\n",
    "                self._next = self._i + 1 + floor(log(random.random())/log(1.0 - self._w))\n",
    "            self._i += 1"
   ]
  },
  {
   "cell_type": "markdown",
   "id": "union-knowing",
   "metadata": {},
   "source": [
    "We can test this by sampling from a sequence of distinct values many times, and check whether all possbile samples occur, and their distribution is uniform."
   ]
  },
  {
   "cell_type": "code",
   "execution_count": 33,
   "id": "wrong-pavilion",
   "metadata": {},
   "outputs": [],
   "source": [
    "nr_values = 10\n",
    "sample_size = 5\n",
    "nr_samples = 100_000\n",
    "values = list(range(nr_values))\n",
    "counter = Counter()\n",
    "for _ in range(nr_samples):\n",
    "    sampler = ReservoirSampler(sample_size)\n",
    "    for value in values:\n",
    "        sampler.add(value)\n",
    "    counter[frozenset( sampler.sample)] += 1"
   ]
  },
  {
   "cell_type": "markdown",
   "id": "raised-retail",
   "metadata": {},
   "source": [
    "For a sample size of 5 out of 10 values, the number of distinct samoles is:"
   ]
  },
  {
   "cell_type": "code",
   "execution_count": 34,
   "id": "approved-definition",
   "metadata": {},
   "outputs": [
    {
     "data": {
      "text/plain": [
       "252"
      ]
     },
     "execution_count": 34,
     "metadata": {},
     "output_type": "execute_result"
    }
   ],
   "source": [
    "math.comb(10, 5)"
   ]
  },
  {
   "cell_type": "markdown",
   "id": "aggregate-hands",
   "metadata": {},
   "source": [
    "Lo and behold, the number of distinct samples collected by reservoir sampling is the same, so all samples occur at least once."
   ]
  },
  {
   "cell_type": "code",
   "execution_count": 35,
   "id": "objective-scheduling",
   "metadata": {},
   "outputs": [
    {
     "data": {
      "text/plain": [
       "252"
      ]
     },
     "execution_count": 35,
     "metadata": {},
     "output_type": "execute_result"
    }
   ],
   "source": [
    "len(counter)"
   ]
  },
  {
   "cell_type": "code",
   "execution_count": 36,
   "id": "convinced-visitor",
   "metadata": {},
   "outputs": [
    {
     "data": {
      "text/plain": [
       "252"
      ]
     },
     "execution_count": 36,
     "metadata": {},
     "output_type": "execute_result"
    }
   ],
   "source": [
    "math.comb(10, 5)"
   ]
  },
  {
   "cell_type": "markdown",
   "id": "opposite-thomas",
   "metadata": {},
   "source": [
    "The distribution of the samples is given below."
   ]
  },
  {
   "cell_type": "code",
   "execution_count": 37,
   "id": "alike-killer",
   "metadata": {},
   "outputs": [
    {
     "data": {
      "image/png": "[encoded data removed]",
      "text/plain": [
       "<Figure size 640x480 with 1 Axes>"
      ]
     },
     "metadata": {},
     "output_type": "display_data"
    }
   ],
   "source": [
    "_ = plt.bar(x=range(len(counter)), height=counter.values())"
   ]
  },
  {
   "cell_type": "code",
   "execution_count": 38,
   "id": "posted-nebraska",
   "metadata": {},
   "outputs": [
    {
     "data": {
      "text/plain": [
       "(347, 448)"
      ]
     },
     "execution_count": 38,
     "metadata": {},
     "output_type": "execute_result"
    }
   ],
   "source": [
    "min(counter.values()), max(counter.values())"
   ]
  },
  {
   "cell_type": "markdown",
   "id": "applicable-survivor",
   "metadata": {},
   "source": [
    "Can you implement a generator for the sample indices?"
   ]
  }
 ],
 "metadata": {
  "kernelspec": {
   "display_name": "Python 3 (ipykernel)",
   "language": "python",
   "name": "python3"
  },
  "language_info": {
   "codemirror_mode": {
    "name": "ipython",
    "version": 3
   },
   "file_extension": ".py",
   "mimetype": "text/x-python",
   "name": "python",
   "nbconvert_exporter": "python",
   "pygments_lexer": "ipython3",
   "version": "3.11.2"
  }
 },
 "nbformat": 4,
 "nbformat_minor": 5
}
