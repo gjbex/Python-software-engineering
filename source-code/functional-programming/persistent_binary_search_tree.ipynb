{
 "cells": [
  {
   "cell_type": "markdown",
   "id": "58b83c45-f5e8-4670-8367-a469f9c8045a",
   "metadata": {},
   "source": [
    "# Problem setting"
   ]
  },
  {
   "cell_type": "markdown",
   "id": "9e83dd76-7cb9-4a89-8653-c7963420545d",
   "metadata": {},
   "source": [
    "Each node in binary search tree has tree attributes:\n",
    "1. a value;\n",
    "1. a left subtree;\n",
    "1. a right subtree.\n",
    "\n",
    "The left and/or right subtree can be empty.\n",
    "\n",
    "For each node the following properties hold:\n",
    "1. the value of the node is greater than the values of the nodes in its left subtree, and\n",
    "1. the value of the node is less than the values of the nodes in its right subtree.\n",
    "\n",
    "This allows for efficient search, i.e., in worst case logarithmic in the depth of the tree.\n",
    "\n",
    "Insertion is also logarithmic in the depth of the tree in worst case.  A new value is added by descending the tree, each time choosing either the left or the right subtree, depending on the value of the node.  The value can be stored as a new node in the first empty subtree that is encountered."
   ]
  },
  {
   "cell_type": "markdown",
   "id": "37bb9d09-759a-4361-ab8a-6a8adc06879d",
   "metadata": {},
   "source": [
    "# Implementation"
   ]
  },
  {
   "cell_type": "markdown",
   "id": "cc5efa68-f402-4d58-9d61-336806fc80b8",
   "metadata": {},
   "source": [
    "Typically, this type of data structure is implemented imperatively, however, it is also very easy to implement this purely functional.\n",
    "\n",
    "We can represent a node as a 3-tuple, the first element is the value stored in the node, the second is the left subtree, the third is the right subtree.\n",
    "\n",
    "We need a few functions and operations:\n",
    "* `empty()`: create an empty tree;\n",
    "* `is_empty(xs)`: check whether the tree `xs` is empty;"
   ]
  },
  {
   "cell_type": "code",
   "execution_count": 1,
   "id": "c44c0fb1-462a-4b9f-98c7-d7fc972127af",
   "metadata": {},
   "outputs": [],
   "source": [
    "def empty():\n",
    "    '''Create an empty binary search tree\n",
    "    \n",
    "    Returns\n",
    "    -------\n",
    "    None\n",
    "        empty binary search tree\n",
    "    '''\n",
    "    return None"
   ]
  },
  {
   "cell_type": "code",
   "execution_count": 2,
   "id": "35dfe4ab-0d4d-4c1f-8263-369e736d797f",
   "metadata": {},
   "outputs": [],
   "source": [
    "def is_empty(tree):\n",
    "    '''Check whether the search tree is empty\n",
    "    \n",
    "    Parameters\n",
    "    ----------\n",
    "    tree: tuple[Any, tuple | None, tuple | None] | None\n",
    "        binary search tree to check for emptiness\n",
    "        \n",
    "    Returns\n",
    "    -------\n",
    "    bool\n",
    "        True if the tree is empty, False otherwise\n",
    "    '''\n",
    "    return tree is None"
   ]
  },
  {
   "cell_type": "code",
   "execution_count": 3,
   "id": "1f270cf3-fc24-418a-8d8d-1251786c21d0",
   "metadata": {},
   "outputs": [],
   "source": [
    "def value(tree):\n",
    "    '''Return the value at the root of the tree\n",
    "    \n",
    "    Parameters\n",
    "    ----------\n",
    "    tree: tuple[Any, tuple | None, tuple | None] | None\n",
    "        binary search tree to get the value of the root of\n",
    "\n",
    "    Returns\n",
    "    -------\n",
    "    Any\n",
    "        value at the root of the tree\n",
    "        \n",
    "    Raises\n",
    "    ------\n",
    "    ValueError\n",
    "        if called on an empty tree\n",
    "    '''\n",
    "    if is_empty(tree):\n",
    "        raise ValueError('empty tree')\n",
    "    return tree[0]"
   ]
  },
  {
   "cell_type": "code",
   "execution_count": 4,
   "id": "f8337f69-7043-4369-ab0b-8797a60bfdbb",
   "metadata": {},
   "outputs": [],
   "source": [
    "def left(tree):\n",
    "    '''Return the left subtree of the given tree\n",
    "    \n",
    "    Parameters\n",
    "    ----------\n",
    "    tree: tuple[Any, tuple | None, tuple | None] | None\n",
    "        tree to return the left subtree of\n",
    "        \n",
    "    Returns\n",
    "    -------\n",
    "    tuple[Any, tuple | None, tuple | None] | None\n",
    "        binary search left subtree of the given tree\n",
    "        \n",
    "    Raises\n",
    "    ------\n",
    "    ValueError\n",
    "        if the given tree is empty\n",
    "    '''\n",
    "    if is_empty(tree):\n",
    "        raise ValueError('empty tree')\n",
    "    return tree[1]"
   ]
  },
  {
   "cell_type": "code",
   "execution_count": 5,
   "id": "0352d2a0-11e7-4120-8d78-e8fb664832a1",
   "metadata": {},
   "outputs": [],
   "source": [
    "def right(tree):\n",
    "    '''Return the right subtree of the given tree\n",
    "    \n",
    "    Parameters\n",
    "    ----------\n",
    "    tree: tuple[Any, tuple | None, tuple | None] | None\n",
    "        binary search tree to return the right subtree of\n",
    "        \n",
    "    Returns\n",
    "    -------\n",
    "    tuple[Any, tuple | None, tuple | None] | None\n",
    "        right subtree of the given tree\n",
    "        \n",
    "    Raises\n",
    "    ------\n",
    "    ValueError\n",
    "        if the given tree is empty\n",
    "    '''\n",
    "    if is_empty(tree):\n",
    "        raise ValueError('empty tree')\n",
    "    return tree[-1]"
   ]
  },
  {
   "cell_type": "code",
   "execution_count": 11,
   "id": "05940f9d-551f-48aa-af3c-4e7ecd448e06",
   "metadata": {},
   "outputs": [],
   "source": [
    "def insert(tree, new_value):\n",
    "    '''Insert a new value into the tree\n",
    "    \n",
    "    Parameters\n",
    "    ----------\n",
    "    tree:  tuple[Any, tuple | None, tuple | None] | None\n",
    "        binary search tree to insert the new value in\n",
    "    new_value: Any\n",
    "        new value to insert\n",
    "    \n",
    "    Returns\n",
    "    -------\n",
    "    tuple[Any, tuple | None, tuple | None] | None\n",
    "        binary search tree with the new value inserted, or the\n",
    "        original search tree if the value was alrady stored in the tree\n",
    "    '''\n",
    "    if is_empty(tree):\n",
    "        return (new_value, empty(), empty())\n",
    "    if new_value < value(tree):\n",
    "        return (value(tree), insert(left(tree), new_value), right(tree))\n",
    "    if value(tree) < new_value:\n",
    "        return (value(tree), left(tree), insert(right(tree), new_value))\n",
    "    return tree"
   ]
  },
  {
   "cell_type": "code",
   "execution_count": 7,
   "id": "5d9d59a7-16b6-4570-a8f1-0dbfdc364cbb",
   "metadata": {},
   "outputs": [],
   "source": [
    "def search(tree, search_value):\n",
    "    '''Check whether a value is stored in a binary search tree\n",
    "    \n",
    "    Parameters\n",
    "    ----------\n",
    "    tree: tuple[Any, tuple | None, tuple | None] | None\n",
    "        binary search tree to search the value in\n",
    "    search_value: Any\n",
    "        value to search for\n",
    "    \n",
    "    Returns\n",
    "    -------\n",
    "    bool\n",
    "        True if the value occurs in the binary search tree,\n",
    "        False otherwise\n",
    "    '''\n",
    "    if is_empty(tree):\n",
    "        return False\n",
    "    if search_value < value(tree):\n",
    "        return search(left(tree), search_value)\n",
    "    if value(tree) < search_value:\n",
    "        return search(right(tree), search_value)\n",
    "    return True"
   ]
  },
  {
   "cell_type": "markdown",
   "id": "1cc01ed7-ed17-4cd0-bdb3-8d88570f2bc3",
   "metadata": {},
   "source": [
    "For convenience, we implement two more function that operator on binary search trees:\n",
    "* `flatten(tree)`: return the values stored in the tree as a tuple, the\n",
    "  order is determined by a depth-first traversal of the tree;\n",
    "* `visualize_tree(tree)`: print the tree in a somewhat visually appealing\n",
    "  way.\n",
    "\n",
    "Note that `visualize_tree` is not functional since it has side effects (printing)."
   ]
  },
  {
   "cell_type": "code",
   "execution_count": 13,
   "id": "1ebf68a5-2de8-4219-bdd9-a85218a13e34",
   "metadata": {},
   "outputs": [],
   "source": [
    "def flatten(tree):\n",
    "    '''Flatten the tree into a tuple\n",
    "    \n",
    "    Parameters\n",
    "    ----------\n",
    "    tree: tuple[Any, tuple | None, tuple | None] | None\n",
    "        binary search tree to flatten\n",
    "        \n",
    "    Returns\n",
    "    -------\n",
    "    tuple[Any] | None\n",
    "        tuple that contains all values in the tree, depth-first order\n",
    "    '''\n",
    "    if is_empty(tree):\n",
    "        return tree\n",
    "    if is_empty(left(tree)):\n",
    "        if is_empty(right(tree)):\n",
    "            return (value(tree), )\n",
    "        return (value(tree), ) + flatten(right(tree))\n",
    "    if is_empty(right(tree)):\n",
    "        return flatten(left(tree)) + (value(tree), )\n",
    "    return flatten(left(tree)) + (value(tree), ) + flatten(right(tree))"
   ]
  },
  {
   "cell_type": "markdown",
   "id": "d93d4c6e-d88f-49b1-b189-17017c7de51c",
   "metadata": {},
   "source": [
    "The implementation of `flatten` would be much simpler if we would use Python `list` rather than `tuple`, but given the fact that we want to program in a functional style, we make sure the data structures are immutable."
   ]
  },
  {
   "cell_type": "code",
   "execution_count": 21,
   "id": "113acbc3-b18b-4ef5-b993-1ab5d8b3a043",
   "metadata": {},
   "outputs": [],
   "source": [
    "def visualize_tree(tree, indent=''):\n",
    "    '''Print a visualization of a tree to standard output\n",
    "    \n",
    "    Parameters\n",
    "    ----------\n",
    "    tree: tuple[Any, tuple | None, tuple | None] | None\n",
    "        binary search tree to visualize\n",
    "    '''\n",
    "    if is_empty(tree):\n",
    "        print(f'{indent}empty tree')\n",
    "    else:\n",
    "        print(f'{indent}{value(tree)}')\n",
    "        if not is_empty(left(tree)):\n",
    "            print(f'{indent} left:')\n",
    "            visualize_tree(left(tree), indent + '  ')\n",
    "        if not is_empty(right(tree)):\n",
    "            print(f'{indent} right:')\n",
    "            visualize_tree(right(tree), indent + '  ')"
   ]
  },
  {
   "cell_type": "markdown",
   "id": "fa4074a4-e15b-4388-958e-7497a11eba64",
   "metadata": {},
   "source": [
    "# Testing"
   ]
  },
  {
   "cell_type": "markdown",
   "id": "b86c0c7a-d2c2-4e3a-8b70-108868d83f85",
   "metadata": {},
   "source": [
    "Check whether the empty tree is empty."
   ]
  },
  {
   "cell_type": "code",
   "execution_count": 28,
   "id": "2c595c38-71e1-4df1-8016-99b632373817",
   "metadata": {},
   "outputs": [],
   "source": [
    "assert is_empty(empty()), 'empty tree is not empty'"
   ]
  },
  {
   "cell_type": "markdown",
   "id": "ccd1eec7-7eea-4193-9323-053d1638d3d9",
   "metadata": {},
   "source": [
    "Store the successive trees in a list that are obtained by inserting values into it, that illustrates that this implementation of binary search trees is indeed persistent, and hence purely functional."
   ]
  },
  {
   "cell_type": "code",
   "execution_count": 23,
   "id": "9bf2469e-c918-450e-bae0-86afa77dd371",
   "metadata": {},
   "outputs": [
    {
     "name": "stdout",
     "output_type": "stream",
     "text": [
      "None\n",
      "(4, None, None)\n",
      "(4, (1, None, None), None)\n",
      "(4, (1, None, None), (7, None, None))\n",
      "(4, (1, (-3, None, None), None), (7, None, None))\n",
      "(4, (1, (-3, None, None), None), (7, None, None))\n",
      "(4, (1, (-3, None, None), None), (7, None, (8, None, None)))\n",
      "(4, (1, (-3, None, None), None), (7, None, (8, None, None)))\n",
      "(4, (1, (-3, None, None), None), (7, None, (8, None, (9, None, None))))\n",
      "(4, (1, (-3, None, None), None), (7, None, (8, None, (9, None, None))))\n"
     ]
    }
   ],
   "source": [
    "new_values = (4, 1, 7, -3, 1, 8, 4, 9, -3)\n",
    "trees = [empty()]\n",
    "for new_value in new_values:\n",
    "    trees.append(insert(trees[-1], new_value))\n",
    "for tree in trees:\n",
    "    print(tree)"
   ]
  },
  {
   "cell_type": "markdown",
   "id": "c88e781a-303e-4ac4-933c-f9b3d9c39255",
   "metadata": {},
   "source": [
    "In order to test the implementation, you should note that when a correct binary search tree is flattened, the resulting tuple ir ordered, i.e, its elements are in ascending order.  To test this, we implement the function `is_ordered`."
   ]
  },
  {
   "cell_type": "code",
   "execution_count": 26,
   "id": "d3da91e3-4658-43bc-a980-f611cf65bd35",
   "metadata": {},
   "outputs": [],
   "source": [
    "def is_ordered(elements):\n",
    "    '''Check whether the elements of a tuple are orded\n",
    "    \n",
    "    Parameters\n",
    "    ----------\n",
    "    elements: tuple[Any] | None\n",
    "        tuple to check\n",
    "        \n",
    "    Returns\n",
    "    -------\n",
    "    bool\n",
    "        True if the tuple's elements are in order, False otherwise; None, that represents\n",
    "        the elements of an empty tree is also consired ordered\n",
    "    '''\n",
    "    return (elements is None or len(elements) <= 1 or\n",
    "            (elements[0] <= elements[1]) and is_ordered(elements[1:]))        "
   ]
  },
  {
   "cell_type": "markdown",
   "id": "e81e0471-68d8-440c-bf74-9d408fbd517d",
   "metadata": {},
   "source": [
    "We can now test the implementation."
   ]
  },
  {
   "cell_type": "code",
   "execution_count": 27,
   "id": "7ea1284c-8ca6-49b3-b051-263e3109d0f7",
   "metadata": {},
   "outputs": [],
   "source": [
    "new_values = (4, 1, 7, -3, 1, 8, 4, 9, -3)\n",
    "trees = [empty()]\n",
    "for new_value in new_values:\n",
    "    trees.append(insert(trees[-1], new_value))\n",
    "for tree in trees:\n",
    "    assert is_ordered(flatten(tree)), f'{tree} is not ordered'"
   ]
  },
  {
   "cell_type": "markdown",
   "id": "36904405-5769-41db-9e8e-5314d50aa42b",
   "metadata": {},
   "source": [
    "Check whether the visualization works as expected."
   ]
  },
  {
   "cell_type": "code",
   "execution_count": 16,
   "id": "41b1e508-407c-4fb5-aa40-45943825a7dd",
   "metadata": {},
   "outputs": [],
   "source": [
    "tree = insert(insert(insert(insert(empty(), 3), 5), 1), 2)"
   ]
  },
  {
   "cell_type": "code",
   "execution_count": 22,
   "id": "df17e319-80d1-45c1-8fe9-bf81626ea48d",
   "metadata": {},
   "outputs": [
    {
     "name": "stdout",
     "output_type": "stream",
     "text": [
      "3\n",
      " left:\n",
      "  1\n",
      "   right:\n",
      "    2\n",
      " right:\n",
      "  5\n"
     ]
    }
   ],
   "source": [
    "visualize_tree(tree)"
   ]
  }
 ],
 "metadata": {
  "kernelspec": {
   "display_name": "Python 3 (ipykernel)",
   "language": "python",
   "name": "python3"
  },
  "language_info": {
   "codemirror_mode": {
    "name": "ipython",
    "version": 3
   },
   "file_extension": ".py",
   "mimetype": "text/x-python",
   "name": "python",
   "nbconvert_exporter": "python",
   "pygments_lexer": "ipython3",
   "version": "3.11.2"
  }
 },
 "nbformat": 4,
 "nbformat_minor": 5
}
