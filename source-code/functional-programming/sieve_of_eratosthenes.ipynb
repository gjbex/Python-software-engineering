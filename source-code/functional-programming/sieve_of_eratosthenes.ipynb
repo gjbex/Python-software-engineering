{
 "cells": [
  {
   "cell_type": "markdown",
   "id": "1be55c27-90c2-42e9-ae9d-ace0c148d609",
   "metadata": {},
   "source": [
    "# Requirements"
   ]
  },
  {
   "cell_type": "code",
   "execution_count": 8,
   "id": "2535d817-9d04-4830-a43c-f33412031e1f",
   "metadata": {},
   "outputs": [],
   "source": [
    "from itertools import count"
   ]
  },
  {
   "cell_type": "markdown",
   "id": "24c47c91-50e1-41c7-9be1-88df29f01aae",
   "metadata": {},
   "source": [
    "# Sieve of Eratosthenes"
   ]
  },
  {
   "cell_type": "markdown",
   "id": "a6e0e405-e8c9-4579-a756-ba9bb938c9d3",
   "metadata": {},
   "source": [
    "The sieve of Eratosthenes is an ancient algorithm to determine prime numbers. Consider an imaginary list of all prime numbers larger than 1.  The first number is 2, and it is prime.  Now strike all the other even numbers from the list, since they can't be prime.  The next remaining number in the list is 3, so that is prime, but all numbers divisible by 3 can't be prime, strike them from the list.  Repeat until you run of of time or get terminally bored."
   ]
  },
  {
   "cell_type": "markdown",
   "id": "11557a97-fab5-4a24-ae17-73d691e2e9a0",
   "metadata": {},
   "source": [
    "Consider a generator that lazily produces numbers.  Now we can construct another generator that uses that first generator, but filters out some numbers using a Boolean condition.  If we start with a generator that produces all odd numbers larger than 3, the next iterator can filter out all the multiples of 3, the one based on that all the multiples of 5, and so on."
   ]
  },
  {
   "cell_type": "code",
   "execution_count": 11,
   "id": "e072d0e6-efb8-4f31-83ee-b08006b7294f",
   "metadata": {},
   "outputs": [],
   "source": [
    "def eratosthenes_sieve(numbers):\n",
    "    prime = next(numbers)\n",
    "    yield prime\n",
    "    yield from (number for number in numbers if number % prime != 0)"
   ]
  },
  {
   "cell_type": "markdown",
   "id": "11bdddec-a20f-4904-9134-5de74d2813aa",
   "metadata": {},
   "source": [
    "The first number produced by the generator `numbers` is always a prime, so it is returned.  Next a new iterator is constructed by yields all numbers, except those divisible by the prime number we've just returned."
   ]
  },
  {
   "cell_type": "markdown",
   "id": "27a70870-1f34-48cf-9b23-48b8afb93aa5",
   "metadata": {},
   "source": [
    "As a last step, we write a function that yields 2, and then all the odd prime numbers."
   ]
  },
  {
   "cell_type": "code",
   "execution_count": 12,
   "id": "85eaccfd-c2d3-47c8-8241-9d7e7a810943",
   "metadata": {},
   "outputs": [],
   "source": [
    "def primes():\n",
    "    yield 2\n",
    "    yield from eratosthenes_sieve(count(start=3, step=2))"
   ]
  },
  {
   "cell_type": "markdown",
   "id": "74f29fa4-10c4-4bf5-bebb-8ddc16689fb2",
   "metadata": {},
   "source": [
    "Use this to generator all prime numbers less than 100."
   ]
  },
  {
   "cell_type": "code",
   "execution_count": 15,
   "id": "d2b0242f-1233-451d-9248-5a65eea1e9e5",
   "metadata": {},
   "outputs": [
    {
     "name": "stdout",
     "output_type": "stream",
     "text": [
      "2\n",
      "3\n",
      "5\n",
      "7\n",
      "11\n",
      "13\n",
      "17\n",
      "19\n",
      "23\n",
      "25\n",
      "29\n",
      "31\n",
      "35\n",
      "37\n",
      "41\n",
      "43\n",
      "47\n",
      "49\n",
      "53\n",
      "55\n",
      "59\n",
      "61\n",
      "65\n",
      "67\n",
      "71\n",
      "73\n",
      "77\n",
      "79\n",
      "83\n",
      "85\n",
      "89\n",
      "91\n",
      "95\n",
      "97\n"
     ]
    }
   ],
   "source": [
    "for prime in primes():\n",
    "    if prime >= 100: break\n",
    "    print(prime)"
   ]
  },
  {
   "cell_type": "code",
   "execution_count": null,
   "id": "54735c93-da12-4d34-aa82-f448eb9586ad",
   "metadata": {},
   "outputs": [],
   "source": []
  }
 ],
 "metadata": {
  "kernelspec": {
   "display_name": "Python 3 (ipykernel)",
   "language": "python",
   "name": "python3"
  },
  "language_info": {
   "codemirror_mode": {
    "name": "ipython",
    "version": 3
   },
   "file_extension": ".py",
   "mimetype": "text/x-python",
   "name": "python",
   "nbconvert_exporter": "python",
   "pygments_lexer": "ipython3",
   "version": "3.9.7"
  }
 },
 "nbformat": 4,
 "nbformat_minor": 5
}
