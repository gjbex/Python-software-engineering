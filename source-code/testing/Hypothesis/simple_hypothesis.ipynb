{
 "cells": [
  {
   "cell_type": "code",
   "execution_count": 1,
   "metadata": {},
   "outputs": [],
   "source": [
    "from hypothesis import example, given\n",
    "import hypothesis.strategies as st"
   ]
  },
  {
   "cell_type": "code",
   "execution_count": 2,
   "metadata": {},
   "outputs": [],
   "source": [
    "def fac(n):\n",
    "    prod = 1\n",
    "    for i in range(2, n + 1):\n",
    "        prod *= i\n",
    "    return prod"
   ]
  },
  {
   "cell_type": "code",
   "execution_count": 3,
   "metadata": {},
   "outputs": [],
   "source": [
    "def fac_recursive(n):\n",
    "    if n < 2:\n",
    "        return 1\n",
    "    else:\n",
    "        return n*fac(n - 1)"
   ]
  },
  {
   "cell_type": "code",
   "execution_count": 4,
   "metadata": {},
   "outputs": [],
   "source": [
    "@given(st.integers(0, 50))\n",
    "@example(2)\n",
    "def test_fac(n):\n",
    "    print(n)\n",
    "    assert fac(n) == fac_recursive(n)"
   ]
  },
  {
   "cell_type": "code",
   "execution_count": 5,
   "metadata": {},
   "outputs": [
    {
     "name": "stdout",
     "output_type": "stream",
     "text": [
      "2\n",
      "0\n",
      "22\n",
      "3\n",
      "34\n",
      "4\n",
      "38\n",
      "14\n",
      "43\n",
      "47\n",
      "15\n",
      "32\n",
      "13\n",
      "13\n",
      "4\n",
      "49\n",
      "8\n",
      "8\n",
      "24\n",
      "5\n",
      "7\n",
      "42\n",
      "11\n",
      "11\n",
      "25\n",
      "28\n",
      "12\n",
      "12\n",
      "12\n",
      "0\n",
      "0\n",
      "0\n",
      "26\n",
      "27\n",
      "19\n",
      "20\n",
      "29\n",
      "33\n",
      "17\n",
      "50\n",
      "35\n",
      "46\n",
      "21\n",
      "36\n",
      "36\n",
      "37\n",
      "48\n",
      "31\n",
      "21\n",
      "19\n",
      "16\n",
      "41\n",
      "40\n",
      "26\n",
      "49\n",
      "49\n",
      "49\n",
      "49\n",
      "30\n",
      "44\n",
      "18\n",
      "18\n",
      "39\n",
      "8\n",
      "8\n",
      "48\n",
      "26\n",
      "23\n",
      "6\n",
      "2\n",
      "1\n",
      "45\n",
      "9\n",
      "9\n",
      "10\n"
     ]
    }
   ],
   "source": [
    "test_fac()"
   ]
  },
  {
   "cell_type": "code",
   "execution_count": 6,
   "metadata": {},
   "outputs": [],
   "source": [
    "@given(input=st.integers(), output=st.integers())\n",
    "@example(input=3, output=6)\n",
    "def test_specific(input, output):\n",
    "    print(input, output)\n",
    "    assert fac(input) == output"
   ]
  },
  {
   "cell_type": "code",
   "execution_count": 7,
   "metadata": {},
   "outputs": [
    {
     "name": "stdout",
     "output_type": "stream",
     "text": [
      "3 6\n",
      "0 0\n",
      "20572 -1490998015\n",
      "20572 -1348217635\n",
      "20572 3\n",
      "20572 -814\n",
      "-814 -814\n",
      "-814 -814\n",
      "-2624110112850083942625652491078322126 69\n",
      "-2624110112850083942625652491078322126 -2624110112850083942625652491078322126\n",
      "-30962 165500787292363604581876376573135435158\n",
      "0 0\n",
      "0 22\n",
      "0 0\n",
      "0 523\n",
      "0 0\n",
      "243746923213 -6\n"
     ]
    },
    {
     "ename": "KeyboardInterrupt",
     "evalue": "",
     "output_type": "error",
     "traceback": [
      "\u001b[0;31m---------------------------------------------------------------------------\u001b[0m",
      "\u001b[0;31mKeyboardInterrupt\u001b[0m                         Traceback (most recent call last)",
      "Cell \u001b[0;32mIn[7], line 1\u001b[0m\n\u001b[0;32m----> 1\u001b[0m \u001b[43mtest_specific\u001b[49m\u001b[43m(\u001b[49m\u001b[43m)\u001b[49m\n",
      "Cell \u001b[0;32mIn[6], line 2\u001b[0m, in \u001b[0;36mtest_specific\u001b[0;34m()\u001b[0m\n\u001b[1;32m      1\u001b[0m \u001b[38;5;129m@given\u001b[39m(\u001b[38;5;28minput\u001b[39m\u001b[38;5;241m=\u001b[39mst\u001b[38;5;241m.\u001b[39mintegers(), output\u001b[38;5;241m=\u001b[39mst\u001b[38;5;241m.\u001b[39mintegers())\n\u001b[0;32m----> 2\u001b[0m \u001b[38;5;129m@example\u001b[39m(\u001b[38;5;28minput\u001b[39m\u001b[38;5;241m=\u001b[39m\u001b[38;5;241m3\u001b[39m, output\u001b[38;5;241m=\u001b[39m\u001b[38;5;241m6\u001b[39m)\n\u001b[1;32m      3\u001b[0m \u001b[38;5;28;01mdef\u001b[39;00m \u001b[38;5;21mtest_specific\u001b[39m(\u001b[38;5;28minput\u001b[39m, output):\n\u001b[1;32m      4\u001b[0m     \u001b[38;5;28mprint\u001b[39m(\u001b[38;5;28minput\u001b[39m, output)\n\u001b[1;32m      5\u001b[0m     \u001b[38;5;28;01massert\u001b[39;00m fac(\u001b[38;5;28minput\u001b[39m) \u001b[38;5;241m==\u001b[39m output\n",
      "    \u001b[0;31m[... skipping hidden 1 frame]\u001b[0m\n",
      "Cell \u001b[0;32mIn[6], line 5\u001b[0m, in \u001b[0;36mtest_specific\u001b[0;34m(input, output)\u001b[0m\n\u001b[1;32m      1\u001b[0m \u001b[38;5;129m@given\u001b[39m(\u001b[38;5;28minput\u001b[39m\u001b[38;5;241m=\u001b[39mst\u001b[38;5;241m.\u001b[39mintegers(), output\u001b[38;5;241m=\u001b[39mst\u001b[38;5;241m.\u001b[39mintegers())\n\u001b[1;32m      2\u001b[0m \u001b[38;5;129m@example\u001b[39m(\u001b[38;5;28minput\u001b[39m\u001b[38;5;241m=\u001b[39m\u001b[38;5;241m3\u001b[39m, output\u001b[38;5;241m=\u001b[39m\u001b[38;5;241m6\u001b[39m)\n\u001b[1;32m      3\u001b[0m \u001b[38;5;28;01mdef\u001b[39;00m \u001b[38;5;21mtest_specific\u001b[39m(\u001b[38;5;28minput\u001b[39m, output):\n\u001b[1;32m      4\u001b[0m     \u001b[38;5;28mprint\u001b[39m(\u001b[38;5;28minput\u001b[39m, output)\n\u001b[0;32m----> 5\u001b[0m     \u001b[38;5;28;01massert\u001b[39;00m \u001b[43mfac\u001b[49m\u001b[43m(\u001b[49m\u001b[38;5;28;43minput\u001b[39;49m\u001b[43m)\u001b[49m \u001b[38;5;241m==\u001b[39m output\n",
      "Cell \u001b[0;32mIn[2], line 4\u001b[0m, in \u001b[0;36mfac\u001b[0;34m(n)\u001b[0m\n\u001b[1;32m      2\u001b[0m prod \u001b[38;5;241m=\u001b[39m \u001b[38;5;241m1\u001b[39m\n\u001b[1;32m      3\u001b[0m \u001b[38;5;28;01mfor\u001b[39;00m i \u001b[38;5;129;01min\u001b[39;00m \u001b[38;5;28mrange\u001b[39m(\u001b[38;5;241m2\u001b[39m, n \u001b[38;5;241m+\u001b[39m \u001b[38;5;241m1\u001b[39m):\n\u001b[0;32m----> 4\u001b[0m     \u001b[43mprod\u001b[49m\u001b[43m \u001b[49m\u001b[38;5;241;43m*\u001b[39;49m\u001b[38;5;241;43m=\u001b[39;49m\u001b[43m \u001b[49m\u001b[43mi\u001b[49m\n\u001b[1;32m      5\u001b[0m \u001b[38;5;28;01mreturn\u001b[39;00m prod\n",
      "\u001b[0;31mKeyboardInterrupt\u001b[0m: "
     ]
    }
   ],
   "source": [
    "test_specific()"
   ]
  },
  {
   "cell_type": "code",
   "execution_count": null,
   "metadata": {},
   "outputs": [],
   "source": []
  },
  {
   "cell_type": "code",
   "execution_count": null,
   "metadata": {},
   "outputs": [],
   "source": []
  }
 ],
 "metadata": {
  "kernelspec": {
   "display_name": "Python 3 (ipykernel)",
   "language": "python",
   "name": "python3"
  },
  "language_info": {
   "codemirror_mode": {
    "name": "ipython",
    "version": 3
   },
   "file_extension": ".py",
   "mimetype": "text/x-python",
   "name": "python",
   "nbconvert_exporter": "python",
   "pygments_lexer": "ipython3",
   "version": "3.12.3"
  }
 },
 "nbformat": 4,
 "nbformat_minor": 4
}
