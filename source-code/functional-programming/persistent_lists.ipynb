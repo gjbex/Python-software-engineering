{
 "cells": [
  {
   "cell_type": "markdown",
   "id": "eb6fefa2-936f-4ec3-9349-6640f1018bc8",
   "metadata": {},
   "source": [
    "# Requirements"
   ]
  },
  {
   "cell_type": "code",
   "execution_count": 40,
   "id": "f99916a9-9318-4b25-802c-66e3eb3a9189",
   "metadata": {},
   "outputs": [],
   "source": [
    "import sys"
   ]
  },
  {
   "cell_type": "markdown",
   "id": "6855a409-00e9-4cef-b498-cec8c64c8d03",
   "metadata": {},
   "source": [
    "# Problem setting"
   ]
  },
  {
   "cell_type": "markdown",
   "id": "b872f30d-9534-449a-98df-9585a28b5845",
   "metadata": {},
   "source": [
    "Python as a type `list` that works peerfectly well, and the implementation is well-optimized.  However, Python lists are ephemeral, not persistent, i.e., if you, e.g., append an element to a list, the original list no longer exists. In other words, the `append` method has side effects.\n",
    "\n",
    "While this is fine (and likely expected) for an imperative programming language, this is not acceptable in functional programming where you expect functions to be side effect-free.\n",
    "\n",
    "For persistent lists, some operations will have to copy part of the data structure, not the values stored in that data structure, but pats of the structure itself.  This will of course have a performance impact.  On the upside, this implies that persistent data structures can be used without hassle in parallel programs.\n",
    "\n",
    "Data structures can be made persistent, i.e., they support multiple versions.  Here this is illustrated by the implementation of a persistent list."
   ]
  },
  {
   "cell_type": "markdown",
   "id": "fcb6b300-65a3-42ae-baf9-3ed7519b4180",
   "metadata": {},
   "source": [
    "# Data structure"
   ]
  },
  {
   "cell_type": "markdown",
   "id": "e0fe5499-a915-46a0-92fb-edd9c3f7547c",
   "metadata": {},
   "source": [
    "A list will be represented using `tuple` and `None`.  The empty list is represented by `None`, a list with a single element the 2-tuple `('a', None)`, while a list with two elements is a 2-tuple that has the first element of the list as its first element, the second element of the list as its second, under the form of a tuple: `('a', ('b', None))`\n",
    "\n",
    "More generally, a list is represented by a tuple, the first element is the head of the list, the second the tail, i.e., all other elements in a list, so for a list with four elements:\n",
    "```\n",
    "('a', ('b', ('c', ('d', None))))\n",
    "```\n",
    "\n",
    "Since a `tuple` in Python is immutable, persistence is already partly guaranteed since once created, a tuple can not be modified."
   ]
  },
  {
   "cell_type": "markdown",
   "id": "809e00a1-95d7-4d6f-b329-03c0dfc16baa",
   "metadata": {},
   "source": [
    "# Basic operations"
   ]
  },
  {
   "cell_type": "markdown",
   "id": "b33cf5d3-59d0-48ea-a0cf-4b16d0649b48",
   "metadata": {},
   "source": [
    "You need a constructor for an empty list, as well as a test to check whether a list is empty.  In addition, you need three basic functions for persistence lists, and those will let you implement all other list operations:\n",
    "* `empty()`: construct an empty list;\n",
    "* `is_empty(xs)`: returns `True` if the list is empty, `False` otherwise;\n",
    "* `cons(x, xs)`: construct a list by prepending the element `x` to the list `xs`;\n",
    "* `head(xs)`: return the head of the list `xs`, i.e., its first element;\n",
    "* `tail(xs)`: return the tail of the list, i.e., a list containing all elements, except the first.\n",
    "\n",
    "Applying `head` or `tail` to an empty list should raise an exception, `ValueError` is appropriate.  "
   ]
  },
  {
   "cell_type": "code",
   "execution_count": 75,
   "id": "e8e953f0-a9f3-42ec-bf6b-03b56bb2a94b",
   "metadata": {},
   "outputs": [],
   "source": [
    "def empty():\n",
    "    '''Create an empty list\n",
    "    \n",
    "    Returns\n",
    "    -------\n",
    "    None\n",
    "        empty list\n",
    "    '''\n",
    "    return None"
   ]
  },
  {
   "cell_type": "code",
   "execution_count": 73,
   "id": "f40627a1-e8e5-47e7-8fd8-5376b36c9891",
   "metadata": {},
   "outputs": [],
   "source": [
    "def is_empty(xs):\n",
    "    '''Returns True if the list is empty, false otherwise\n",
    "    \n",
    "    Parameters\n",
    "    ----------\n",
    "    xs: tuple[Any, tuple | None] | None\n",
    "        list to check for emptiness\n",
    "        \n",
    "    Returns\n",
    "    -------\n",
    "    bool\n",
    "        True if the list is empty, false otherwise\n",
    "    '''\n",
    "    return xs is None"
   ]
  },
  {
   "cell_type": "code",
   "execution_count": 77,
   "id": "152b2f47-87fb-4342-813e-4494f3c865c1",
   "metadata": {},
   "outputs": [],
   "source": [
    "def cons(x, xs):\n",
    "    '''Construct a list with x as head and xs as tail\n",
    "    \n",
    "    Parameters\n",
    "    ----------\n",
    "    x: Any\n",
    "        value to be the first element in the new list\n",
    "    xs: tuple[Any, tuple | None]\n",
    "        list that is the tail of the new list\n",
    "    \n",
    "    Returns\n",
    "    -------\n",
    "    tuple[Any, tuple | None]\n",
    "        new list\n",
    "    '''\n",
    "    return (x, xs)"
   ]
  },
  {
   "cell_type": "code",
   "execution_count": 78,
   "id": "1948bda8-010a-4460-8145-97dd399ec171",
   "metadata": {},
   "outputs": [],
   "source": [
    "def head(xs):\n",
    "    '''Return the head of the string\n",
    "    \n",
    "    Parameters\n",
    "    ----------\n",
    "    xs: tuple[Any, tuple | None] | None\n",
    "        list to get the first element of\n",
    "        \n",
    "    Returns\n",
    "    -------\n",
    "    Any\n",
    "        value of the first element in the list\n",
    "        \n",
    "    Raises\n",
    "    ------\n",
    "    ValueError\n",
    "        if the list is empty, i.e., xs == None\n",
    "    '''\n",
    "    if is_empty(xs):\n",
    "        raise ValueError('empty list')\n",
    "    return xs[0]"
   ]
  },
  {
   "cell_type": "code",
   "execution_count": 79,
   "id": "fd87734c-a79d-4ab6-829c-5a74d6d75ec8",
   "metadata": {},
   "outputs": [],
   "source": [
    "def tail(xs):\n",
    "    '''Return the tail of the string\n",
    "    \n",
    "    Parameters\n",
    "    ----------\n",
    "    xs: tuple[Any, tuple | None] | None\n",
    "        list to get the tail of as a list\n",
    "        \n",
    "    Returns\n",
    "    -------\n",
    "    tuple[Any, tuple | None] | None\n",
    "        tail of the list, note that the tail of a single-element list is the empty list,\n",
    "        so None\n",
    "        \n",
    "    Raises\n",
    "    ------\n",
    "    ValueError\n",
    "        if the list is empty, i.e., xs == None\n",
    "    '''\n",
    "\n",
    "    if is_empty(xs):\n",
    "        raise ValueError('empty list')\n",
    "    return xs[1]"
   ]
  },
  {
   "cell_type": "markdown",
   "id": "2eff2203-3850-40ec-91a7-a2edb43c520c",
   "metadata": {},
   "source": [
    "First verify that the empty list is empty."
   ]
  },
  {
   "cell_type": "code",
   "execution_count": 110,
   "id": "19ab2a72-9264-4212-bc66-55174c941a56",
   "metadata": {},
   "outputs": [
    {
     "data": {
      "text/plain": [
       "True"
      ]
     },
     "execution_count": 110,
     "metadata": {},
     "output_type": "execute_result"
    }
   ],
   "source": [
    "is_empty(empty())"
   ]
  },
  {
   "cell_type": "markdown",
   "id": "5856905b-1a75-49d1-9c27-064c73638c6a",
   "metadata": {},
   "source": [
    "To test `cons`, `head` and `tail`, you can construct list of lengths up to some value.  For each, except the empty one, show the head and the tail."
   ]
  },
  {
   "cell_type": "code",
   "execution_count": 111,
   "id": "8079667d-75ec-4593-bc3b-e5816bd55b04",
   "metadata": {},
   "outputs": [
    {
     "name": "stdout",
     "output_type": "stream",
     "text": [
      "None empty\n",
      "(4, None)\n",
      "\thead = 4\n",
      "\ttail = None\n",
      "(3, (4, None))\n",
      "\thead = 3\n",
      "\ttail = (4, None)\n",
      "(2, (3, (4, None)))\n",
      "\thead = 2\n",
      "\ttail = (3, (4, None))\n",
      "(1, (2, (3, (4, None))))\n",
      "\thead = 1\n",
      "\ttail = (2, (3, (4, None)))\n"
     ]
    }
   ],
   "source": [
    "lists = [empty()]\n",
    "for i in range(4, 0, -1):\n",
    "    lists.append(cons(i, lists[-1]))\n",
    "for l in lists:\n",
    "    if is_empty(l):\n",
    "        print(f'{l} empty')\n",
    "    else:\n",
    "        print(f'{l}\\n\\thead = {head(l)}\\n\\ttail = {tail(l)}')"
   ]
  },
  {
   "cell_type": "markdown",
   "id": "a06f2370-2fd4-4323-a6d0-c1d28af201cd",
   "metadata": {},
   "source": [
    "Check that the expected exceptions are raised when `head` and `tail` are applied to empty lists."
   ]
  },
  {
   "cell_type": "code",
   "execution_count": 84,
   "id": "3f1f2dac-8239-4acd-948f-694b800ecffe",
   "metadata": {},
   "outputs": [
    {
     "name": "stdout",
     "output_type": "stream",
     "text": [
      "Expected exception raised: empty list\n"
     ]
    }
   ],
   "source": [
    "try:\n",
    "    head(empty())\n",
    "except ValueError as e:\n",
    "    print(f'Expected exception raised: {e}')"
   ]
  },
  {
   "cell_type": "code",
   "execution_count": 85,
   "id": "84745ae1-0051-42bd-9078-f024b4d87adb",
   "metadata": {},
   "outputs": [
    {
     "name": "stdout",
     "output_type": "stream",
     "text": [
      "Expected exception raised: empty list\n"
     ]
    }
   ],
   "source": [
    "try:\n",
    "    tail(empty())\n",
    "except ValueError as e:\n",
    "    print(f'Expected exception raised: {e}')"
   ]
  },
  {
   "cell_type": "markdown",
   "id": "7053a6d2-7b62-4afa-a243-f39e7e95839c",
   "metadata": {},
   "source": [
    "Note that although the elements were \"inserted\" in the previous list, those lists were not modified, hence they are persistent, as required."
   ]
  },
  {
   "cell_type": "markdown",
   "id": "5c5a2b87-9c73-47a7-a302-3daa8538283e",
   "metadata": {},
   "source": [
    "# None basic operations"
   ]
  },
  {
   "cell_type": "markdown",
   "id": "5daa95aa-fe3d-4279-9562-88bed8e55729",
   "metadata": {},
   "source": [
    "Using `empty`, `is_empty`, `cons`, `head` and `tail`, we can define every list operation we like.  We define a few lists that we can use to test the implementations."
   ]
  },
  {
   "cell_type": "code",
   "execution_count": 89,
   "id": "f72bfaf8-60c4-49fe-8727-d6fd2596971f",
   "metadata": {},
   "outputs": [],
   "source": [
    "l1 = cons(1, cons(2, cons(3, cons(4, empty()))))"
   ]
  },
  {
   "cell_type": "code",
   "execution_count": 90,
   "id": "339d32f5-1339-4dfa-b0dd-aa827c237bbc",
   "metadata": {},
   "outputs": [],
   "source": [
    "l2 = cons('a', cons('b', cons('c', empty())))"
   ]
  },
  {
   "cell_type": "code",
   "execution_count": 155,
   "id": "c90a5ed4-9013-433d-85be-b1bd91bc0fbe",
   "metadata": {},
   "outputs": [],
   "source": [
    "l3 = cons(3, cons(-1, cons(7, cons(0, cons(2, empty())))))"
   ]
  },
  {
   "cell_type": "markdown",
   "id": "0d38503b-2333-46f5-8aa6-26ae9349d7c1",
   "metadata": {},
   "source": [
    "## Iterator over list elements"
   ]
  },
  {
   "cell_type": "markdown",
   "id": "272e2d81-04fc-47ed-adf7-84c028a8d532",
   "metadata": {},
   "source": [
    "Let's first implement an iterator over the elements of the list since this makes some operations more convenient."
   ]
  },
  {
   "cell_type": "code",
   "execution_count": 88,
   "id": "6494d582-e2a9-47c9-b224-379187622609",
   "metadata": {},
   "outputs": [],
   "source": [
    "def elements(xs):\n",
    "    '''Iterate over the elements of a list\n",
    "    \n",
    "    Parameters\n",
    "    ----------\n",
    "    xs: tuple[Any, tuple | None] | None\n",
    "    \n",
    "    Returns\n",
    "    -------\n",
    "    Any | None\n",
    "        elements of the list, None when all elements were returned\n",
    "    '''\n",
    "    if not is_empty(xs):\n",
    "        yield xs[0]\n",
    "        yield from elements(tail(xs))"
   ]
  },
  {
   "cell_type": "markdown",
   "id": "61089f27-07ac-4d31-a6a8-92902b472d11",
   "metadata": {},
   "source": [
    "Check by printing all elements of the list."
   ]
  },
  {
   "cell_type": "code",
   "execution_count": 91,
   "id": "5d73b59b-7983-4cdf-944e-212de58c2728",
   "metadata": {},
   "outputs": [
    {
     "name": "stdout",
     "output_type": "stream",
     "text": [
      "1\n",
      "2\n",
      "3\n",
      "4\n"
     ]
    }
   ],
   "source": [
    "for element in elements(l1):\n",
    "    print(element)"
   ]
  },
  {
   "cell_type": "markdown",
   "id": "91a8797d-0a5c-4d22-960b-9ba07b00e1d7",
   "metadata": {},
   "source": [
    "Check whether this works for empty lists too."
   ]
  },
  {
   "cell_type": "code",
   "execution_count": 112,
   "id": "bc5dc8d5-193c-490f-92ae-f618c23d44ce",
   "metadata": {},
   "outputs": [],
   "source": [
    "for element in elements(empty()):\n",
    "    print('Oops!')"
   ]
  },
  {
   "cell_type": "markdown",
   "id": "1fe85dd4-8ef9-4fac-98f6-6e6fa3e66c05",
   "metadata": {},
   "source": [
    "## Flatten"
   ]
  },
  {
   "cell_type": "markdown",
   "id": "228650a9-f635-4c97-8ffd-077af2a973a6",
   "metadata": {},
   "source": [
    "This is a function that can be used to simplify testing and visualization, it will convert a persistent list of $N$ elements into an $N$-tuple that has the same elements in the same order."
   ]
  },
  {
   "cell_type": "code",
   "execution_count": 92,
   "id": "af5154b5-3faf-4bc6-82ad-2f38d83b0f94",
   "metadata": {},
   "outputs": [],
   "source": [
    "def flatten(xs):\n",
    "    '''Flatten a list into a tuple\n",
    "    \n",
    "    Parameeters\n",
    "    -----------\n",
    "    xs: tuple[Any, tuple | None] | None\n",
    "        list to flatten\n",
    "        \n",
    "    Returns\n",
    "    -------\n",
    "    tuple[Any] | None\n",
    "        tuple representing the list or an empty list if the original list was empty\n",
    "    '''\n",
    "    if is_empty(xs):\n",
    "        return xs\n",
    "    return tuple(x for x in elements(xs))"
   ]
  },
  {
   "cell_type": "code",
   "execution_count": 93,
   "id": "99d2b45c-f0d0-4a06-9a0c-fa60c32bdea3",
   "metadata": {},
   "outputs": [
    {
     "data": {
      "text/plain": [
       "(1, 2, 3, 4)"
      ]
     },
     "execution_count": 93,
     "metadata": {},
     "output_type": "execute_result"
    }
   ],
   "source": [
    "flatten(l1)"
   ]
  },
  {
   "cell_type": "markdown",
   "id": "3d4c88a5-097d-4bbe-8e73-597be1b32463",
   "metadata": {},
   "source": [
    "## Length"
   ]
  },
  {
   "cell_type": "markdown",
   "id": "239a88ff-6ce3-4041-9956-67191f0b5a35",
   "metadata": {},
   "source": [
    "A function to determine the length of the list is easy to write."
   ]
  },
  {
   "cell_type": "code",
   "execution_count": 95,
   "id": "f2eb4408-fb61-49d4-ab2d-1a1b04f718de",
   "metadata": {},
   "outputs": [],
   "source": [
    "def length(xs):\n",
    "    '''Return the length of the list\n",
    "    \n",
    "    Parameters\n",
    "    ----------\n",
    "    xs: tuple[Any, tuple | None] | None\n",
    "        list to determine the length of\n",
    "        \n",
    "    Returns\n",
    "    -------\n",
    "    int\n",
    "        length of the list\n",
    "    '''\n",
    "    if is_empty(xs):\n",
    "        return 0\n",
    "    return 1 + length(tail(xs))"
   ]
  },
  {
   "cell_type": "code",
   "execution_count": 113,
   "id": "086811ed-3b42-4429-be25-fd9daef5ed41",
   "metadata": {},
   "outputs": [
    {
     "data": {
      "text/plain": [
       "0"
      ]
     },
     "execution_count": 113,
     "metadata": {},
     "output_type": "execute_result"
    }
   ],
   "source": [
    "length(empty())"
   ]
  },
  {
   "cell_type": "code",
   "execution_count": 97,
   "id": "0e030db5-a9c0-4006-bf7e-876718de4e7b",
   "metadata": {},
   "outputs": [
    {
     "data": {
      "text/plain": [
       "4"
      ]
     },
     "execution_count": 97,
     "metadata": {},
     "output_type": "execute_result"
    }
   ],
   "source": [
    "length(l1)"
   ]
  },
  {
   "cell_type": "code",
   "execution_count": 98,
   "id": "46089f8e-1365-4d15-878f-91476e769927",
   "metadata": {},
   "outputs": [
    {
     "data": {
      "text/plain": [
       "3"
      ]
     },
     "execution_count": 98,
     "metadata": {},
     "output_type": "execute_result"
    }
   ],
   "source": [
    "length(l2)"
   ]
  },
  {
   "cell_type": "markdown",
   "id": "dd3d129a-3645-4284-8b96-a87bf611e5ed",
   "metadata": {},
   "source": [
    "## Element by index"
   ]
  },
  {
   "cell_type": "markdown",
   "id": "b21d2f06-3613-4a45-8edc-4dc55588794b",
   "metadata": {},
   "source": [
    "We implement a function that returns an element from a list at a given index."
   ]
  },
  {
   "cell_type": "code",
   "execution_count": 94,
   "id": "689d10ba-00e3-42e9-b087-e21b1012b6f5",
   "metadata": {},
   "outputs": [],
   "source": [
    "def element_at(xs, i):\n",
    "    '''Get the element at the given index position\n",
    "    \n",
    "    Parameters\n",
    "    ----------\n",
    "    xs: tuple[Any, tuple] | None\n",
    "        list\n",
    "    i: int\n",
    "        index of the element\n",
    "        \n",
    "    Returns\n",
    "    -------\n",
    "    Any\n",
    "        element at the given index\n",
    "        \n",
    "    Raises\n",
    "    ------\n",
    "    ValueError\n",
    "        exception if the index is out of bounds\n",
    "    '''\n",
    "    if is_empty(xs) or i < 0:\n",
    "        raise ValueError('index out of bounds')\n",
    "    if i == 0:\n",
    "        return head(xs)\n",
    "    return element_at(tail(xs), i - 1)"
   ]
  },
  {
   "cell_type": "code",
   "execution_count": 99,
   "id": "64c31f4e-45a9-4fbc-9d18-02a16c98e9e1",
   "metadata": {},
   "outputs": [
    {
     "name": "stdout",
     "output_type": "stream",
     "text": [
      "a\n",
      "b\n",
      "c\n"
     ]
    }
   ],
   "source": [
    "for i in range(length(l2)):\n",
    "    print(element_at(l2, i))"
   ]
  },
  {
   "cell_type": "markdown",
   "id": "05356adf-9662-48af-8b25-a803eefc1087",
   "metadata": {},
   "source": [
    "Check whether the expected exception is raised when called with an index that is out of bounds."
   ]
  },
  {
   "cell_type": "code",
   "execution_count": 114,
   "id": "0b302327-47ca-48e6-a4a3-ccef8c52f97f",
   "metadata": {},
   "outputs": [
    {
     "name": "stdout",
     "output_type": "stream",
     "text": [
      "Expected exception raised: index out of bounds\n"
     ]
    }
   ],
   "source": [
    "try:\n",
    "    _ = element_at(l1, 6)\n",
    "except ValueError as e:\n",
    "    print(f'Expected exception raised: {e}')"
   ]
  },
  {
   "cell_type": "code",
   "execution_count": 115,
   "id": "c5986b4c-1b83-4776-acc3-849c635f50e2",
   "metadata": {},
   "outputs": [
    {
     "name": "stdout",
     "output_type": "stream",
     "text": [
      "Expected exception raised: index out of bounds\n"
     ]
    }
   ],
   "source": [
    "try:\n",
    "    _ = element_at(empty(), 0)\n",
    "except ValueError as e:\n",
    "    print(f'Expected exception raised: {e}')"
   ]
  },
  {
   "cell_type": "markdown",
   "id": "ac9fb15a-999b-4bef-8813-a862ce577147",
   "metadata": {},
   "source": [
    "## Membership"
   ]
  },
  {
   "cell_type": "markdown",
   "id": "bdce6f9d-0356-48a9-a9e2-1ba355d333e5",
   "metadata": {},
   "source": [
    "We also need a function to check whether a value occurs in a list."
   ]
  },
  {
   "cell_type": "code",
   "execution_count": 100,
   "id": "c2db41c9-6fe5-427c-b646-18e71c9a8be6",
   "metadata": {},
   "outputs": [],
   "source": [
    "def contains(xs, x):\n",
    "    '''Tests whether a value occurs in a list\n",
    "    \n",
    "    Parameters\n",
    "    ----------\n",
    "    xs: tuple[Any, tuple | None] | None\n",
    "        list to search in\n",
    "    x: Any\n",
    "        value to search for\n",
    "        \n",
    "    Returns\n",
    "    -------\n",
    "    bool\n",
    "        True if the value occurs in the list, False otherwise\n",
    "    '''\n",
    "    if is_empty(xs):\n",
    "        return False\n",
    "    if x == head(xs):\n",
    "        return True\n",
    "    return contains(tail(xs), x)"
   ]
  },
  {
   "cell_type": "code",
   "execution_count": 102,
   "id": "8f8a32e7-c528-4e0b-ab81-d28f0c0e89b9",
   "metadata": {},
   "outputs": [
    {
     "data": {
      "text/plain": [
       "True"
      ]
     },
     "execution_count": 102,
     "metadata": {},
     "output_type": "execute_result"
    }
   ],
   "source": [
    "contains(l1, 2)"
   ]
  },
  {
   "cell_type": "code",
   "execution_count": 103,
   "id": "8cd77164-2208-4a97-8b27-25be8ea0e0a8",
   "metadata": {},
   "outputs": [
    {
     "data": {
      "text/plain": [
       "False"
      ]
     },
     "execution_count": 103,
     "metadata": {},
     "output_type": "execute_result"
    }
   ],
   "source": [
    "contains(l1, 5)"
   ]
  },
  {
   "cell_type": "markdown",
   "id": "c170cc88-6c8c-4dd9-8869-667b9ad3b6be",
   "metadata": {},
   "source": [
    "The empty set should not contain an element."
   ]
  },
  {
   "cell_type": "code",
   "execution_count": 116,
   "id": "66432098-435b-4d7c-b09d-48888166e0aa",
   "metadata": {},
   "outputs": [
    {
     "data": {
      "text/plain": [
       "False"
      ]
     },
     "execution_count": 116,
     "metadata": {},
     "output_type": "execute_result"
    }
   ],
   "source": [
    "contains(empty(), 7)"
   ]
  },
  {
   "cell_type": "markdown",
   "id": "bfccf700-acb8-4ca0-b381-05ce11c9655e",
   "metadata": {},
   "source": [
    "## Inserting elements"
   ]
  },
  {
   "cell_type": "markdown",
   "id": "ac9fcbcc-c6e2-4f54-baf2-db0f7fff03cf",
   "metadata": {},
   "source": [
    "A function to create a new list with a value inserted at a given index."
   ]
  },
  {
   "cell_type": "code",
   "execution_count": 104,
   "id": "f9b0196f-83c8-43bf-b2ac-23471ccf0cf5",
   "metadata": {},
   "outputs": [],
   "source": [
    "def insert_at(xs, x, i):\n",
    "    '''Insert a value at a given position in the list\n",
    "    \n",
    "    Parameters\n",
    "    ----------\n",
    "    xs: tuple[Any, tuple | None] | None\n",
    "        list to insert in\n",
    "    x: Any\n",
    "        value to be inserted\n",
    "    i: int\n",
    "        index to insert the value at\n",
    "        \n",
    "    Returns\n",
    "    -------\n",
    "    tuple[Any, tuple | None]\n",
    "    \n",
    "    Raises\n",
    "    ------\n",
    "    ValueError\n",
    "        if the index is out of bounds\n",
    "    '''\n",
    "    if i == 0:\n",
    "        return cons(x, xs)\n",
    "    if is_empty(xs) or i < 0:\n",
    "        raise ValueError('index out of bounds')\n",
    "    return cons(head(xs), insert_at(tail(xs), x, i - 1))"
   ]
  },
  {
   "cell_type": "code",
   "execution_count": 105,
   "id": "f3ecd84b-2ba4-4991-9b27-3b5dddd2fb9d",
   "metadata": {},
   "outputs": [
    {
     "data": {
      "text/plain": [
       "(1, (2, (13, (3, (4, None)))))"
      ]
     },
     "execution_count": 105,
     "metadata": {},
     "output_type": "execute_result"
    }
   ],
   "source": [
    "insert_at(l1, 13, 2)"
   ]
  },
  {
   "cell_type": "markdown",
   "id": "bc34f8c8-802a-4d2c-b53a-f314aaeaa4d4",
   "metadata": {},
   "source": [
    "Note that the orignal list is not modified."
   ]
  },
  {
   "cell_type": "code",
   "execution_count": 106,
   "id": "fc06a5f5-9a58-4c41-920e-97f2375799a1",
   "metadata": {},
   "outputs": [
    {
     "data": {
      "text/plain": [
       "(1, (2, (3, (4, None))))"
      ]
     },
     "execution_count": 106,
     "metadata": {},
     "output_type": "execute_result"
    }
   ],
   "source": [
    "l1"
   ]
  },
  {
   "cell_type": "markdown",
   "id": "f4489a05-ba62-4d36-980f-6486dba01d62",
   "metadata": {},
   "source": [
    "Insert at the end of the list."
   ]
  },
  {
   "cell_type": "code",
   "execution_count": 107,
   "id": "0ace431a-31a0-461e-a074-e609211a5df9",
   "metadata": {},
   "outputs": [
    {
     "data": {
      "text/plain": [
       "(1, (2, (3, (4, (13, None)))))"
      ]
     },
     "execution_count": 107,
     "metadata": {},
     "output_type": "execute_result"
    }
   ],
   "source": [
    "insert_at(l1, 13, 4)"
   ]
  },
  {
   "cell_type": "markdown",
   "id": "e330d444-607a-4475-a7e7-71fb59795855",
   "metadata": {},
   "source": [
    "Insert at the beginning of the list."
   ]
  },
  {
   "cell_type": "code",
   "execution_count": 117,
   "id": "fc5de721-13ba-43b3-ae23-5d1d8b77bfbc",
   "metadata": {},
   "outputs": [
    {
     "data": {
      "text/plain": [
       "(13, (1, (2, (3, (4, None)))))"
      ]
     },
     "execution_count": 117,
     "metadata": {},
     "output_type": "execute_result"
    }
   ],
   "source": [
    "insert_at(l1, 13, 0)"
   ]
  },
  {
   "cell_type": "markdown",
   "id": "46f5b34a-6496-45f8-a94f-908ae38d11e2",
   "metadata": {},
   "source": [
    "Check that we can insert into an empty list at index 0."
   ]
  },
  {
   "cell_type": "code",
   "execution_count": 109,
   "id": "b1e7f86e-82d1-453a-935a-1b3625bf36d8",
   "metadata": {},
   "outputs": [
    {
     "data": {
      "text/plain": [
       "(13, None)"
      ]
     },
     "execution_count": 109,
     "metadata": {},
     "output_type": "execute_result"
    }
   ],
   "source": [
    "insert_at(empty(), 13, 0)"
   ]
  },
  {
   "cell_type": "markdown",
   "id": "2c9a53be-248b-404e-ac2b-b6bd0dd6f30b",
   "metadata": {},
   "source": [
    "Check that an exception is raised when the index is out of bounds."
   ]
  },
  {
   "cell_type": "code",
   "execution_count": 108,
   "id": "a0e95986-d316-4b90-a495-76ef718c65d6",
   "metadata": {},
   "outputs": [
    {
     "name": "stdout",
     "output_type": "stream",
     "text": [
      "Expected exception: index out of bounds\n"
     ]
    }
   ],
   "source": [
    "try:\n",
    "    insert_at(l1, 13, 5)\n",
    "except ValueError as e:\n",
    "    print(f'Expected exception: {str(e)}')"
   ]
  },
  {
   "cell_type": "code",
   "execution_count": 118,
   "id": "2e9bc6c6-e81f-476f-8240-8e28093c82e1",
   "metadata": {},
   "outputs": [
    {
     "name": "stdout",
     "output_type": "stream",
     "text": [
      "Expected exception: index out of bounds\n"
     ]
    }
   ],
   "source": [
    "try:\n",
    "    insert_at(empty(), 13, 1)\n",
    "except ValueError as e:\n",
    "    print(f'Expected exception: {str(e)}')"
   ]
  },
  {
   "cell_type": "markdown",
   "id": "50969006-0baf-495c-a9ff-91ee470bf5d3",
   "metadata": {},
   "source": [
    "## Removing elements"
   ]
  },
  {
   "cell_type": "markdown",
   "id": "d2d57d4a-4efc-4c01-81bf-26996da077be",
   "metadata": {},
   "source": [
    "We also want a function to create a new list with an element removed at the specified index."
   ]
  },
  {
   "cell_type": "code",
   "execution_count": 119,
   "id": "1d50853e-3a24-496d-b44a-fe8712a0cbaa",
   "metadata": {},
   "outputs": [],
   "source": [
    "def remove_at(xs, i):\n",
    "    '''Remove an element from a list\n",
    "    \n",
    "    Parameters\n",
    "    ----------\n",
    "    xs: tuple[Any, tuple | None] | None\n",
    "        list to remove an element from\n",
    "    i: int\n",
    "        index of the element to be removed\n",
    "        \n",
    "    Returns\n",
    "    -------\n",
    "    tuple[Any, tuple | None] | None\n",
    "        list with the element removed\n",
    "        \n",
    "    Raises\n",
    "    ------\n",
    "    ValueError\n",
    "        if the specified index is out of bounds\n",
    "    '''\n",
    "    if xs is None:\n",
    "        raise ValueError('index out of bounds')\n",
    "    if i == 0:\n",
    "        return tail(xs)\n",
    "    return cons(head(xs), remove_at(tail(xs), i - 1))"
   ]
  },
  {
   "cell_type": "markdown",
   "id": "f7309bde-fbfd-4bb3-ac3a-b72520bd97dd",
   "metadata": {},
   "source": [
    "Remove the second element."
   ]
  },
  {
   "cell_type": "code",
   "execution_count": 120,
   "id": "bb67d1eb-4b6f-453e-87ac-cf7facab4200",
   "metadata": {},
   "outputs": [
    {
     "data": {
      "text/plain": [
       "('a', ('c', None))"
      ]
     },
     "execution_count": 120,
     "metadata": {},
     "output_type": "execute_result"
    }
   ],
   "source": [
    "remove_at(l2, 1)"
   ]
  },
  {
   "cell_type": "markdown",
   "id": "cf3d725b-fc35-4a66-be71-50e49987139a",
   "metadata": {},
   "source": [
    "Remove the first element."
   ]
  },
  {
   "cell_type": "code",
   "execution_count": 121,
   "id": "ee268ff2-ce97-44ef-b0a4-8ca9ba16c562",
   "metadata": {},
   "outputs": [
    {
     "data": {
      "text/plain": [
       "('b', ('c', None))"
      ]
     },
     "execution_count": 121,
     "metadata": {},
     "output_type": "execute_result"
    }
   ],
   "source": [
    "remove_at(l2, 0)"
   ]
  },
  {
   "cell_type": "markdown",
   "id": "5ac4e71d-3f8e-4b20-9489-233a697c4355",
   "metadata": {},
   "source": [
    "Remove the last element."
   ]
  },
  {
   "cell_type": "code",
   "execution_count": 122,
   "id": "9a51e49f-c83c-49d8-a170-1be35db5b9a4",
   "metadata": {},
   "outputs": [
    {
     "data": {
      "text/plain": [
       "('a', ('b', None))"
      ]
     },
     "execution_count": 122,
     "metadata": {},
     "output_type": "execute_result"
    }
   ],
   "source": [
    "remove_at(l2, 2)"
   ]
  },
  {
   "cell_type": "markdown",
   "id": "af43f628-e3e4-401c-85dd-ae01466b834c",
   "metadata": {},
   "source": [
    "Removing an element from a list with a single element should return an empty list."
   ]
  },
  {
   "cell_type": "code",
   "execution_count": 124,
   "id": "861cfee5-9ed1-4289-8ffd-6f3b017fb188",
   "metadata": {},
   "outputs": [
    {
     "data": {
      "text/plain": [
       "True"
      ]
     },
     "execution_count": 124,
     "metadata": {},
     "output_type": "execute_result"
    }
   ],
   "source": [
    "is_empty(remove_at(cons(5, empty()), 0))"
   ]
  },
  {
   "cell_type": "markdown",
   "id": "b309d1bf-729f-438b-9418-704152080814",
   "metadata": {},
   "source": [
    "Check whether an exception is thrown when the index is out of bounds."
   ]
  },
  {
   "cell_type": "code",
   "execution_count": 125,
   "id": "89594115-7d68-4c18-b630-e2e9306b1ff9",
   "metadata": {},
   "outputs": [
    {
     "name": "stdout",
     "output_type": "stream",
     "text": [
      "Expected exception raised: index out of bounds\n"
     ]
    }
   ],
   "source": [
    "try:\n",
    "    remove_at(l2, 4)\n",
    "except ValueError as e:\n",
    "    print(f'Expected exception raised: {e}')"
   ]
  },
  {
   "cell_type": "code",
   "execution_count": 126,
   "id": "0c128f8e-7afd-4784-bfd6-d11f9359e79c",
   "metadata": {},
   "outputs": [
    {
     "name": "stdout",
     "output_type": "stream",
     "text": [
      "Expected exception raised: index out of bounds\n"
     ]
    }
   ],
   "source": [
    "try:\n",
    "    remove_at(empty(), 0)\n",
    "except ValueError as e:\n",
    "    print(f'Expected exception raised: {e}')"
   ]
  },
  {
   "cell_type": "markdown",
   "id": "100e8a24-c0c7-4dbb-b5a7-e92601193ed2",
   "metadata": {},
   "source": [
    "## Concatenate lists"
   ]
  },
  {
   "cell_type": "markdown",
   "id": "6ee8aac3-7464-4508-8875-fd95484f91e3",
   "metadata": {},
   "source": [
    "A function that concatenates two lists is given below."
   ]
  },
  {
   "cell_type": "code",
   "execution_count": 127,
   "id": "bb4cd3a6-eeba-465f-8d8d-f1f2927bb5b0",
   "metadata": {},
   "outputs": [],
   "source": [
    "def concat(xs, ys):\n",
    "    '''Create a list that is the concatenation of two lists\n",
    "    \n",
    "    Parameters\n",
    "    ----------\n",
    "    xs: tuple[Any, tuple | None] | None\n",
    "        first list\n",
    "    ys: tuple[Any, tuple | None] | None\n",
    "        second list\n",
    "        \n",
    "    Returns\n",
    "    -------\n",
    "    tuple[Any, tuple | None] | None\n",
    "        concatenation of the two given lists\n",
    "    '''\n",
    "    if is_empty(xs):\n",
    "        return ys\n",
    "    return cons(head(xs), concat(tail(xs), ys))"
   ]
  },
  {
   "cell_type": "code",
   "execution_count": 128,
   "id": "0a8f8b3e-8e62-4a79-8f7c-2478a5aeeaf4",
   "metadata": {},
   "outputs": [
    {
     "data": {
      "text/plain": [
       "(1, (2, (3, (4, ('a', ('b', ('c', None)))))))"
      ]
     },
     "execution_count": 128,
     "metadata": {},
     "output_type": "execute_result"
    }
   ],
   "source": [
    "concat(l1, l2)"
   ]
  },
  {
   "cell_type": "markdown",
   "id": "c62febbe-0bdb-49c1-bbdf-5d51cae09098",
   "metadata": {},
   "source": [
    "Check that this also works if one or both of the lists are empty."
   ]
  },
  {
   "cell_type": "code",
   "execution_count": 129,
   "id": "e2a7e196-96a7-4942-9f7c-f563d6a92e82",
   "metadata": {},
   "outputs": [
    {
     "data": {
      "text/plain": [
       "(1, (2, (3, (4, None))))"
      ]
     },
     "execution_count": 129,
     "metadata": {},
     "output_type": "execute_result"
    }
   ],
   "source": [
    "concat(l1, empty())"
   ]
  },
  {
   "cell_type": "code",
   "execution_count": 130,
   "id": "dd2c2e68-3077-4ce2-a2e8-db38cf461532",
   "metadata": {},
   "outputs": [
    {
     "data": {
      "text/plain": [
       "('a', ('b', ('c', None)))"
      ]
     },
     "execution_count": 130,
     "metadata": {},
     "output_type": "execute_result"
    }
   ],
   "source": [
    "concat(empty(), l2)"
   ]
  },
  {
   "cell_type": "code",
   "execution_count": 132,
   "id": "ed60297a-0649-41dc-97b9-27c04417d615",
   "metadata": {},
   "outputs": [
    {
     "data": {
      "text/plain": [
       "True"
      ]
     },
     "execution_count": 132,
     "metadata": {},
     "output_type": "execute_result"
    }
   ],
   "source": [
    "is_empty(concat(empty(), empty()))"
   ]
  },
  {
   "cell_type": "markdown",
   "id": "cad082e8-853b-4957-8412-ea6b7a7803b5",
   "metadata": {},
   "source": [
    "## Reverse list"
   ]
  },
  {
   "cell_type": "markdown",
   "id": "56da43db-589b-4208-bcd3-5e662fb2101b",
   "metadata": {},
   "source": [
    "A function that reverses a list is also easy to write."
   ]
  },
  {
   "cell_type": "code",
   "execution_count": 136,
   "id": "112c41a3-26fe-4696-a4c6-c72aa8a3f43a",
   "metadata": {},
   "outputs": [],
   "source": [
    "def reverse(xs):\n",
    "    '''Reverse the given list\n",
    "    \n",
    "    Parameters\n",
    "    ----------\n",
    "    xs: tuple[Any, tuple | None] | None\n",
    "        list to reverse\n",
    "        \n",
    "    Returns\n",
    "    -------\n",
    "    tuple[Any, tuple | None] | None\n",
    "        reversed list\n",
    "    '''\n",
    "    if is_empty(xs):\n",
    "        return xs\n",
    "    return concat(reverse(tail(xs)), cons(head(xs), empty()))"
   ]
  },
  {
   "cell_type": "code",
   "execution_count": 137,
   "id": "45206ed0-9d70-43ee-a398-b8e69b9d0a2b",
   "metadata": {},
   "outputs": [
    {
     "data": {
      "text/plain": [
       "(4, (3, (2, (1, None))))"
      ]
     },
     "execution_count": 137,
     "metadata": {},
     "output_type": "execute_result"
    }
   ],
   "source": [
    "reverse(l1)"
   ]
  },
  {
   "cell_type": "markdown",
   "id": "0a0a53ff-b232-4759-abf6-b07943129a64",
   "metadata": {},
   "source": [
    "Check whether this works for an empty list."
   ]
  },
  {
   "cell_type": "code",
   "execution_count": 138,
   "id": "c53d0819-970f-400b-b3d4-1f9844dbb01f",
   "metadata": {},
   "outputs": [
    {
     "data": {
      "text/plain": [
       "True"
      ]
     },
     "execution_count": 138,
     "metadata": {},
     "output_type": "execute_result"
    }
   ],
   "source": [
    "is_empty(reverse(empty()))"
   ]
  },
  {
   "cell_type": "markdown",
   "id": "1434242d-88a1-4a28-b50e-c8d3b52346fb",
   "metadata": {},
   "source": [
    "## Minimum and maximum element"
   ]
  },
  {
   "cell_type": "markdown",
   "id": "1ffec659-328d-4cb9-8d72-bd974e5505bb",
   "metadata": {},
   "source": [
    "A function to search for the minimum or maximum element in a list can be"
   ]
  },
  {
   "cell_type": "code",
   "execution_count": 181,
   "id": "68cb267b-b3c4-4256-ad47-9ed76b1b1602",
   "metadata": {},
   "outputs": [],
   "source": [
    "def extremum(xs, cmp):\n",
    "    '''Find extremal element in the list based on the comparator function\n",
    "    \n",
    "    Parameters\n",
    "    ----------\n",
    "    xs: tuple[Any, tuple | None] | None\n",
    "        list to search in\n",
    "    cmp: function(Any, Any) -> bool\n",
    "        function that returns True if its first parameter is less than its second parameter\n",
    "        \n",
    "    Returns\n",
    "    -------\n",
    "    Any\n",
    "        extremal element in the list\n",
    "        \n",
    "    Raises\n",
    "    ------\n",
    "    ValueError\n",
    "        if the list is empty\n",
    "    '''\n",
    "    if is_empty(xs):\n",
    "        raise ValueError('empty list')\n",
    "    if is_empty(tail(xs)):\n",
    "        return head(xs)\n",
    "    else:\n",
    "        return cmp(head(xs), extremum(tail(xs), cmp))"
   ]
  },
  {
   "cell_type": "markdown",
   "id": "d455edc7-aac1-4649-a96e-42802746cac7",
   "metadata": {},
   "source": [
    "Check whether we can find the minimum and maximum."
   ]
  },
  {
   "cell_type": "code",
   "execution_count": 153,
   "id": "1df5185a-fb14-4406-bad2-5450bf8e1690",
   "metadata": {},
   "outputs": [
    {
     "data": {
      "text/plain": [
       "1"
      ]
     },
     "execution_count": 153,
     "metadata": {},
     "output_type": "execute_result"
    }
   ],
   "source": [
    "extremum(l1, cmp=min)"
   ]
  },
  {
   "cell_type": "code",
   "execution_count": 154,
   "id": "81533122-4402-47b2-b0ee-7a6b290d1a73",
   "metadata": {},
   "outputs": [
    {
     "data": {
      "text/plain": [
       "4"
      ]
     },
     "execution_count": 154,
     "metadata": {},
     "output_type": "execute_result"
    }
   ],
   "source": [
    "extremum(l1, cmp=max)"
   ]
  },
  {
   "cell_type": "code",
   "execution_count": 156,
   "id": "111bb56a-1438-44e9-9978-e7ad27b285cd",
   "metadata": {},
   "outputs": [
    {
     "data": {
      "text/plain": [
       "-1"
      ]
     },
     "execution_count": 156,
     "metadata": {},
     "output_type": "execute_result"
    }
   ],
   "source": [
    "extremum(l3, cmp=min)"
   ]
  },
  {
   "cell_type": "code",
   "execution_count": 157,
   "id": "fd931642-69cf-43b7-9181-8d6b7bab3b6d",
   "metadata": {},
   "outputs": [
    {
     "data": {
      "text/plain": [
       "7"
      ]
     },
     "execution_count": 157,
     "metadata": {},
     "output_type": "execute_result"
    }
   ],
   "source": [
    "extremum(l3, cmp=max)"
   ]
  },
  {
   "cell_type": "markdown",
   "id": "0138edd8-936a-4642-96df-d633c99bedba",
   "metadata": {},
   "source": [
    "Does it work for a list with a single element?"
   ]
  },
  {
   "cell_type": "code",
   "execution_count": 160,
   "id": "58386c9a-9dc8-4177-be7c-fbc1d840367d",
   "metadata": {},
   "outputs": [
    {
     "data": {
      "text/plain": [
       "13"
      ]
     },
     "execution_count": 160,
     "metadata": {},
     "output_type": "execute_result"
    }
   ],
   "source": [
    "extremum(cons(13, empty()), cmp=min)"
   ]
  },
  {
   "cell_type": "markdown",
   "id": "ad557923-167f-49c2-a4b7-bb9a3f8316f5",
   "metadata": {},
   "source": [
    "Check whether the expected exception is raised when calling this with an empty list."
   ]
  },
  {
   "cell_type": "code",
   "execution_count": 159,
   "id": "1a3cb86d-aa1b-41cb-b524-c1bff2a01a3b",
   "metadata": {},
   "outputs": [
    {
     "name": "stdout",
     "output_type": "stream",
     "text": [
      "Expected exception raised: empty list\n"
     ]
    }
   ],
   "source": [
    "try:\n",
    "    extremum(empty(), cmp=min)\n",
    "except ValueError as e:\n",
    "    print(f'Expected exception raised: {e}')"
   ]
  },
  {
   "cell_type": "markdown",
   "id": "5b85a94a-c6ae-4527-af24-4c9106a9b317",
   "metadata": {},
   "source": [
    "## Filtering elements"
   ]
  },
  {
   "cell_type": "markdown",
   "id": "60475315-002d-4e7a-86fb-e5ec32d7ab28",
   "metadata": {},
   "source": [
    "We can write a simple function to filter list elements according to condition."
   ]
  },
  {
   "cell_type": "code",
   "execution_count": 182,
   "id": "5f462d2c-d00e-4aa0-a8a1-bad1303dacea",
   "metadata": {},
   "outputs": [],
   "source": [
    "def select(xs, cond):\n",
    "    '''Select elements that meet a given condition\n",
    "    \n",
    "    Parameters\n",
    "    ----------\n",
    "    xs: tuple[Any, tuple | None] | None\n",
    "        list to select from\n",
    "    cond: function(Any) -> bool\n",
    "        function that returns True if a value meets a condition\n",
    "        \n",
    "    Returns\n",
    "    -------\n",
    "    tuple[Any, tuple | None] | None\n",
    "        list with values that meet the given condition\n",
    "    '''\n",
    "    if is_empty(xs):\n",
    "        return xs\n",
    "    if cond(head(xs)):\n",
    "        return cons(head(xs), select(tail(xs), cond=cond))\n",
    "    else:\n",
    "        return select(tail(xs), cond=cond)"
   ]
  },
  {
   "cell_type": "code",
   "execution_count": 162,
   "id": "41ee6e73-349a-4fb6-89c5-8fc6eff54fd8",
   "metadata": {},
   "outputs": [
    {
     "data": {
      "text/plain": [
       "(-1, (0, None))"
      ]
     },
     "execution_count": 162,
     "metadata": {},
     "output_type": "execute_result"
    }
   ],
   "source": [
    "select(l3, lambda x: x < 1)"
   ]
  },
  {
   "cell_type": "code",
   "execution_count": 163,
   "id": "a4c421c0-7f12-4fcf-806c-66b66e7377ec",
   "metadata": {},
   "outputs": [
    {
     "data": {
      "text/plain": [
       "(3, (7, (2, None)))"
      ]
     },
     "execution_count": 163,
     "metadata": {},
     "output_type": "execute_result"
    }
   ],
   "source": [
    "select(l3, lambda x: x >= 1)"
   ]
  },
  {
   "cell_type": "markdown",
   "id": "04bf11b6-57ac-4506-9b35-729488ce6e83",
   "metadata": {},
   "source": [
    "## Sorting"
   ]
  },
  {
   "cell_type": "markdown",
   "id": "ea3dc37e-f569-45ab-9eb2-28e05f567c31",
   "metadata": {},
   "source": [
    "We can trivially implement quicksort for this data structure."
   ]
  },
  {
   "cell_type": "code",
   "execution_count": 179,
   "id": "2e8018f5-ebe0-47c4-ba8b-f9fe6e514032",
   "metadata": {},
   "outputs": [],
   "source": [
    "def qsort(xs, cmp):\n",
    "    '''Sort the elments of a list using the provided comparator\n",
    "    \n",
    "    Parameters\n",
    "    ----------\n",
    "    xs: tuple[Any, tuple | None] | None\n",
    "        list to sort\n",
    "    cmp: function(Any, Any) -> bool\n",
    "        function that determines the order on the elements\n",
    "        \n",
    "    Returns\n",
    "    -------\n",
    "    tuple[Any, tuple | None] | None\n",
    "        sorted list\n",
    "    '''\n",
    "    if is_empty(xs) or is_empty(tail(xs)):\n",
    "        return xs\n",
    "    return concat(qsort(select(tail(xs), lambda x: cmp(x, head(xs))), cmp=cmp),\n",
    "                  concat(cons(head(xs), empty()),\n",
    "                         qsort(select(tail(xs), lambda x: not cmp(x, head(xs))), cmp=cmp)\n",
    "                        )\n",
    "                 )"
   ]
  },
  {
   "cell_type": "markdown",
   "id": "8c1dc6f9-9cfe-4afe-b36c-5f668c26c7bf",
   "metadata": {},
   "source": [
    "Pro memori, the list to sort is:"
   ]
  },
  {
   "cell_type": "code",
   "execution_count": 180,
   "id": "4489737a-7029-4b47-ace8-8ceba5e31e41",
   "metadata": {},
   "outputs": [
    {
     "data": {
      "text/plain": [
       "(3, (-1, (7, (0, (2, None)))))"
      ]
     },
     "execution_count": 180,
     "metadata": {},
     "output_type": "execute_result"
    }
   ],
   "source": [
    "l3"
   ]
  },
  {
   "cell_type": "markdown",
   "id": "102e09d2-4cbc-474f-a26d-44aa8b686f23",
   "metadata": {},
   "source": [
    "Sort in ascending order."
   ]
  },
  {
   "cell_type": "code",
   "execution_count": 174,
   "id": "085deba6-0dfd-473d-8c96-649903f25f25",
   "metadata": {},
   "outputs": [
    {
     "data": {
      "text/plain": [
       "(-1, (0, (2, (3, (7, None)))))"
      ]
     },
     "execution_count": 174,
     "metadata": {},
     "output_type": "execute_result"
    }
   ],
   "source": [
    "qsort(l3, lambda x, y: x < y)"
   ]
  },
  {
   "cell_type": "markdown",
   "id": "8b206c03-a050-46ec-961f-91e05e8cfe54",
   "metadata": {},
   "source": [
    "Sort in descending order."
   ]
  },
  {
   "cell_type": "code",
   "execution_count": 175,
   "id": "c91f04a5-9667-489a-ad6d-3153725e385f",
   "metadata": {},
   "outputs": [
    {
     "data": {
      "text/plain": [
       "(7, (3, (2, (0, (-1, None)))))"
      ]
     },
     "execution_count": 175,
     "metadata": {},
     "output_type": "execute_result"
    }
   ],
   "source": [
    "qsort(l3, lambda x, y: y < x)"
   ]
  },
  {
   "cell_type": "markdown",
   "id": "21747371-d629-4eef-909d-d3f3cc0c1d93",
   "metadata": {},
   "source": [
    "Sort a sorted list."
   ]
  },
  {
   "cell_type": "code",
   "execution_count": 176,
   "id": "67a346ec-f19b-4cf6-858f-1988f2a6a29a",
   "metadata": {},
   "outputs": [
    {
     "data": {
      "text/plain": [
       "(1, (2, (3, (4, None))))"
      ]
     },
     "execution_count": 176,
     "metadata": {},
     "output_type": "execute_result"
    }
   ],
   "source": [
    "qsort(l1, lambda x, y: x < y)"
   ]
  },
  {
   "cell_type": "markdown",
   "id": "e35debcb-c90a-4e44-ab93-4f10065ddb23",
   "metadata": {},
   "source": [
    "Sort a list that is sorted in reverse."
   ]
  },
  {
   "cell_type": "code",
   "execution_count": 177,
   "id": "4d11147f-949d-4e2f-9af0-caaec7d8950e",
   "metadata": {},
   "outputs": [
    {
     "data": {
      "text/plain": [
       "(4, (3, (2, (1, None))))"
      ]
     },
     "execution_count": 177,
     "metadata": {},
     "output_type": "execute_result"
    }
   ],
   "source": [
    "qsort(l1, lambda x, y: y < x)"
   ]
  },
  {
   "cell_type": "markdown",
   "id": "b3be32df-d24f-4362-8329-ecebb3485948",
   "metadata": {},
   "source": [
    "Sort a list that only has a single element."
   ]
  },
  {
   "cell_type": "code",
   "execution_count": 178,
   "id": "a40c9483-bcf3-4080-b6bf-e60b90f1deb0",
   "metadata": {},
   "outputs": [
    {
     "data": {
      "text/plain": [
       "(13, None)"
      ]
     },
     "execution_count": 178,
     "metadata": {},
     "output_type": "execute_result"
    }
   ],
   "source": [
    "qsort(cons(13, empty()), lambda x, y: x < y)"
   ]
  },
  {
   "cell_type": "markdown",
   "id": "5ce36ee7-8bdc-453f-b96b-ba3012e4196f",
   "metadata": {},
   "source": [
    "Sort the empty list."
   ]
  },
  {
   "cell_type": "code",
   "execution_count": 170,
   "id": "a47c0592-3d0f-457d-8850-66d689b9b19a",
   "metadata": {},
   "outputs": [
    {
     "data": {
      "text/plain": [
       "True"
      ]
     },
     "execution_count": 170,
     "metadata": {},
     "output_type": "execute_result"
    }
   ],
   "source": [
    "is_empty(qsort(empty()))"
   ]
  }
 ],
 "metadata": {
  "kernelspec": {
   "display_name": "Python 3 (ipykernel)",
   "language": "python",
   "name": "python3"
  },
  "language_info": {
   "codemirror_mode": {
    "name": "ipython",
    "version": 3
   },
   "file_extension": ".py",
   "mimetype": "text/x-python",
   "name": "python",
   "nbconvert_exporter": "python",
   "pygments_lexer": "ipython3",
   "version": "3.11.2"
  }
 },
 "nbformat": 4,
 "nbformat_minor": 5
}
